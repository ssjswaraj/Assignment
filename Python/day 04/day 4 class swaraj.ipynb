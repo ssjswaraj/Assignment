{
 "cells": [
  {
   "cell_type": "code",
   "execution_count": null,
   "metadata": {},
   "outputs": [],
   "source": [
    "# #assignment - day 2\n",
    "#      *                    \n",
    "#     ***                \n",
    "#    ***** \n",
    "#     ***\n",
    "#      *"
   ]
  },
  {
   "cell_type": "code",
   "execution_count": null,
   "metadata": {},
   "outputs": [],
   "source": [
    "for i in range(1,6,2):\n",
    "    print(format(\"*\"*i,'^5'))\n",
    "for j in range(3,0,-2):\n",
    "    print(format(\"*\"*j,'^5'))\n",
    "    "
   ]
  },
  {
   "cell_type": "code",
   "execution_count": 7,
   "metadata": {},
   "outputs": [],
   "source": [
    "# assignment - day 2\n",
    "# 1010101          \n",
    "#  10101  \n",
    "#   101   \n",
    "#    1    "
   ]
  },
  {
   "cell_type": "code",
   "execution_count": 30,
   "metadata": {},
   "outputs": [
    {
     "name": "stdout",
     "output_type": "stream",
     "text": [
      "1010101\n",
      " 10101\n",
      "  101\n",
      "   1\n"
     ]
    }
   ],
   "source": [
    "n=4\n",
    "for i in range(0,n):\n",
    "        print(\" \"*i,\"10\"*(n-i-1),\"1\",sep=\"\")\n",
    "        "
   ]
  },
  {
   "cell_type": "code",
   "execution_count": 35,
   "metadata": {},
   "outputs": [
    {
     "name": "stdout",
     "output_type": "stream",
     "text": [
      " 1010101\n",
      "  10101\n",
      "   101\n",
      "    1\n"
     ]
    }
   ],
   "source": [
    "#use maths range divided by 100\n",
    "k =1010101\n",
    "for i in range(0,4):\n",
    "    print(\" \"*i,k)\n",
    "    k=k//100"
   ]
  },
  {
   "cell_type": "markdown",
   "metadata": {},
   "source": [
    "# class data type"
   ]
  },
  {
   "cell_type": "code",
   "execution_count": 38,
   "metadata": {},
   "outputs": [],
   "source": [
    "import sys"
   ]
  },
  {
   "cell_type": "code",
   "execution_count": 42,
   "metadata": {},
   "outputs": [
    {
     "name": "stdout",
     "output_type": "stream",
     "text": [
      "28\n",
      "40\n"
     ]
    }
   ],
   "source": [
    "#dynamic memory allocation\n",
    "i=10\n",
    "print(sys.getsizeof(i))\n",
    "i=10**30\n",
    "print(sys.getsizeof(i))"
   ]
  },
  {
   "cell_type": "code",
   "execution_count": 51,
   "metadata": {},
   "outputs": [
    {
     "name": "stdout",
     "output_type": "stream",
     "text": [
      "49\n"
     ]
    }
   ],
   "source": [
    "name =\"\"\n",
    "print(sys.getsizeof(name))"
   ]
  },
  {
   "cell_type": "code",
   "execution_count": 52,
   "metadata": {},
   "outputs": [
    {
     "name": "stdout",
     "output_type": "stream",
     "text": [
      "140715552838728\n",
      "140715552838760\n"
     ]
    }
   ],
   "source": [
    "#mutable\n",
    "num=10\n",
    "print(id(num))\n",
    "num=11\n",
    "print(id(num))"
   ]
  },
  {
   "cell_type": "markdown",
   "metadata": {},
   "source": [
    "# interning of int value"
   ]
  },
  {
   "cell_type": "code",
   "execution_count": 53,
   "metadata": {},
   "outputs": [
    {
     "name": "stdout",
     "output_type": "stream",
     "text": [
      "value of i : 10 id of i is : 140715552838728\n",
      "value of j : 10 id of j is : 140715552838728\n",
      "value of i : 20 id of i is : 140715552839048\n",
      "value of i : 20 value of j :  10\n"
     ]
    }
   ],
   "source": [
    "i = 10\n",
    "print(\"value of i :\",i,\"id of i is :\",id(i))\n",
    "j=10\n",
    "print(\"value of j :\",j,\"id of j is :\",id(j))\n",
    "i=20\n",
    "print(\"value of i :\",i,\"id of i is :\",id(i))\n",
    "print(\"value of i :\",i,\"value of j : \",j)"
   ]
  },
  {
   "cell_type": "code",
   "execution_count": 75,
   "metadata": {},
   "outputs": [
    {
     "data": {
      "text/plain": [
       "(1, 2)"
      ]
     },
     "execution_count": 75,
     "metadata": {},
     "output_type": "execute_result"
    }
   ],
   "source": [
    "(0.5).as_integer_ratio()"
   ]
  },
  {
   "cell_type": "code",
   "execution_count": 77,
   "metadata": {},
   "outputs": [
    {
     "data": {
      "text/plain": [
       "(1-2j)"
      ]
     },
     "execution_count": 77,
     "metadata": {},
     "output_type": "execute_result"
    }
   ],
   "source": [
    "(1+2j).conjugate()"
   ]
  }
 ],
 "metadata": {
  "kernelspec": {
   "display_name": "Python 3",
   "language": "python",
   "name": "python3"
  },
  "language_info": {
   "codemirror_mode": {
    "name": "ipython",
    "version": 3
   },
   "file_extension": ".py",
   "mimetype": "text/x-python",
   "name": "python",
   "nbconvert_exporter": "python",
   "pygments_lexer": "ipython3",
   "version": "3.11.4"
  }
 },
 "nbformat": 4,
 "nbformat_minor": 5
}
