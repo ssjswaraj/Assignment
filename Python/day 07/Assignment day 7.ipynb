{
 "cells": [
  {
   "cell_type": "markdown",
   "metadata": {},
   "source": [
    "# Q1"
   ]
  },
  {
   "cell_type": "markdown",
   "metadata": {},
   "source": [
    "1. Given a string of odd length greater than 7, return a new string made of the middle three characters\n",
    "of a given String\n",
    "Given:\n",
    "str1 = \"RakeshzipPetabb\"\n",
    "Output\n",
    "zip\n",
    "str2 = \"JazzbonAyxx\"\n",
    "Output\n",
    "bon"
   ]
  },
  {
   "cell_type": "code",
   "execution_count": 1,
   "metadata": {},
   "outputs": [
    {
     "name": "stdout",
     "output_type": "stream",
     "text": [
      "enter the srting :JazzbonAyxx\n",
      "bon\n"
     ]
    }
   ],
   "source": [
    "str1 = input(\"enter the srting :\")\n",
    "mid=len(str1)//2\n",
    "print(str1[mid-1:mid+2])"
   ]
  },
  {
   "cell_type": "markdown",
   "metadata": {},
   "source": [
    "# Q2"
   ]
  },
  {
   "cell_type": "markdown",
   "metadata": {},
   "source": [
    "2. Given two strings, s1 and s2, create a new string by appending s2 in the middle of s1\n",
    "Given:\n",
    "s1 = \"Ault\"\n",
    "s2 = \"Kelly\"\n",
    "Expected Output:\n",
    "AuKellylt"
   ]
  },
  {
   "cell_type": "code",
   "execution_count": 31,
   "metadata": {},
   "outputs": [
    {
     "name": "stdout",
     "output_type": "stream",
     "text": [
      "['A', 'u', 'Kelly', 'l', 't']\n",
      "AuKellylt\n"
     ]
    }
   ],
   "source": [
    "s1 = \"Ault\"\n",
    "s2 = \"Kelly\"\n",
    "s1_list=list(s1)\n",
    "# s2_list=list(s2)\n",
    "mid=len(s1)//2\n",
    "s1_list.insert(mid,s2)\n",
    "print(s1_list)\n",
    "s1=\"\".join(s1_list)\n",
    "print(s1)\n"
   ]
  },
  {
   "cell_type": "markdown",
   "metadata": {},
   "source": [
    "# q3"
   ]
  },
  {
   "cell_type": "markdown",
   "metadata": {},
   "source": [
    "3. two strings, s1, and s2 return a new string made of the first, middle, and last characters each input\n",
    "string\n",
    "Given:\n",
    "s1 = \"America\"\n",
    "s2 = \"Japan\"\n",
    "Expected Output:\n",
    "AJrpan"
   ]
  },
  {
   "cell_type": "code",
   "execution_count": 41,
   "metadata": {},
   "outputs": [
    {
     "name": "stdout",
     "output_type": "stream",
     "text": [
      "AJrpan\n"
     ]
    }
   ],
   "source": [
    "s1 = \"America\"\n",
    "s2 = \"Japan\"\n",
    "s=[]\n",
    "mid1=s1[len(s1)//2]\n",
    "mid2=s2[len(s2)//2]\n",
    "s.append(s1[0])\n",
    "s.append(s2[0])\n",
    "s.append(mid1)\n",
    "s.append(mid2)\n",
    "s.append(s1[-1])\n",
    "s.append(s2[-1])\n",
    "print(\"\".join(s))\n",
    "    "
   ]
  },
  {
   "cell_type": "code",
   "execution_count": null,
   "metadata": {},
   "outputs": [],
   "source": [
    "#another method\n",
    "s1 = \"America\"\n",
    "s2 = \"Japan\"\n"
   ]
  },
  {
   "cell_type": "markdown",
   "metadata": {},
   "source": [
    "# Q4"
   ]
  },
  {
   "cell_type": "markdown",
   "metadata": {},
   "source": [
    "4. Given an input string with the combination of the lower and upper case arrange characters in such a\n",
    "way that all lowercase letters should come first."
   ]
  },
  {
   "cell_type": "code",
   "execution_count": 58,
   "metadata": {},
   "outputs": [
    {
     "name": "stdout",
     "output_type": "stream",
     "text": [
      "['m', 'e', 'r', 'i', 'c', 'a', 'A']\n"
     ]
    },
    {
     "data": {
      "text/plain": [
       "'mericaA'"
      ]
     },
     "execution_count": 58,
     "metadata": {},
     "output_type": "execute_result"
    }
   ],
   "source": [
    "s1 = \"America\"\n",
    "uppercase=[]\n",
    "all1=[]\n",
    "for ele in s1:   \n",
    "    if ele < 'a':\n",
    "        uppercase.append(ele)\n",
    "    else:\n",
    "        all1.append(ele)\n",
    "print(all1+uppercase)\n",
    "\"\".join(all1+uppercase)"
   ]
  },
  {
   "cell_type": "code",
   "execution_count": 65,
   "metadata": {},
   "outputs": [
    {
     "name": "stdout",
     "output_type": "stream",
     "text": [
      "mericaA\n"
     ]
    }
   ],
   "source": [
    "s1=\"America\"\n",
    "upp=[]\n",
    "for i,ele in enumerate(s1):\n",
    "    if (ele.isupper() == True):\n",
    "        del s1[i]\n",
    "        upp.append\n",
    "    else:\n",
    "        upp.append(ele)\n",
    "print(\"\".join(lower+upp))"
   ]
  },
  {
   "cell_type": "markdown",
   "metadata": {},
   "source": [
    "# q5"
   ]
  },
  {
   "cell_type": "markdown",
   "metadata": {},
   "source": [
    "5. create a third-string made of the first char of s1 then the last char of s2, Next, the second char of s1\n",
    "and second last char of s2, and so on. Any leftover chars go at the end of the result.\n",
    "Given:\n",
    "s1 = \"Abc\"\n",
    "s2 = \"Xyz\"\n",
    "Expected Output:\n",
    "AzbycX"
   ]
  },
  {
   "cell_type": "code",
   "execution_count": 82,
   "metadata": {},
   "outputs": [
    {
     "name": "stdout",
     "output_type": "stream",
     "text": [
      "AzbycX"
     ]
    }
   ],
   "source": [
    "s1 = \"Abc\"\n",
    "s2 = \"Xyz\"\n",
    "s2_list=list(s2)\n",
    "s2_list.reverse()\n",
    "s2=\"\".join(s2_list)\n",
    "\n",
    "for e1,e2 in zip(s1,s2_list):\n",
    "    print(e1,e2,sep=\"\",end=\"\")\n"
   ]
  },
  {
   "cell_type": "markdown",
   "metadata": {},
   "source": [
    "# q6"
   ]
  },
  {
   "cell_type": "markdown",
   "metadata": {},
   "source": [
    "6. Find all occurrences of “USA” from right to left in a given string ignoring the case. also display the\n",
    "starting position\n",
    "Given:\n",
    "str1 = \"Welcome to USA. usa awesome, isn't it?\n",
    "Expected answer : 16, 11"
   ]
  },
  {
   "cell_type": "code",
   "execution_count": 207,
   "metadata": {},
   "outputs": [
    {
     "name": "stdout",
     "output_type": "stream",
     "text": [
      "2\n",
      "16\n",
      "11\n"
     ]
    }
   ],
   "source": [
    "str1 = \"Welcome to USA. usa awesome, isn't it?\"\n",
    "print(str1.upper().count(\"USA\"))\n",
    "occur1=str1.upper().find(\"USA\")\n",
    "print(str1.upper().find(\"USA\",occur1+3,len(str1)))\n",
    "print(str1.upper().find(\"USA\"))\n"
   ]
  },
  {
   "cell_type": "code",
   "execution_count": 280,
   "metadata": {},
   "outputs": [
    {
     "name": "stdout",
     "output_type": "stream",
     "text": [
      "[16, 11]\n"
     ]
    }
   ],
   "source": [
    "#using while loop....store the ids where we are getting \"USA\"\n",
    "str1 = \"Welcome to USA. usa awesome, isn't it?\"\n",
    "i=0\n",
    "idx=[]\n",
    "count=0\n",
    "while(i<len(str1)):\n",
    "    if (str1.upper().find(\"USA\",i,len(str1))) > -1:\n",
    "        idx.append(str1.upper().find(\"USA\",i,len(str1)))\n",
    "    i=i+1\n",
    "# print(idx)\n",
    "uniq_idx=[]\n",
    "for e in idx:\n",
    "    if e not in uniq_idx:\n",
    "        uniq_idx.append(e)\n",
    "\n",
    "print(uniq_idx[::-1])\n"
   ]
  },
  {
   "cell_type": "code",
   "execution_count": 1,
   "metadata": {},
   "outputs": [
    {
     "name": "stdout",
     "output_type": "stream",
     "text": [
      "[16, 11]\n"
     ]
    }
   ],
   "source": [
    "#using while loop....store the ids where we are getting \"USA\"\n",
    "str1 = \"Welcome to USA. usa awesome, isn't it?\"\n",
    "i=0\n",
    "idx=[]\n",
    "count=0\n",
    "while(i<len(str1)):\n",
    "    if (str1.upper().find(\"USA\",i,len(str1))) > -1:\n",
    "        if (str1.upper().find(\"USA\",i,len(str1))) not in idx:\n",
    "            idx.append(str1.upper().find(\"USA\",i,len(str1)))\n",
    "    i=i+1\n",
    "print(idx[::-1])\n"
   ]
  },
  {
   "cell_type": "markdown",
   "metadata": {},
   "source": [
    "# q7"
   ]
  },
  {
   "cell_type": "markdown",
   "metadata": {},
   "source": [
    "7. Find all overlapping occurrences of given substring in given string\n",
    "Ex.\n",
    "String = 0111\n",
    "Substring = 11\n",
    "Expected answer : 2\n",
    "String : ANANAAAANNN\n",
    "Substring: ANA\n",
    "Expected answer : 2\n",
    "String : ANANAAAANNN\n",
    "Substring: AA\n",
    "Expected answer : 3"
   ]
  },
  {
   "cell_type": "code",
   "execution_count": 237,
   "metadata": {},
   "outputs": [
    {
     "name": "stdout",
     "output_type": "stream",
     "text": [
      "3\n"
     ]
    }
   ],
   "source": [
    "# st7 =input(\"enter string : \")\n",
    "# substring=input(\"enter substring\")\n",
    "st7 =\"ANANAAAANNN\"\n",
    "substring=\"AA\"\n",
    "\n",
    "oc=0\n",
    "for i,ele in enumerate(st7):\n",
    "    if (st7[i:i+len(substring)]==substring):\n",
    "        oc+=1\n",
    "print(oc)"
   ]
  },
  {
   "cell_type": "markdown",
   "metadata": {},
   "source": [
    "# q8"
   ]
  },
  {
   "cell_type": "markdown",
   "metadata": {},
   "source": [
    "8. Given a string in format Emp_name:Emp_id\n",
    "If emp_id is perfect square -- > Print only vowels from emp_name\n",
    "Else if emp_id is prime -- > print alternate characters from emp_name\n",
    "Else if emp_id is odd -- > print sum of ascii values of characters in emp_name\n",
    "Else print None"
   ]
  },
  {
   "cell_type": "code",
   "execution_count": 55,
   "metadata": {},
   "outputs": [
    {
     "name": "stdout",
     "output_type": "stream",
     "text": [
      "ACSII total : 520\n"
     ]
    }
   ],
   "source": [
    "import math\n",
    "str8=\"Swait:27\"\n",
    "detail=str8.split(sep=\":\")\n",
    "\n",
    "t1=int(math.sqrt(int(detail[1])))\n",
    "t2=math.sqrt(int(detail[1]))\n",
    "vo=['a','e','i','o','u']\n",
    "\n",
    "# PRIME\n",
    "import math\n",
    "p=False\n",
    "for i in range(2,t1+1):\n",
    "    if (int(detail[1])%i==0):\n",
    "        p=False\n",
    "        break\n",
    "else:\n",
    "    p=True\n",
    "\n",
    "\n",
    "total=0\n",
    "########################\n",
    "\n",
    "if t1==t2:\n",
    "    for ele in detail[0]:\n",
    "        if ele in vo:\n",
    "            print(ele,end=\"\")\n",
    "\n",
    "elif(p==True):\n",
    "    for i,e in enumerate(detail[0]):\n",
    "        if (i%2==0):\n",
    "            print(e,end=\"\")\n",
    "\n",
    "elif (p==False) and (int(detail[1])%2!=0):\n",
    "#     print(detail[0])\n",
    "    for e in detail[0]:\n",
    "        total=total+ord(e)\n",
    "    print(\"ACSII total :\",total)\n",
    "else:\n",
    "    print(\"none\")\n"
   ]
  },
  {
   "cell_type": "markdown",
   "metadata": {},
   "source": [
    "# q9"
   ]
  },
  {
   "cell_type": "markdown",
   "metadata": {},
   "source": [
    "9. Find all mobile number mentioned in given paragraph of text\n",
    "Mobile number is always a 10 digit number no spaces no special characters\n",
    "Ex. Input= “this is a good number 9089786756 and 8900000000 is a desired number”\n",
    "Expected output: 9089786756 , 8900000000\n"
   ]
  },
  {
   "cell_type": "code",
   "execution_count": 165,
   "metadata": {},
   "outputs": [
    {
     "name": "stdout",
     "output_type": "stream",
     "text": [
      "all numbers in a string [9, 0, 8, 9, 7, 8, 6, 7, 5, 6, 8, 9, 0, 0, 0, 0, 0, 0, 0, 0]\n",
      "mobile numbers are :9089786756 8900000000 "
     ]
    }
   ],
   "source": [
    "Input= \"this is a good number 9089786756 and 8900000000 is a desired number\"\n",
    "input_list=list(Input)\n",
    "idx=[]\n",
    "for ele in input_list:\n",
    "    if (ele.isdigit()):\n",
    "        idx.append(int(ele))\n",
    "count=0\n",
    "print(\"all numbers in a string\", idx)\n",
    "print(\"mobile numbers are :\",end=\"\")\n",
    "for i in idx:\n",
    "    print(i,end=\"\")\n",
    "    count+=1\n",
    "    if(count%10==0):\n",
    "        print(\" \",end=\"\")"
   ]
  },
  {
   "cell_type": "code",
   "execution_count": 166,
   "metadata": {},
   "outputs": [
    {
     "name": "stdout",
     "output_type": "stream",
     "text": [
      "index of first number of mobile no in input_list [22, 37]\n",
      "mobile numbers are :9089786756 8900000000 "
     ]
    }
   ],
   "source": [
    "Input= \"this is a good number 9089786756 and 8900000000 is a desired number\"\n",
    "input_list=list(Input)\n",
    "idx=[]\n",
    "for i,e in enumerate(input_list):\n",
    "    if(e.isdigit()==True):\n",
    "        if (int(ord(input_list[i-1])) < 48) or (ord(input_list[i-1]) > 57):\n",
    "            idx.append(i)\n",
    "print(\"index of first number of mobile no in input_list\", idx)\n",
    "print(\"mobile numbers are :\",end=\"\")\n",
    "for e in idx:\n",
    "    print(\"\".join(input_list[e:e+10:1]),end = \" \" )\n"
   ]
  },
  {
   "cell_type": "markdown",
   "metadata": {},
   "source": [
    "# q10"
   ]
  },
  {
   "cell_type": "markdown",
   "metadata": {},
   "source": [
    "10. Count occurrence of spaces, and special characters in given string\n",
    "Ex.\n",
    "Input: Fgh^f #89\n",
    "Expected output :\n",
    "Spaces: 1\n",
    "Special characters: 2"
   ]
  },
  {
   "cell_type": "code",
   "execution_count": 182,
   "metadata": {},
   "outputs": [
    {
     "name": "stdout",
     "output_type": "stream",
     "text": [
      "spaces are : 1 \n",
      "special characters are : 2\n"
     ]
    }
   ],
   "source": [
    "asc=[]\n",
    "for i in range(ord('a'),ord('z')+1):\n",
    "    asc.append(i)\n",
    "for i in range(ord('A'),ord('Z')+1):\n",
    "    asc.append(i)\n",
    "for i in range(ord('0'),ord('9')+1):\n",
    "    asc.append(i)\n",
    "\n",
    "Input= \"Fgh^f #89\"\n",
    "spaces=0\n",
    "special=0\n",
    "# print(asc)\n",
    "for e in Input:\n",
    "    if ord(e) not in asc:\n",
    "        if (ord(e)==32):\n",
    "            spaces+=1\n",
    "        else:\n",
    "            special+=1\n",
    "print(\"spaces are :\",spaces,\"\\nspecial characters are :\",special)\n",
    "            "
   ]
  },
  {
   "cell_type": "markdown",
   "metadata": {},
   "source": [
    "# q11"
   ]
  },
  {
   "cell_type": "markdown",
   "metadata": {},
   "source": [
    "11. Given a paragraph count number of words, sentences. Every sentence ends with either . or ? or !\n",
    "Print Count of how many normal sentences ending with . , how many interrogative sentences ( ending\n",
    "with ?) and how many exclamatory sentences ( ending with !).\n",
    "Ex.\n",
    "Input : “I am at CDAC. What about you? I am surprised by current weather!”\n",
    "Normal sentence : 1\n",
    "Interrogative: 1\n",
    "Exclamatory : 1"
   ]
  },
  {
   "cell_type": "code",
   "execution_count": 193,
   "metadata": {},
   "outputs": [
    {
     "name": "stdout",
     "output_type": "stream",
     "text": [
      "total words 13\n",
      "Normal sentence : 1\n",
      "Interrogative : 1\n",
      "Exclamatory : 1\n"
     ]
    }
   ],
   "source": [
    "norm=ord('.')\n",
    "inter=ord('?')\n",
    "exc=ord('!')\n",
    "space_asc=ord(\" \")\n",
    "space_count=0\n",
    "norm_count=0\n",
    "inter_count=0\n",
    "exc_count=0\n",
    "Input=\"I am at CDAC. What about you? I am surprised by current weather!\"\n",
    "for e in Input:\n",
    "    if ord(e) == space_asc:\n",
    "        space_count+=1\n",
    "    elif ord(e) == norm:\n",
    "        norm_count+=1\n",
    "    elif ord(e) == inter:\n",
    "        inter_count+=1\n",
    "    elif ord(e) == exc:\n",
    "        exc_count+=1\n",
    "print(\"total words\",space_count+1)\n",
    "print(\"Normal sentence :\",norm_count)\n",
    "print(\"Interrogative :\",inter_count)\n",
    "print(\"Exclamatory :\",exc_count)\n"
   ]
  },
  {
   "cell_type": "markdown",
   "metadata": {},
   "source": [
    "# q12"
   ]
  },
  {
   "cell_type": "markdown",
   "metadata": {},
   "source": [
    "12. You are given a string S and width w.\n",
    "Your task is to wrap the string into a paragraph of width w\n",
    "Example .\n",
    "String : “ABCDEFGHIJKLIMNOQRSTUVWXYZ”\n",
    "Width: 4\n",
    "Output:\n",
    "ABCD\n",
    "EFGH\n",
    "IJKL\n",
    "IMNO\n",
    "QRST\n",
    "UVWX\n",
    "YZ"
   ]
  },
  {
   "cell_type": "code",
   "execution_count": 200,
   "metadata": {},
   "outputs": [
    {
     "name": "stdout",
     "output_type": "stream",
     "text": [
      "ABCD\n",
      "EFGH\n",
      "IJKL\n",
      "IMNO\n",
      "QRST\n",
      "UVWX\n",
      "YZ\n"
     ]
    }
   ],
   "source": [
    "String = \"ABCDEFGHIJKLIMNOQRSTUVWXYZ\"\n",
    "width = 4\n",
    "\n",
    "for i in range(0,len(String),width):\n",
    "    for k in range(4):\n",
    "        if (i+k)< len(String):\n",
    "            print(String[i+k],end=\"\")\n",
    "    print(\"\")"
   ]
  },
  {
   "cell_type": "code",
   "execution_count": 201,
   "metadata": {},
   "outputs": [
    {
     "name": "stdout",
     "output_type": "stream",
     "text": [
      "ABCD\n",
      "EFGH\n",
      "IJKL\n",
      "IMNO\n",
      "QRST\n",
      "UVWX\n",
      "YZ"
     ]
    }
   ],
   "source": [
    "#another method\n",
    "String = \"ABCDEFGHIJKLIMNOQRSTUVWXYZ\"\n",
    "width = 4\n",
    "count=0\n",
    "for e in String:\n",
    "    print(e,end=\"\")\n",
    "    count+=1\n",
    "    if count%4==0:\n",
    "        print(\"\")\n"
   ]
  }
 ],
 "metadata": {
  "kernelspec": {
   "display_name": "Python 3",
   "language": "python",
   "name": "python3"
  },
  "language_info": {
   "codemirror_mode": {
    "name": "ipython",
    "version": 3
   },
   "file_extension": ".py",
   "mimetype": "text/x-python",
   "name": "python",
   "nbconvert_exporter": "python",
   "pygments_lexer": "ipython3",
   "version": "3.7.4"
  }
 },
 "nbformat": 4,
 "nbformat_minor": 5
}
