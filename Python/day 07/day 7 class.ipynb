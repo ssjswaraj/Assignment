{
 "cells": [
  {
   "cell_type": "markdown",
   "metadata": {},
   "source": [
    "# day 5 slides"
   ]
  },
  {
   "cell_type": "markdown",
   "metadata": {},
   "source": [
    "#packing and unpacking"
   ]
  },
  {
   "cell_type": "code",
   "execution_count": 7,
   "metadata": {},
   "outputs": [
    {
     "name": "stdout",
     "output_type": "stream",
     "text": [
      "1 2\n",
      "3 4 5 6 7\n"
     ]
    }
   ],
   "source": [
    "rollno=[1,2,3,4,5,6,7]\n",
    "f1,f2,*f = rollno\n",
    "print(f1,f2)\n",
    "print(*f)"
   ]
  },
  {
   "cell_type": "code",
   "execution_count": 8,
   "metadata": {},
   "outputs": [
    {
     "name": "stdout",
     "output_type": "stream",
     "text": [
      "23 45\n",
      "\n"
     ]
    }
   ],
   "source": [
    "rollno=[1,2,3,4,5,6,7]\n",
    "roll_1=[23,45]\n",
    "f1,f2,*f=roll_1\n",
    "print(f1,f2)\n",
    "print(*f)\n"
   ]
  },
  {
   "cell_type": "markdown",
   "metadata": {},
   "source": [
    "# sorted"
   ]
  },
  {
   "cell_type": "code",
   "execution_count": 20,
   "metadata": {},
   "outputs": [
    {
     "name": "stdout",
     "output_type": "stream",
     "text": [
      "[101, 201, 301, 405, 11, 5, 45, 23]\n"
     ]
    }
   ],
   "source": [
    "itemids=[101,201,301,405,11,5,45,23]\n",
    "sorted(itemids,reverse=True)\n",
    "# itemids.sort()\n",
    "print(itemids)"
   ]
  },
  {
   "cell_type": "code",
   "execution_count": 25,
   "metadata": {},
   "outputs": [
    {
     "data": {
      "text/plain": [
       "[[11, 23], [11, 90], [101, 201], [301, 405]]"
      ]
     },
     "execution_count": 25,
     "metadata": {},
     "output_type": "execute_result"
    }
   ],
   "source": [
    "itemids=[[101,201],[301,405],[11,90],[11,23]]\n",
    "sorted(itemids)"
   ]
  },
  {
   "cell_type": "markdown",
   "metadata": {},
   "source": [
    "take a list of list, sort all the list inside original list and finally sort the outer list."
   ]
  },
  {
   "cell_type": "code",
   "execution_count": 35,
   "metadata": {},
   "outputs": [
    {
     "name": "stdout",
     "output_type": "stream",
     "text": [
      "[[40, 20], [30, 40], [30, 40, 100], [30, 60], [10, 20]]\n",
      "[[10, 20], [30, 40], [30, 40, 100], [30, 60], [40, 20]]\n"
     ]
    }
   ],
   "source": [
    "itemids=[[40,20],[30,40],[30,40,100],[30,60],[10,20]]\n",
    "for e in itemids:\n",
    "    e=sorted(e)\n",
    "print(itemids)\n",
    "itemids=sorted(itemids)\n",
    "print(itemids)"
   ]
  },
  {
   "cell_type": "markdown",
   "metadata": {},
   "source": [
    "take a list of marks and select all marks which are >=16\n",
    "marks=[60,23,31,32,35,32,18,9]"
   ]
  },
  {
   "cell_type": "code",
   "execution_count": 44,
   "metadata": {},
   "outputs": [
    {
     "name": "stdout",
     "output_type": "stream",
     "text": [
      "[60, 23, 31, 32, 35, 32, 18]\n",
      "['pass', 'pass', 'pass', 'pass', 'pass', 'pass', 'pass', 'fail']\n"
     ]
    }
   ],
   "source": [
    "marks=[60,23,31,32,35,32,18,9]\n",
    "pass_marks=[ e for e in marks if e >= 16]\n",
    "result=[ 'pass' if e >= 16  else 'fail' for e in marks]\n",
    "print(pass_marks)\n",
    "print(result)"
   ]
  },
  {
   "cell_type": "markdown",
   "metadata": {},
   "source": [
    "# string"
   ]
  },
  {
   "cell_type": "code",
   "execution_count": null,
   "metadata": {},
   "outputs": [],
   "source": []
  },
  {
   "cell_type": "code",
   "execution_count": null,
   "metadata": {},
   "outputs": [],
   "source": [
    "# simple calculator\n",
    "nos=input(\"enter two numbers separated by comma\")\n",
    "no1=input(\"enter first num\")"
   ]
  },
  {
   "cell_type": "code",
   "execution_count": 56,
   "metadata": {},
   "outputs": [
    {
     "name": "stdout",
     "output_type": "stream",
     "text": [
      "enter two numbers separated by comma12,8\n",
      "1. addition\n",
      "2. substraction\n",
      "3. division\n",
      "4. multiplication1\n",
      "addition\n",
      "total :  20\n"
     ]
    }
   ],
   "source": [
    "nos=input(\"enter two numbers separated by comma\")\n",
    "num1,num2=nos.split(\",\")\n",
    "choice=int(input(\"1. addition\\n2. substraction\\n3. division\\n4. multiplication\"))\n",
    "match choice:\n",
    "    case 1:\n",
    "        print(\"addition\")\n",
    "        print(\"total : \",int(num1)+int(num2))"
   ]
  }
 ],
 "metadata": {
  "kernelspec": {
   "display_name": "Python 3",
   "language": "python",
   "name": "python3"
  },
  "language_info": {
   "codemirror_mode": {
    "name": "ipython",
    "version": 3
   },
   "file_extension": ".py",
   "mimetype": "text/x-python",
   "name": "python",
   "nbconvert_exporter": "python",
   "pygments_lexer": "ipython3",
   "version": "3.7.4"
  }
 },
 "nbformat": 4,
 "nbformat_minor": 5
}
