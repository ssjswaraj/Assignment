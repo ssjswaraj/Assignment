{
 "cells": [
  {
   "cell_type": "markdown",
   "id": "5eb2e4bc",
   "metadata": {},
   "source": [
    "# practice"
   ]
  },
  {
   "cell_type": "markdown",
   "id": "3272718d",
   "metadata": {},
   "source": [
    "make a list and from that list make a list of number which are divisible by 5 and divisible by 11"
   ]
  },
  {
   "cell_type": "code",
   "execution_count": 5,
   "id": "8810b691",
   "metadata": {},
   "outputs": [
    {
     "name": "stdout",
     "output_type": "stream",
     "text": [
      "[50, 55, 60, 65, 70, 75, 80, 85, 90, 95, 100]\n",
      "[55, 66, 77, 88, 99]\n"
     ]
    }
   ],
   "source": [
    "l1=[]\n",
    "l2=[]\n",
    "for i in range(50,101):\n",
    "    if (i%5==0):\n",
    "        l1.append(i)   \n",
    "    if (i%11==0):\n",
    "        l2.append(i)\n",
    "print(l1)\n",
    "print(l2)"
   ]
  },
  {
   "cell_type": "markdown",
   "id": "a77a6a65",
   "metadata": {},
   "source": [
    "take a number from user and check wheather it is armstrong number or not"
   ]
  },
  {
   "cell_type": "code",
   "execution_count": 26,
   "id": "ffcd8d9d",
   "metadata": {},
   "outputs": [
    {
     "name": "stdout",
     "output_type": "stream",
     "text": [
      "enter the number:100\n",
      "not armstrong\n"
     ]
    }
   ],
   "source": [
    "#python logic\n",
    "num=input(\"enter the number:\")\n",
    "# num=str(153)\n",
    "power=len(num)\n",
    "total=0\n",
    "for digit in num:\n",
    "    total=total+int(digit)**power\n",
    "if (total==int(num)):\n",
    "    print(\"armstong\")\n",
    "else:\n",
    "    print(\"not armstrong\")\n"
   ]
  },
  {
   "cell_type": "code",
   "execution_count": 27,
   "id": "6d949798",
   "metadata": {},
   "outputs": [
    {
     "name": "stdout",
     "output_type": "stream",
     "text": [
      "enter a number153\n",
      "153\n"
     ]
    }
   ],
   "source": [
    "# C type code\n",
    "num=input(\"enter a number\")\n",
    "num_digits=len(num)\n",
    "num_int=int(num)\n",
    "total = 0\n",
    "while(num_int>0):\n",
    "    digit =num_int%10\n",
    "    total +=digit**num_digits\n",
    "    num_int=num_int//10\n",
    "print(total)"
   ]
  },
  {
   "cell_type": "markdown",
   "id": "3f818d9d",
   "metadata": {},
   "source": [
    "# day 6 - day 5 slides"
   ]
  },
  {
   "cell_type": "markdown",
   "id": "5361c18a",
   "metadata": {},
   "source": [
    "WAp given list of elements with repititive values, create a new list which will not have repititive values\n"
   ]
  },
  {
   "cell_type": "code",
   "execution_count": 29,
   "id": "32518a6c",
   "metadata": {},
   "outputs": [
    {
     "name": "stdout",
     "output_type": "stream",
     "text": [
      "[10, 20, 30, 40]\n"
     ]
    }
   ],
   "source": [
    "l1=[10,10,20,30,40]\n",
    "l2=[]\n",
    "for e in l1:\n",
    "    if e not in l2:\n",
    "        l2.append(e)\n",
    "print(l2)"
   ]
  },
  {
   "cell_type": "code",
   "execution_count": 30,
   "id": "e020db4e",
   "metadata": {},
   "outputs": [
    {
     "data": {
      "text/plain": [
       "[10, 10, 20, 30, 40, 10, 20, 30, 40]"
      ]
     },
     "execution_count": 30,
     "metadata": {},
     "output_type": "execute_result"
    }
   ],
   "source": [
    "#another logic using count\n",
    "l1=[10,10,20,30,40]\n",
    "l2=[]\n",
    "for e in "
   ]
  },
  {
   "cell_type": "markdown",
   "id": "c622ef6b",
   "metadata": {},
   "source": [
    "# self"
   ]
  },
  {
   "cell_type": "code",
   "execution_count": 2,
   "id": "ecef9fe9",
   "metadata": {},
   "outputs": [],
   "source": [
    "s=[10,20,30,40,50]"
   ]
  },
  {
   "cell_type": "code",
   "execution_count": 3,
   "id": "8b49d942",
   "metadata": {},
   "outputs": [
    {
     "data": {
      "text/plain": [
       "True"
      ]
     },
     "execution_count": 3,
     "metadata": {},
     "output_type": "execute_result"
    }
   ],
   "source": [
    "x= 20\n",
    "x in s"
   ]
  },
  {
   "cell_type": "code",
   "execution_count": 4,
   "id": "df9e7762",
   "metadata": {},
   "outputs": [
    {
     "data": {
      "text/plain": [
       "True"
      ]
     },
     "execution_count": 4,
     "metadata": {},
     "output_type": "execute_result"
    }
   ],
   "source": [
    "x=11\n",
    "x not in s"
   ]
  },
  {
   "cell_type": "code",
   "execution_count": 5,
   "id": "e3ddc3a6",
   "metadata": {},
   "outputs": [
    {
     "data": {
      "text/plain": [
       "[1, 2, 3, 4, 5, 6]"
      ]
     },
     "execution_count": 5,
     "metadata": {},
     "output_type": "execute_result"
    }
   ],
   "source": [
    "l1=[1,2,3]\n",
    "l2=[4,5,6]\n",
    "l1+l2"
   ]
  },
  {
   "cell_type": "code",
   "execution_count": 7,
   "id": "5493c7dc",
   "metadata": {},
   "outputs": [
    {
     "data": {
      "text/plain": [
       "[1, 2, 3, 1, 2, 3]"
      ]
     },
     "execution_count": 7,
     "metadata": {},
     "output_type": "execute_result"
    }
   ],
   "source": [
    "l1*2"
   ]
  },
  {
   "cell_type": "code",
   "execution_count": 9,
   "id": "39acf7ca",
   "metadata": {},
   "outputs": [
    {
     "name": "stdout",
     "output_type": "stream",
     "text": [
      "10\n",
      "50\n",
      "5\n"
     ]
    }
   ],
   "source": [
    "s=[10,20,30,40,50]\n",
    "print(min(s))\n",
    "print(max(s))\n",
    "print(len(s))"
   ]
  },
  {
   "cell_type": "code",
   "execution_count": 16,
   "id": "4526ed7c",
   "metadata": {},
   "outputs": [
    {
     "name": "stdout",
     "output_type": "stream",
     "text": [
      "3\n",
      "2\n",
      "True\n",
      "False\n",
      "True\n"
     ]
    }
   ],
   "source": [
    "s=[10,20,30,20,40,50]\n",
    "s1=[10,20,30,20,0,40,50]\n",
    "print(s.index(20,2,6))\n",
    "print(s.count(20))\n",
    "print(all(s))\n",
    "print(all(s1))\n",
    "print(any(s))\n"
   ]
  },
  {
   "cell_type": "code",
   "execution_count": 20,
   "id": "77872708",
   "metadata": {},
   "outputs": [
    {
     "name": "stdout",
     "output_type": "stream",
     "text": [
      "[10, 30, 20, 40, 50]\n",
      "[10, 30, 20, 40, 50]\n"
     ]
    }
   ],
   "source": [
    "s=[10,20,30,20,40,50]\n",
    "del s[1]\n",
    "print(s)\n",
    "s=[10,20,30,20,40,50]\n",
    "s.remove(20)\n",
    "print(s)"
   ]
  },
  {
   "cell_type": "code",
   "execution_count": 25,
   "id": "fe79a827",
   "metadata": {},
   "outputs": [
    {
     "name": "stdout",
     "output_type": "stream",
     "text": [
      "[50, 40, 30, 20, 20, 10]\n"
     ]
    }
   ],
   "source": [
    "s=[10,20,30,20,40,50]\n",
    "s.sort( reverse=True)\n",
    "print(s)"
   ]
  }
 ],
 "metadata": {
  "kernelspec": {
   "display_name": "Python 3 (ipykernel)",
   "language": "python",
   "name": "python3"
  },
  "language_info": {
   "codemirror_mode": {
    "name": "ipython",
    "version": 3
   },
   "file_extension": ".py",
   "mimetype": "text/x-python",
   "name": "python",
   "nbconvert_exporter": "python",
   "pygments_lexer": "ipython3",
   "version": "3.11.4"
  }
 },
 "nbformat": 4,
 "nbformat_minor": 5
}
