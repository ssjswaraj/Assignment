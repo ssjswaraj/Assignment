{
 "cells": [
  {
   "cell_type": "markdown",
   "metadata": {},
   "source": [
    "#day 4 Assignment\n",
    "Q9. Write a menu driven program. Ask the user which input needs to be converted\n",
    "binary 2. Octal 3. Hex Then convert given string to integer using int() function\n"
   ]
  },
  {
   "cell_type": "code",
   "execution_count": null,
   "metadata": {},
   "outputs": [],
   "source": []
  },
  {
   "cell_type": "markdown",
   "metadata": {},
   "source": [
    "Q15. WAP to create simple calculator in python. Take two numbers from user and give following options a. add b. subtract c. divide d. multiply e. integer division f. mod operation g. check if both numbers are same h. power operation i. square root of both numbers j. log of both numbers k. gcd (find the the greatest common divisor of the two integers) l. lcm (least common multiple) (Hint: Use inbuilt functions)"
   ]
  },
  {
   "cell_type": "code",
   "execution_count": null,
   "metadata": {},
   "outputs": [],
   "source": []
  },
  {
   "cell_type": "markdown",
   "metadata": {},
   "source": [
    "# list"
   ]
  },
  {
   "cell_type": "code",
   "execution_count": 2,
   "metadata": {},
   "outputs": [
    {
     "name": "stdout",
     "output_type": "stream",
     "text": [
      "[]\n"
     ]
    }
   ],
   "source": [
    "l2=[]\n",
    "print(l2)"
   ]
  },
  {
   "cell_type": "code",
   "execution_count": 3,
   "metadata": {},
   "outputs": [
    {
     "name": "stdout",
     "output_type": "stream",
     "text": [
      "[51, 53, 55, 57, 59, 61, 63, 65, 67, 69, 71, 73, 75, 77, 79, 81, 83, 85, 87, 89, 91, 93, 95, 97, 99]\n"
     ]
    }
   ],
   "source": [
    "#all odds number between 51 and 100\n",
    "l1=[]\n",
    "for idx in range(51,100,2):\n",
    "    l1.append(idx)\n",
    "print(l1)\n",
    "        "
   ]
  },
  {
   "cell_type": "code",
   "execution_count": 6,
   "metadata": {},
   "outputs": [
    {
     "name": "stdout",
     "output_type": "stream",
     "text": [
      "[51, 53, 55, 57, 59, 61, 63, 65, 67, 69, 71, 73, 75, 77, 79, 81, 83, 85, 87, 89, 91, 93, 95, 97, 99]\n"
     ]
    }
   ],
   "source": [
    "#another way to enter all odds number between 51 and 100\n",
    "l2=list(range(51,100,2))\n",
    "print(l2)"
   ]
  },
  {
   "cell_type": "code",
   "execution_count": 36,
   "metadata": {},
   "outputs": [
    {
     "name": "stdout",
     "output_type": "stream",
     "text": [
      "[51, 57, 63, 69, 75, 77, 81, 87, 91, 93, 99]\n"
     ]
    }
   ],
   "source": [
    "#all odds number between 51 and 100 which are divisible by 3 or 7\n",
    "l3=[]\n",
    "for idx in range(51,100,2):\n",
    "    if idx%3==0 or idx%7==0:\n",
    "        l3.append(idx)\n",
    "print(l3)\n"
   ]
  },
  {
   "cell_type": "code",
   "execution_count": 37,
   "metadata": {},
   "outputs": [
    {
     "name": "stdout",
     "output_type": "stream",
     "text": [
      "0 51\n",
      "1 57\n",
      "2 63\n",
      "3 69\n",
      "4 75\n",
      "5 77\n",
      "6 81\n",
      "7 87\n",
      "8 91\n",
      "9 93\n",
      "10 99\n"
     ]
    }
   ],
   "source": [
    "#printing both element and index\n",
    "for idx,element in enumerate(l3):\n",
    "    print(idx,element)"
   ]
  },
  {
   "cell_type": "markdown",
   "metadata": {},
   "source": [
    "#create a list of rollno of your 5 friends\n",
    "rollnos = []\n",
    "print all rollno which has even index"
   ]
  },
  {
   "cell_type": "code",
   "execution_count": 39,
   "metadata": {},
   "outputs": [
    {
     "name": "stdout",
     "output_type": "stream",
     "text": [
      "2 15\n",
      "4 21\n"
     ]
    }
   ],
   "source": [
    "rollno=[11,12,15,16,21]\n",
    "for idx,element in enumerate(rollno):\n",
    "    if (idx>0) and (idx%2==0):\n",
    "        print(idx,element)"
   ]
  },
  {
   "cell_type": "code",
   "execution_count": 6,
   "metadata": {},
   "outputs": [
    {
     "name": "stdout",
     "output_type": "stream",
     "text": [
      "[16, 36, 81, 4, 49]\n"
     ]
    }
   ],
   "source": [
    "#make a list and store its square into another list\n",
    "l1=[4,6,9,2,7]\n",
    "l2=[ i*i for i in l1]\n",
    "print(l2)"
   ]
  },
  {
   "cell_type": "code",
   "execution_count": 5,
   "metadata": {},
   "outputs": [
    {
     "name": "stdout",
     "output_type": "stream",
     "text": [
      "[16, 36, 81, 4, 49]\n"
     ]
    }
   ],
   "source": [
    "l1=[4,6,9,2,7]\n",
    "l2=[]\n",
    "for i in l1:\n",
    "    l2.append(i*i)\n",
    "print(l2)"
   ]
  },
  {
   "cell_type": "code",
   "execution_count": 11,
   "metadata": {},
   "outputs": [
    {
     "name": "stdout",
     "output_type": "stream",
     "text": [
      "[1, 40, 2, 40]\n"
     ]
    }
   ],
   "source": [
    "l1=[40,1,40,2,40]\n",
    "l1.remove(40)\n",
    "print(l1)\n"
   ]
  },
  {
   "cell_type": "code",
   "execution_count": 23,
   "metadata": {},
   "outputs": [
    {
     "name": "stdout",
     "output_type": "stream",
     "text": [
      "[401]\n"
     ]
    }
   ],
   "source": [
    "l1=[4,1,401,2,402]\n",
    "l1[1:4]\n",
    "print(l1[-3:3])"
   ]
  },
  {
   "cell_type": "code",
   "execution_count": 25,
   "metadata": {},
   "outputs": [
    {
     "data": {
      "text/plain": [
       "[30]"
      ]
     },
     "execution_count": 25,
     "metadata": {},
     "output_type": "execute_result"
    }
   ],
   "source": [
    "l1= [10,20,30,40,50,60]\n",
    "l1[2::-3]"
   ]
  }
 ],
 "metadata": {
  "kernelspec": {
   "display_name": "Python 3",
   "language": "python",
   "name": "python3"
  },
  "language_info": {
   "codemirror_mode": {
    "name": "ipython",
    "version": 3
   },
   "file_extension": ".py",
   "mimetype": "text/x-python",
   "name": "python",
   "nbconvert_exporter": "python",
   "pygments_lexer": "ipython3",
   "version": "3.7.4"
  }
 },
 "nbformat": 4,
 "nbformat_minor": 5
}
