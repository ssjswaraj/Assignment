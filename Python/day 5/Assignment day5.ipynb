{
 "cells": [
  {
   "cell_type": "markdown",
   "metadata": {},
   "source": [
    "practice"
   ]
  },
  {
   "cell_type": "markdown",
   "metadata": {},
   "source": [
    "1. Reverse a given list in Python\n",
    "a List = [100, 200, 300, 400, 500]\n",
    "  output:\n",
    "[500, 400, 300, 200, 100]"
   ]
  },
  {
   "cell_type": "code",
   "execution_count": 19,
   "metadata": {},
   "outputs": [
    {
     "name": "stdout",
     "output_type": "stream",
     "text": [
      "[400, 300, 200, 100]\n"
     ]
    }
   ],
   "source": [
    "l1=[100,200,300,400]\n",
    "l2=l1[len(l1)::-1]\n",
    "print(l2)"
   ]
  },
  {
   "cell_type": "markdown",
   "metadata": {},
   "source": [
    "2. take a list 'l1' of even nos between 150 to 250. Print its length.\n",
    "Then create another list 'l2' using 'l1', containing only nos divisible by 4 from 'l1'."
   ]
  },
  {
   "cell_type": "code",
   "execution_count": 27,
   "metadata": {},
   "outputs": [
    {
     "name": "stdout",
     "output_type": "stream",
     "text": [
      "[150, 152, 154, 156, 158, 160, 162, 164, 166, 168, 170, 172, 174, 176, 178, 180, 182, 184, 186, 188, 190, 192, 194, 196, 198, 200, 202, 204, 206, 208, 210, 212, 214, 216, 218, 220, 222, 224, 226, 228, 230, 232, 234, 236, 238, 240, 242, 244, 246, 248]\n",
      "*********l2*********\n",
      " [152, 156, 160, 164, 168, 172, 176, 180, 184, 188, 192, 196, 200, 204, 208, 212, 216, 220, 224, 228, 232, 236, 240, 244, 248]\n"
     ]
    }
   ],
   "source": [
    "l1=[]\n",
    "for i in range(150,250,2):\n",
    "    l1.append(i)\n",
    "print(l1)\n",
    "l2=[]\n",
    "for i in l1:\n",
    "    if i%4==0:\n",
    "        l2.append(i)\n",
    "print(\"*********l2*********\\n\",l2)"
   ]
  },
  {
   "cell_type": "code",
   "execution_count": 34,
   "metadata": {},
   "outputs": [
    {
     "name": "stdout",
     "output_type": "stream",
     "text": [
      "[150, 152, 154, 156, 158, 160, 162, 164, 166, 168, 170, 172, 174, 176, 178, 180, 182, 184, 186, 188, 190, 192, 194, 196, 198, 200, 202, 204, 206, 208, 210, 212, 214, 216, 218, 220, 222, 224, 226, 228, 230, 232, 234, 236, 238, 240, 242, 244, 246, 248]\n",
      "*********l2*********\n",
      " [152, 156, 160, 164, 168, 172, 176, 180, 184, 188, 192, 196, 200, 204, 208, 212, 216, 220, 224, 228, 232, 236, 240, 244, 248]\n",
      "[152, 156, 160, 164, 168, 172, 176, 180, 184, 188, 192, 196, 200, 204, 208, 212, 216, 220, 224, 228, 232, 236, 240, 244, 248]\n"
     ]
    }
   ],
   "source": [
    "l1=[element for element in range(150,250,2)]\n",
    "print(l1)\n",
    "print(\"*********l2*********\\n\",l2)\n",
    "l2=[element for element in l1 if element%4==0]\n",
    "print(l2)"
   ]
  },
  {
   "cell_type": "markdown",
   "metadata": {},
   "source": [
    "3. Given a Python list of numbers. Turn every item of a list into its square root\n",
    "aList = [1, 4, 9, 16, 25, 36, 49] "
   ]
  },
  {
   "cell_type": "code",
   "execution_count": 2,
   "metadata": {},
   "outputs": [
    {
     "name": "stdout",
     "output_type": "stream",
     "text": [
      "[1.0, 2.0, 3.0, 4.0, 5.0, 6.0, 7.0]\n"
     ]
    }
   ],
   "source": [
    "import math\n",
    "alist = [1,4,9,16,25,36,49]\n",
    "for i,e in enumerate(alist):\n",
    "    alist[i]=math.sqrt(e)\n",
    "print(alist)"
   ]
  },
  {
   "cell_type": "code",
   "execution_count": 11,
   "metadata": {},
   "outputs": [
    {
     "name": "stdout",
     "output_type": "stream",
     "text": [
      "[1.0, 2.0, 3.0, 4.0, 5.0, 6.0, 7.0]\n"
     ]
    }
   ],
   "source": [
    "import math\n",
    "alist = [1,4,9,16,25,36,49]\n",
    "alist=[math.sqrt(i) for i in alist]\n",
    "print(alist)"
   ]
  },
  {
   "cell_type": "markdown",
   "metadata": {},
   "source": [
    "4. Print two lists in the following order\n",
    "list1 = [5, 6,7]\n",
    "list2 = [0, 1]\n",
    "output:\n",
    "50,51,60,61,70,71"
   ]
  },
  {
   "cell_type": "code",
   "execution_count": 42,
   "metadata": {},
   "outputs": [
    {
     "name": "stdout",
     "output_type": "stream",
     "text": [
      "50,51,60,61,70,71,"
     ]
    }
   ],
   "source": [
    "list1 = [5, 6,7]\n",
    "list2 = [0, 1]\n",
    "for i in list1:\n",
    "    for j in list2:\n",
    "        print(i,j,sep=\"\",end=\",\")"
   ]
  },
  {
   "cell_type": "markdown",
   "metadata": {},
   "source": [
    "5. Given a two Python list. Iterate both lists simultaneously such that list1 should display item in original order and list2 in reverse order. It should work for any two lists.\n",
    "list1 = [10, 20, 30, 40]\n",
    "list2 = [100, 200, 300, 400]\n",
    "output:\n",
    "10 400\n",
    "20 300\n",
    "30 200\n",
    "40 100"
   ]
  },
  {
   "cell_type": "code",
   "execution_count": 3,
   "metadata": {},
   "outputs": [
    {
     "name": "stdout",
     "output_type": "stream",
     "text": [
      "10 400\n",
      "20 300\n",
      "30 200\n",
      "40 100\n"
     ]
    }
   ],
   "source": [
    "list1 = [10, 20, 30, 40]\n",
    "list2 = [100, 200, 300, 400]\n",
    "for i in range(4):\n",
    "    print(list1[i],list2[len(list2)-1-i])"
   ]
  },
  {
   "cell_type": "code",
   "execution_count": 45,
   "metadata": {},
   "outputs": [
    {
     "name": "stdout",
     "output_type": "stream",
     "text": [
      "10 400\n",
      "20 300\n",
      "30 200\n",
      "40 100\n"
     ]
    }
   ],
   "source": [
    "list1 = [10, 20, 30, 40]\n",
    "list2 = [100, 200, 300, 400]\n",
    "list2.reverse()\n",
    "for e1,e2 in zip(list1,list2):\n",
    "    print(e1,e2)"
   ]
  },
  {
   "cell_type": "markdown",
   "metadata": {},
   "source": [
    "6. Remove empty strings from the list of strings\n",
    "list1 = [\"Ashish\", \"\", \"Atharva\", \"Amit\", \"\", \"Revati\"]\n",
    "output:\n",
    "[\"Ashish\", \"Atharva\", \"Amit\", \"Revati\"]\n"
   ]
  },
  {
   "cell_type": "code",
   "execution_count": 20,
   "metadata": {},
   "outputs": [
    {
     "name": "stdout",
     "output_type": "stream",
     "text": [
      "['Ashish', 'Atharva', 'Amit', 'Revati']\n"
     ]
    }
   ],
   "source": [
    "list1 = [\"Ashish\", \"\", \"Atharva\", \"Amit\", \"\", \"Revati\"]\n",
    "output=[]\n",
    "\n",
    "for i,e in enumerate(list1):\n",
    "    if (list1[i]!=\"\"):\n",
    "        output.append(e)\n",
    "print(output)"
   ]
  },
  {
   "cell_type": "markdown",
   "metadata": {},
   "source": [
    "7. Add item 7000 after 6000 in the following Python List\n",
    "list1 = [10, 20, [300, 400, [5000, 6000], 500], 30, 40]\n",
    "output:\n",
    "[10, 20, [300, 400, [5000, 6000, 7000], 500], 30, 40]"
   ]
  },
  {
   "cell_type": "code",
   "execution_count": 35,
   "metadata": {},
   "outputs": [
    {
     "name": "stdout",
     "output_type": "stream",
     "text": [
      "[10, 20, [300, 400, [5000, 6000, 7000], 500], 30, 40]\n"
     ]
    }
   ],
   "source": [
    "list1 = [10, 20, [300, 400, [5000, 6000], 500], 30, 40]\n",
    "# for i in list1:\n",
    "#     print()\n",
    "list1[2][2].append(7000)\n",
    "print(list1)"
   ]
  },
  {
   "cell_type": "code",
   "execution_count": 46,
   "metadata": {},
   "outputs": [
    {
     "name": "stdout",
     "output_type": "stream",
     "text": [
      "[10, 20, [300, 400, [5000, 6000, 7000], 500], 30, 40]\n"
     ]
    }
   ],
   "source": [
    "list1 = [10, 20, [300, 400, [5000, 6000], 500], 30, 40]\n",
    "list1[2][2].append(7000)\n",
    "print(list1)"
   ]
  },
  {
   "cell_type": "markdown",
   "metadata": {},
   "source": [
    "8. Given a nested list extend it by adding the sub list [\"h\", \"i\", \"j\"] in such a way that it will look like the following list\n",
    "\n",
    "list1 = [\"a\", \"b\", [\"c\", [\"d\", \"e\", [\"f\", \"g\"], \"k\"], \"l\"], \"m\", \"n\"]\n",
    "Sub List to be added = [\"h\", \"i\", \"j\"]\n",
    "output:\n",
    "['a', 'b', ['c', ['d', 'e', ['f', 'g', 'h', 'i', 'j'], 'k'], 'l'], 'm', 'n'] \n"
   ]
  },
  {
   "cell_type": "code",
   "execution_count": 51,
   "metadata": {},
   "outputs": [
    {
     "name": "stdout",
     "output_type": "stream",
     "text": [
      "['a', 'b', ['c', ['d', 'e', ['f', 'g', 'h', 'i', 'j'], 'k'], 'l'], 'm', 'n']\n"
     ]
    }
   ],
   "source": [
    "list1 = [\"a\", \"b\", [\"c\", [\"d\", \"e\", [\"f\", \"g\"], \"k\"], \"l\"], \"m\", \"n\"]\n",
    "sublist = [\"h\", \"i\", \"j\"]\n",
    "list1[2][1][2].extend(sublist)\n",
    "print(list1)"
   ]
  },
  {
   "cell_type": "code",
   "execution_count": 52,
   "metadata": {},
   "outputs": [
    {
     "name": "stdout",
     "output_type": "stream",
     "text": [
      "['a', 'b', ['c', ['d', 'e', ['f', 'g', 'h', 'i', 'j'], 'k'], 'l'], 'm', 'n']\n"
     ]
    }
   ],
   "source": [
    "list1 = [\"a\", \"b\", [\"c\", [\"d\", \"e\", [\"f\", \"g\"], \"k\"], \"l\"], \"m\", \"n\"]\n",
    "sublist = [\"h\", \"i\", \"j\"]\n",
    "for i in sublist:\n",
    "    list1[2][1][2].append(i)\n",
    "print(list1)"
   ]
  },
  {
   "cell_type": "markdown",
   "metadata": {},
   "source": [
    "9. Given a Python list, find value 20 in the list, and if it is present, replace it with 200. Only update the first occurrence of a value\n",
    "list1 = [5, 10, 15, 20, 25, 50, 20]\n",
    "output:\n",
    "list1 = [5, 10, 15, 200, 25, 50, 20]\n"
   ]
  },
  {
   "cell_type": "code",
   "execution_count": 47,
   "metadata": {},
   "outputs": [
    {
     "name": "stdout",
     "output_type": "stream",
     "text": [
      "[5, 10, 15, 200, 25, 50, 20]\n"
     ]
    }
   ],
   "source": [
    "list1 = [5, 10, 15, 20, 25, 50, 20]\n",
    "for i,e in enumerate(list1):\n",
    "    if (e==20):\n",
    "        list1[i]=200\n",
    "        break\n",
    "print(list1)\n",
    "        "
   ]
  },
  {
   "cell_type": "markdown",
   "metadata": {},
   "source": [
    "10. Given a Python list, remove all occurrence of 20 from the list\n",
    "list1 = [5, 20, 15, 20, 25, 50, 20]\n",
    "output:\n",
    "[5, 15, 25, 50]"
   ]
  },
  {
   "cell_type": "code",
   "execution_count": 57,
   "metadata": {},
   "outputs": [
    {
     "name": "stdout",
     "output_type": "stream",
     "text": [
      "[5, 15, 25, 50]\n"
     ]
    }
   ],
   "source": [
    "list1 = [5, 20, 15, 20, 25, 50, 20]\n",
    "for i in list1:\n",
    "    if i==20:\n",
    "        list1.remove(i)\n",
    "print(list1)"
   ]
  },
  {
   "cell_type": "markdown",
   "metadata": {},
   "source": [
    "11. Take a number as input from user. \n",
    "Print maximum and minimum integer which can be generated using all the digits in the input number\n",
    "Ex. Input 3421   : o/p max: 4321, min 1234\n",
    "Input 7789    : o/p max: 9776   min 6779"
   ]
  },
  {
   "cell_type": "code",
   "execution_count": 1,
   "metadata": {},
   "outputs": [
    {
     "name": "stdout",
     "output_type": "stream",
     "text": [
      "enter any number : 3421\n",
      "[3, 4, 2, 1]\n",
      "max is : 4321\n",
      "\n",
      "min is : 1234"
     ]
    }
   ],
   "source": [
    "num=input(\"enter any number : \")\n",
    "l1=[]\n",
    "for i in num:\n",
    "    l1.append(int(i))\n",
    "print(l1)\n",
    "max=l1\n",
    "min=l1\n",
    "\n",
    "max.sort(reverse=True)\n",
    "print(\"max is : \",end=\"\")\n",
    "for i in max:\n",
    "    print(i,end=\"\")\n",
    "print(\"\\n\")\n",
    "min.sort(reverse=False)\n",
    "print(\"min is : \",end=\"\")\n",
    "for i in min:\n",
    "    print(i,end=\"\")\n",
    "\n"
   ]
  },
  {
   "cell_type": "code",
   "execution_count": 27,
   "metadata": {},
   "outputs": [
    {
     "name": "stdout",
     "output_type": "stream",
     "text": [
      "max number is : 4321\n",
      "min number is : 1234\n"
     ]
    }
   ],
   "source": [
    "#with join\n",
    "num=input(\"enter any number : \")\n",
    "num=str(3421)\n",
    "# num_list=num.split()\n",
    "num_list=list(num)\n",
    "\n",
    "max_num=\"\".join(sorted(num_list,reverse=True))\n",
    "print(\"max number is :\",max_num)\n",
    "min_num=\"\".join(sorted(num_list))\n",
    "print(\"min number is :\",min_num)"
   ]
  },
  {
   "cell_type": "markdown",
   "metadata": {},
   "source": [
    "# q12"
   ]
  },
  {
   "cell_type": "markdown",
   "metadata": {},
   "source": [
    " 12. Take integer from user and print all odd numbers which can be generated using any number of digits from given number\n",
    "Ex. \n",
    "Input: 3421  o/p: 1,3,13,43,23,31,41,21,421,241,341,431,423,243,143,413,1243,1423,4213,4123, 2413,2143, .. etc\n",
    "\n",
    "#look for stackoverflow there is solution"
   ]
  },
  {
   "cell_type": "code",
   "execution_count": 23,
   "metadata": {},
   "outputs": [
    {
     "name": "stdout",
     "output_type": "stream",
     "text": [
      "[3, 1, 31, 43, 41, 23, 21, 13, 341, 321, 431, 423, 421, 413, 231, 243, 241, 213, 143, 123, 3421, 3241, 4321, 4231, 4213, 4123, 2341, 2431, 2413, 2143, 1423, 1243]\n"
     ]
    }
   ],
   "source": [
    "from itertools import permutations\n",
    "elements=str(3421)\n",
    "odds=[]\n",
    "\n",
    "for i in range(1,len(elements)+1):\n",
    "    permutations_generator = permutations(elements, i)\n",
    "    for perm in permutations_generator:\n",
    "        if int(\"\".join(perm))%2==1:\n",
    "            odds.append(int(\"\".join(perm)))\n",
    "\n",
    "print(odds)\n"
   ]
  },
  {
   "cell_type": "code",
   "execution_count": 11,
   "metadata": {},
   "outputs": [
    {
     "name": "stdout",
     "output_type": "stream",
     "text": [
      "enter an integer3421\n",
      "3421\n",
      "3241\n",
      "4321\n",
      "4231\n",
      "4213\n",
      "4123\n",
      "2341\n",
      "2431\n",
      "2413\n",
      "2143\n",
      "1423\n",
      "1243\n"
     ]
    }
   ],
   "source": [
    "# BY SIR\n",
    "# ======================\n",
    "import itertools\n",
    "n = input(\"enter an integer\")\n",
    "all_digits=list(n)\n",
    "for num_list in list(itertools.permutations(all_digits)):\n",
    "    \n",
    "    num=\"\".join(num_list)\n",
    "    num=int(num)\n",
    "    if (num%2)!=0:\n",
    "        print(num)\n"
   ]
  },
  {
   "cell_type": "code",
   "execution_count": null,
   "metadata": {},
   "outputs": [],
   "source": [
    "# Advanced Question"
   ]
  },
  {
   "cell_type": "markdown",
   "metadata": {},
   "source": [
    "Q. What will be output of following and explain why?\n",
    "a. \n",
    "l1 = [ 0 , 1]\n",
    "x= l1[0]\n",
    "x, l1[x] = 1, 300\n",
    "print(l1)\n",
    "\n",
    "b.\n",
    "comp = [1, 2, ('aa', 'ab')]   < [1, 2, ('abc', 'a'), 4]\n",
    "print(comp)"
   ]
  },
  {
   "cell_type": "code",
   "execution_count": 42,
   "metadata": {},
   "outputs": [
    {
     "name": "stdout",
     "output_type": "stream",
     "text": [
      "[0, 300]\n",
      "False\n"
     ]
    }
   ],
   "source": [
    "l1 = [ 0 , 1]\n",
    "x= l1[0]\n",
    "x, l1[x] = 1, 300\n",
    "print(l1)\n",
    "\n",
    "################\n",
    "\n",
    "comp = [1, 2, ('aa', 'ab')]   < [1, 2, ('abc', 'a'), 4]\n",
    "print(comp)\n"
   ]
  },
  {
   "cell_type": "markdown",
   "metadata": {},
   "source": [
    "1.\tTake a list of integers. Every time you can select the first element or last element.\n",
    "Always next number selected should be less than or equal to the currently selected number. If no number can be selected to fulfill all conditions then return False. If all elements are completed using the selection criteria then print True. You have to try all the combinations possible before conclusion.\n",
    "\n",
    "Ex. \n",
    "L=[1,2,3,4,5]\n",
    "\n",
    "We can select 1 or 5 at step 1\n",
    "Assume, First 5 is selected (last element)\n",
    "Then, [1,2,3,4]we can select 1 or 4,  we will select 4 because 4<5\n",
    "Then [1,2,3] we can select 1 or 3, so select 3 because 3<5\n",
    "\n",
    "Like this we can select 5,4,3,2,1 and all elements are selected so print True\n",
    "But if we select 1 then we cannot select further elements\n",
    "Because, after selecting 1 list will be [2,3,4,5] and first 2 and last 5 both are greater than 1\n",
    "\n",
    "So, when selecting first element use the right choice so that there can be possibility of selection of all elements\n",
    "\n",
    "L=[1,3,2]\n",
    "\n",
    "We can select 1 or 2 at step1\n",
    "Assume we select 1,\n",
    "Then [3,2] so we can select 3 or 2 but both are greater than 1\n",
    "So, there is no way we can completely select all elements\n",
    "\n",
    "Assume we select 2,\n",
    "Then [1,3], so we can select 1 or 3, we select 1 because 1<2,\n",
    "Then [3], so we can ONLY select 3 but 3 is greater than 1\n",
    "\n",
    "So print False, because in all options we cannot select all elements from the list\n"
   ]
  },
  {
   "cell_type": "code",
   "execution_count": 16,
   "metadata": {},
   "outputs": [
    {
     "name": "stdout",
     "output_type": "stream",
     "text": [
      "True\n"
     ]
    }
   ],
   "source": [
    "ls=[1,2,3,4,5]\n",
    "# l.remove(4)\n",
    "s_list=[]\n",
    "select=ls[0]\n",
    "if (ls[0]>ls[-1]):\n",
    "        select=ls[0]\n",
    "        \n",
    "else:\n",
    "        select=ls[-1]\n",
    "while(len(ls)>1):\n",
    "\n",
    "    if (ls[0]>ls[-1]) and (select>=ls[0]):\n",
    "        select=ls[0]\n",
    "        \n",
    "    elif (ls[0]<ls[-1]) and (select>=ls[-1]):\n",
    "        select=ls[-1]\n",
    "\n",
    "    if select in ls:\n",
    "        s_list.append(select)\n",
    "        ls.remove(select)\n",
    "    else:\n",
    "        print(\"False\")\n",
    "        break\n",
    "else:\n",
    "    print(True)\n",
    "        \n",
    "#     ls.remove(select)\n",
    "#     s_list.append(select)\n",
    "#     print(select)\n",
    "        \n"
   ]
  },
  {
   "cell_type": "code",
   "execution_count": 1,
   "metadata": {},
   "outputs": [
    {
     "data": {
      "text/plain": [
       "5"
      ]
     },
     "execution_count": 1,
     "metadata": {},
     "output_type": "execute_result"
    }
   ],
   "source": []
  }
 ],
 "metadata": {
  "kernelspec": {
   "display_name": "Python 3",
   "language": "python",
   "name": "python3"
  },
  "language_info": {
   "codemirror_mode": {
    "name": "ipython",
    "version": 3
   },
   "file_extension": ".py",
   "mimetype": "text/x-python",
   "name": "python",
   "nbconvert_exporter": "python",
   "pygments_lexer": "ipython3",
   "version": "3.7.4"
  }
 },
 "nbformat": 4,
 "nbformat_minor": 5
}
