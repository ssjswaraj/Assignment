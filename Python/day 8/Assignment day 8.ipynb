{
 "cells": [
  {
   "cell_type": "markdown",
   "id": "020e6d00",
   "metadata": {},
   "source": [
    "# q1"
   ]
  },
  {
   "cell_type": "markdown",
   "id": "f3b88708",
   "metadata": {},
   "source": [
    "1. Add a list of elements to a given set\n",
    "Given:\n",
    "sampleSet = {\"Yellow\", \"Orange\", \"Black\"}\n",
    "sampleList = [\"Blue\", \"Green\", \"Red\",”Yellow”,”orange”]"
   ]
  },
  {
   "cell_type": "code",
   "execution_count": 6,
   "id": "3db57ede",
   "metadata": {},
   "outputs": [
    {
     "name": "stdout",
     "output_type": "stream",
     "text": [
      "{'orange', 'Red', 'Orange', 'Black', 'Yellow', 'Blue', 'Green'}\n"
     ]
    }
   ],
   "source": [
    "sampleSet = {\"Yellow\", \"Orange\", \"Black\"}\n",
    "sampleList = [\"Blue\", \"Green\", \"Red\",\"Yellow\",\"orange\"]\n",
    "for ele in sampleList:\n",
    "    sampleSet.add(ele)\n",
    "print(sampleSet)"
   ]
  },
  {
   "cell_type": "markdown",
   "id": "094f137a",
   "metadata": {},
   "source": [
    "# q2 "
   ]
  },
  {
   "cell_type": "markdown",
   "id": "9f23ce50",
   "metadata": {},
   "source": [
    "2. display common elements from the given set\n",
    "set1 = {10, 20, 30, 40, 50}\n",
    "set2 = {30, 40, 50, 60, 70}\n"
   ]
  },
  {
   "cell_type": "code",
   "execution_count": 9,
   "id": "a2aed483",
   "metadata": {},
   "outputs": [
    {
     "name": "stdout",
     "output_type": "stream",
     "text": [
      "common elements :  {40, 50, 30}\n"
     ]
    }
   ],
   "source": [
    "set1 = {10, 20, 30, 40, 50}\n",
    "set2 = {30, 40, 50, 60, 70}\n",
    "print(\"common elements : \",set1 & set2)"
   ]
  },
  {
   "cell_type": "markdown",
   "id": "4123c37a",
   "metadata": {},
   "source": [
    "# q3"
   ]
  },
  {
   "cell_type": "markdown",
   "id": "d36486f2",
   "metadata": {},
   "source": [
    "3. Generate a new set with all items from both sets by removing numbers which are in both sets.\n",
    "set1 = {10, 20, 30, 40, 50,25}\n",
    "set2 = {30, 40, 50, 60, 70,100}\n",
    "o/p : order is not important\n",
    "{70, 10, 20, 60,25,100}"
   ]
  },
  {
   "cell_type": "code",
   "execution_count": 35,
   "id": "3fa9c0d7",
   "metadata": {},
   "outputs": [
    {
     "name": "stdout",
     "output_type": "stream",
     "text": [
      "union : {100, 70, 40, 10, 50, 20, 25, 60, 30}\n",
      "intersection :  {40, 50, 30}\n",
      "difference :  {100, 70, 10, 20, 25, 60}\n"
     ]
    },
    {
     "data": {
      "text/plain": [
       "{10, 20, 25, 60, 70, 100}"
      ]
     },
     "execution_count": 35,
     "metadata": {},
     "output_type": "execute_result"
    }
   ],
   "source": [
    "set1 = {10, 20, 30, 40, 50,25}\n",
    "set2 = {30, 40, 50, 60, 70,100}\n",
    "union_set = set1 | set2\n",
    "intersection_set = set1 & set2\n",
    "print( \"union :\",union_set)\n",
    "print( \"intersection : \",intersection_set)\n",
    "print(\"difference : \",union_set - intersection_set)\n",
    "set1^set2"
   ]
  },
  {
   "cell_type": "markdown",
   "id": "01199c85",
   "metadata": {},
   "source": [
    "# q4"
   ]
  },
  {
   "cell_type": "markdown",
   "id": "22f64691",
   "metadata": {},
   "source": [
    "4. set of all elements in either A or B, but not both\n",
    "set1 = {10, 20, 30, 40, 50}\n",
    "set2 = {30, 40, 50, 60, 70}\n",
    "Expected output:\n",
    "{20, 70, 10, 60}"
   ]
  },
  {
   "cell_type": "code",
   "execution_count": 18,
   "id": "c8078bfb",
   "metadata": {},
   "outputs": [
    {
     "name": "stdout",
     "output_type": "stream",
     "text": [
      "difference : {20, 70, 10, 60}\n"
     ]
    }
   ],
   "source": [
    "set1 = {10, 20, 30, 40, 50}\n",
    "set2 = {30, 40, 50, 60, 70}\n",
    "print(\"difference :\",set1 ^ set2)"
   ]
  },
  {
   "cell_type": "markdown",
   "id": "734fb483",
   "metadata": {},
   "source": [
    "# q5"
   ]
  },
  {
   "cell_type": "markdown",
   "id": "be22b228",
   "metadata": {},
   "source": [
    "5. Update set1 by adding items from set2, except common items\n",
    "set1 = {10, 20, 30, 40, 50}\n",
    "set2 = {30, 40, 50, 60, 70}\n",
    "Expected output:\n",
    "{70, 10, 20, 60}"
   ]
  },
  {
   "cell_type": "code",
   "execution_count": 24,
   "id": "819b1cb2",
   "metadata": {},
   "outputs": [
    {
     "name": "stdout",
     "output_type": "stream",
     "text": [
      "{10, 20, 70, 60}\n",
      "{20, 70, 10, 60}\n"
     ]
    }
   ],
   "source": [
    "union_set=set1 | set2\n",
    "removing_common=union_set - (set1 & set2) \n",
    "print(removing_common)\n",
    "print(set1^set2)"
   ]
  },
  {
   "cell_type": "markdown",
   "id": "bd8ccacb",
   "metadata": {},
   "source": [
    "# q6"
   ]
  },
  {
   "cell_type": "markdown",
   "id": "d33a37b1",
   "metadata": {},
   "source": [
    "6. Take a sentence as input from user. Every word is seperated by space. Print all unique words from the sentence."
   ]
  },
  {
   "cell_type": "code",
   "execution_count": 47,
   "id": "df6aea36",
   "metadata": {},
   "outputs": [
    {
     "name": "stdout",
     "output_type": "stream",
     "text": [
      "['hello', 'my', 'name', 'is', 'python', 'and', 'python', 'is', 'a', 'name']\n",
      "unique elements : {'python', 'and', 'a', 'hello', 'my', 'is', 'name'}\n"
     ]
    }
   ],
   "source": [
    "sent=\"hello my name is python and python is a name\"\n",
    "sent_list=sent.split(\" \")\n",
    "# print(sent_list)\n",
    "uniq = set()\n",
    "for ele in sent_list:\n",
    "    uniq.add(ele)\n",
    "print(\"unique elements :\",uniq)\n",
    "\n",
    "uniq=set(sent_list)\n",
    "\n",
    "\n"
   ]
  },
  {
   "cell_type": "code",
   "execution_count": 39,
   "id": "9fd3ea73",
   "metadata": {},
   "outputs": [
    {
     "name": "stdout",
     "output_type": "stream",
     "text": [
      "{'python', 'and', 'a', 'hello', 'my', 'is', 'name'}\n"
     ]
    }
   ],
   "source": [
    "###################Another####################\n",
    "sent=\"hello my name is python and python is a name\"\n",
    "sent_list=set(sent.split(\" \"))\n",
    "print(sent_list)"
   ]
  },
  {
   "cell_type": "markdown",
   "id": "b40b4652",
   "metadata": {},
   "source": [
    "# Tuple Assignments\n",
    "# q1"
   ]
  },
  {
   "cell_type": "markdown",
   "id": "2a297052",
   "metadata": {},
   "source": [
    "1. Reverse the following tuple\n",
    "aTuple = (10, 20, 30, 40, 50,60)\n",
    "Expected output:\n",
    "(60,50, 40, 30, 20, 10)"
   ]
  },
  {
   "cell_type": "code",
   "execution_count": 37,
   "id": "d8e772ec",
   "metadata": {},
   "outputs": [
    {
     "name": "stdout",
     "output_type": "stream",
     "text": [
      "(60, 50, 40, 30, 20, 10)\n",
      "(60, 50, 40, 30, 20, 10)\n"
     ]
    }
   ],
   "source": [
    "aTuple = (10, 20, 30, 40, 50,60)\n",
    "rtuple = reversed(aTuple)\n",
    "print(tuple(rtuple))\n",
    "########################Another########\n",
    "rtuple2 = aTuple[::-1]\n",
    "print(rtuple2)"
   ]
  },
  {
   "cell_type": "markdown",
   "id": "8f4f1549",
   "metadata": {},
   "source": [
    "# q2"
   ]
  },
  {
   "cell_type": "markdown",
   "id": "cd926381",
   "metadata": {},
   "source": [
    "2. display value 20 from the following tuple\n",
    "aTuple = (\"Orange\", [10, 20, 30], (5, 15, 25))"
   ]
  },
  {
   "cell_type": "code",
   "execution_count": 41,
   "id": "4d1fe7f8",
   "metadata": {},
   "outputs": [
    {
     "data": {
      "text/plain": [
       "20"
      ]
     },
     "execution_count": 41,
     "metadata": {},
     "output_type": "execute_result"
    }
   ],
   "source": [
    "aTuple = (\"Orange\", [10, 20, 30], (5, 15, 25))\n",
    "aTuple[1][1]"
   ]
  },
  {
   "cell_type": "markdown",
   "id": "ad5029b4",
   "metadata": {},
   "source": [
    "# q3"
   ]
  },
  {
   "cell_type": "markdown",
   "id": "fd0636d6",
   "metadata": {},
   "source": [
    "3. Unpack the following tuple into 4 variables\n",
    "aTuple = (10, 20, 30, 40)"
   ]
  },
  {
   "cell_type": "code",
   "execution_count": 44,
   "id": "62a4bacd",
   "metadata": {},
   "outputs": [
    {
     "name": "stdout",
     "output_type": "stream",
     "text": [
      "10 20 30 40\n"
     ]
    }
   ],
   "source": [
    "aTuple = (10, 20, 30, 40)\n",
    "a,b,c,d = aTuple\n",
    "print(a,b,c,d)"
   ]
  },
  {
   "cell_type": "markdown",
   "id": "20bd759b",
   "metadata": {},
   "source": [
    "# q4"
   ]
  },
  {
   "cell_type": "markdown",
   "id": "1c329799",
   "metadata": {},
   "source": [
    "4. Swap the following two tuples\n",
    "tuple1 = (11, 22)\n",
    "tuple2 = (99, 88)\n",
    "Expected output:\n",
    "tuple1 = (99, 88)\n",
    "tuple2 = (11, 22)"
   ]
  },
  {
   "cell_type": "code",
   "execution_count": 46,
   "id": "a6af8557",
   "metadata": {},
   "outputs": [
    {
     "name": "stdout",
     "output_type": "stream",
     "text": [
      "(99, 88)\n",
      "(11, 22)\n"
     ]
    }
   ],
   "source": [
    "tuple1 = (11, 22)\n",
    "tuple2 = (99, 88)\n",
    "tuple1,tuple2=tuple2,tuple1\n",
    "print(tuple1)\n",
    "print(tuple2)"
   ]
  },
  {
   "cell_type": "markdown",
   "id": "27e159c5",
   "metadata": {},
   "source": [
    "# q5"
   ]
  },
  {
   "cell_type": "markdown",
   "id": "9036022b",
   "metadata": {},
   "source": [
    "5. Copy element 44 and 55 from the following tuple into a new tuple\n",
    "tuple1 = (11, 22, 33, 44, 55, 66)\n",
    "Expected output:\n",
    "tuple2: (44, 55)"
   ]
  },
  {
   "cell_type": "code",
   "execution_count": 3,
   "id": "51233bf0",
   "metadata": {},
   "outputs": [
    {
     "name": "stdout",
     "output_type": "stream",
     "text": [
      "(33, 44)\n",
      "(44, 55)\n"
     ]
    }
   ],
   "source": [
    "tuple1 = (11, 22, 33, 44, 55, 66)\n",
    "tuple2=(tuple1[3],tuple1[4])\n",
    "tuple3=tuple1[2:4]\n",
    "print(tuple3)\n",
    "print(tuple2)"
   ]
  },
  {
   "cell_type": "markdown",
   "id": "d73d831a",
   "metadata": {},
   "source": [
    "# q6"
   ]
  },
  {
   "cell_type": "markdown",
   "id": "2dd4e97b",
   "metadata": {},
   "source": [
    "6. Modify the first item (22) of a list inside a following tuple to 200\n",
    "tuple1 = (11, [22, 33], 44, 55)\n",
    "Expected output:\n",
    "tuple1: (11, [200, 33], 44, 55)\n"
   ]
  },
  {
   "cell_type": "code",
   "execution_count": 54,
   "id": "b14be433",
   "metadata": {},
   "outputs": [
    {
     "name": "stdout",
     "output_type": "stream",
     "text": [
      "(11, [200, 33], 44, 55)\n"
     ]
    }
   ],
   "source": [
    "tuple1 = (11, [22, 33], 44, 55)\n",
    "tuple1[1][0]=200\n",
    "print(tuple1)"
   ]
  },
  {
   "cell_type": "markdown",
   "id": "716bf8f8",
   "metadata": {},
   "source": [
    "# q7"
   ]
  },
  {
   "cell_type": "markdown",
   "id": "d5d209cc",
   "metadata": {},
   "source": [
    "7. Take two integer values in a & b. Swap their values using tuple, using temparary variable and without tuple and without temparary variable.\n",
    "Ex. a=10 b=23\n",
    "After swapping a=23 b=10"
   ]
  },
  {
   "cell_type": "code",
   "execution_count": null,
   "id": "830969f1",
   "metadata": {},
   "outputs": [],
   "source": [
    "#using tuple\n",
    "a=10\n",
    "b=23\n",
    "a,b=b,a\n",
    "print(a,b)\n",
    "\n",
    "# using tuple, using temparary variable\n",
    "a=10\n",
    "b=23\n",
    "temp=a\n",
    "a=b\n",
    "b=temp\n",
    "print(a,b)\n",
    "\n",
    "# with arithmetic\n",
    "a=10\n",
    "b=23\n",
    "a=a+b\n",
    "b=a-b\n",
    "a=a-b\n",
    "print(a,b)\n",
    "\n"
   ]
  },
  {
   "cell_type": "markdown",
   "id": "563f5227",
   "metadata": {},
   "source": [
    "# Dictionary Assignments\n"
   ]
  },
  {
   "cell_type": "markdown",
   "id": "8b710669",
   "metadata": {},
   "source": [
    "# q1"
   ]
  },
  {
   "cell_type": "markdown",
   "id": "01c5afdb",
   "metadata": {},
   "source": [
    "1. In cryptography, a Caesar cipher is a very simple encryption techniques in which each letter in the plain text is replaced by a letter some fixed number of positions down the alphabet. For example, with a shift of 3, A would be replaced by D, B would become E, and so on. The method is named after Julius Caesar, who used it to communicate with his generals. ROT-13 (\"rotate by 13 places\") is a widely used\n",
    "example of a Caesar cipher where the shift is 13. In Python, the key for ROT-13 may be represented by means of the following dictionary\n",
    "{'a':'n', 'b':'o', 'c':'p', 'd':'q', 'e':'r', 'f':'s', 'g':'t', 'h':'u', 'i':'v', 'j':'w', 'k':'x', 'l':'y', 'm':'z', 'n':'a', 'o':'b', 'p':'c',\n",
    "'q':'d', 'r':'e', 's':'f', 't':'g', 'u':'h', 'v':'i', 'w':'j', 'x':'k', 'y':'l', 'z':'m', 'A':'N', 'B':'O', 'C':'P', 'D':'Q', 'E':'R', 'F':'S', 'G':'T', 'H':'U', 'I':'V', 'J':'W', 'K':'X', 'L':'Y', 'M':'Z', 'N':'A', 'O':'B', 'P':'C', 'Q':'D', 'R':'E', 'S':'F', 'T':'G', 'U':'H', 'V':'I', 'W':'J', 'X':'K', 'Y':'L', 'Z':'M'}\n",
    "Your task in this exercise is to implement an encoder/decoder of ROT-13. Once you're done, you will be able to read the following secret message:\n",
    "Pnrfne pvcure? V zhpu cersre Pnrfne fnynq!\n",
    "Note that since English has 26 characters, your ROT-13 program will be able to both encode and decode texts written in English."
   ]
  },
  {
   "cell_type": "code",
   "execution_count": 100,
   "id": "9c3df84d",
   "metadata": {},
   "outputs": [
    {
     "name": "stdout",
     "output_type": "stream",
     "text": [
      "Caesar cipher? I much prefer Caesar salad!"
     ]
    }
   ],
   "source": [
    "cipher={'a':'n', 'b':'o', 'c':'p', 'd':'q', 'e':'r', 'f':'s', 'g':'t', 'h':'u', 'i':'v', 'j':'w', 'k':'x', 'l':'y', 'm':'z', 'n':'a', 'o':'b', 'p':'c',\n",
    "'q':'d', 'r':'e', 's':'f', 't':'g', 'u':'h', 'v':'i', 'w':'j', 'x':'k', 'y':'l', 'z':'m', 'A':'N', 'B':'O', 'C':'P', 'D':'Q', 'E':'R', 'F':'S', 'G':'T', 'H':'U', 'I':'V', 'J':'W', 'K':'X', 'L':'Y', 'M':'Z', 'N':'A', 'O':'B', 'P':'C', 'Q':'D', 'R':'E', 'S':'F', 'T':'G', 'U':'H', 'V':'I', 'W':'J', 'X':'K', 'Y':'L', 'Z':'M'}\n",
    "coded=\"Pnrfne pvcure? V zhpu cersre Pnrfne fnynq!\"\n",
    "for ele in coded:\n",
    "    if cipher.get(ele):\n",
    "        print(cipher[ele],end=\"\")\n",
    "    else:\n",
    "        print(ele,end=\"\")    "
   ]
  },
  {
   "cell_type": "code",
   "execution_count": 5,
   "id": "e826060f",
   "metadata": {},
   "outputs": [
    {
     "name": "stdout",
     "output_type": "stream",
     "text": [
      "Caesar cipher? I much prefer Caesar salad!\n"
     ]
    }
   ],
   "source": [
    "##################################by Sir\n",
    "trans={'a':'n', 'b':'o', 'c':'p', 'd':'q', 'e':'r', 'f':'s', 'g':'t', 'h':'u', 'i':'v', 'j':'w', 'k':'x', 'l':'y', 'm':'z', 'n':'a', 'o':'b', 'p':'c',\n",
    "'q':'d', 'r':'e', 's':'f', 't':'g', 'u':'h', 'v':'i', 'w':'j', 'x':'k', 'y':'l', 'z':'m', 'A':'N', 'B':'O', 'C':'P', 'D':'Q', 'E':'R', 'F':'S', 'G':'T', 'H':'U', 'I':'V', 'J':'W', 'K':'X', 'L':'Y', 'M':'Z', 'N':'A', 'O':'B', 'P':'C', 'Q':'D', 'R':'E', 'S':'F', 'T':'G', 'U':'H', 'V':'I', 'W':'J', 'X':'K', 'Y':'L', 'Z':'M'}\n",
    "coded=\"Pnrfne pvcure? V zhpu cersre Pnrfne fnynq!\"\n",
    "new_mess=\"\"\n",
    "for char in coded:\n",
    "#     if  trans.get(char):\n",
    "    if char in trans:\n",
    "        new_char=trans[char]\n",
    "        new_mess=new_mess+new_char\n",
    "    else:\n",
    "        new_mess=new_mess+char\n",
    "print(new_mess)\n",
    "        "
   ]
  },
  {
   "cell_type": "markdown",
   "id": "90a79fae",
   "metadata": {},
   "source": [
    "# q2"
   ]
  },
  {
   "cell_type": "code",
   "execution_count": null,
   "id": "ccfe5caf",
   "metadata": {},
   "outputs": [],
   "source": [
    "#2\n",
    "2. Given a dictionary of students and their favourite colours:\n",
    "people={'Arham':'Blue','Lisa':'Yellow','Vinod':'Purple','Jenny':'Pink'}\n",
    "a. Find out how many students are in the list\n",
    "b. Change Lisa’s favourite colour\n",
    "c. Remove 'Jenny' and her favourite colour"
   ]
  },
  {
   "cell_type": "code",
   "execution_count": 7,
   "id": "1b6924f0",
   "metadata": {},
   "outputs": [
    {
     "name": "stdout",
     "output_type": "stream",
     "text": [
      "total number of students in the list : 4\n",
      "Lisa's new color is : Black\n",
      "updated dictionary : {'Arham': 'Blue', 'Lisa': 'Black', 'Jenny': 'Pink'}\n"
     ]
    }
   ],
   "source": [
    "people={'Arham':'Blue','Lisa':'Yellow','Vinod':'Purple','Jenny':'Pink'}\n",
    "#A\n",
    "print(\"total number of students in the list :\",len(people.keys()))\n",
    "\n",
    "#B\n",
    "people['Lisa']='Black'\n",
    "print(\"Lisa's new color is :\",people['Lisa'])\n",
    "\n",
    "#C\n",
    "people.pop('Jenny')\n",
    "print(\"updated dictionary :\",people)"
   ]
  },
  {
   "cell_type": "code",
   "execution_count": 124,
   "id": "5bc44161",
   "metadata": {},
   "outputs": [
    {
     "name": "stdout",
     "output_type": "stream",
     "text": [
      "{'Arham': 'Blue', 'Lisa': 'Yellow', 'Vinod': 'Purple'}\n"
     ]
    }
   ],
   "source": [
    "###########Another for C\n",
    "people={'Arham':'Blue','Lisa':'Yellow','Vinod':'Purple','Jenny':'Pink'}\n",
    "del people['Jenny']\n",
    "print(people)"
   ]
  },
  {
   "cell_type": "markdown",
   "id": "c43e2e81",
   "metadata": {},
   "source": [
    "# q4"
   ]
  },
  {
   "cell_type": "markdown",
   "id": "e5011334",
   "metadata": {},
   "source": [
    "#4\n",
    "4. Sort and print students and their favourite colours alphabetically by name"
   ]
  },
  {
   "cell_type": "code",
   "execution_count": 19,
   "id": "bf1c4688",
   "metadata": {},
   "outputs": [
    {
     "name": "stdout",
     "output_type": "stream",
     "text": [
      "['Arham', 'Jenny', 'Lisa', 'Vinod']\n",
      "Arham : Blue\n",
      "Jenny : Pink\n",
      "Lisa : Yellow\n",
      "Vinod : Purple\n"
     ]
    }
   ],
   "source": [
    "people={'Lisa':'Yellow','Arham':'Blue','Vinod':'Purple','Jenny':'Pink'}\n",
    "print(sorted(people))\n",
    "sorted_people={}\n",
    "for ele in sorted(people):\n",
    "    print(ele,\":\",people[ele])"
   ]
  },
  {
   "cell_type": "code",
   "execution_count": 21,
   "id": "0d515ad4",
   "metadata": {},
   "outputs": [
    {
     "data": {
      "text/plain": [
       "list"
      ]
     },
     "execution_count": 21,
     "metadata": {},
     "output_type": "execute_result"
    }
   ],
   "source": [
    "people={'Lisa':'Yellow','Arham':'Blue','Vinod':'Purple','Jenny':'Pink'}\n",
    "type(sorted(people))"
   ]
  },
  {
   "cell_type": "code",
   "execution_count": null,
   "id": "6a703e77",
   "metadata": {},
   "outputs": [],
   "source": [
    "#another with little bit chage\n",
    "people={'Lisa':'Yellow','Arham':'Blue','Vinod':'Purple','Jenny':'Pink'}\n",
    "# print(sorted(people))\n",
    "sorted_people={}\n",
    "for ele in sorted(people):\n",
    "    sorted_people[ele]=people[ele]\n",
    "print(sorted_people)"
   ]
  },
  {
   "cell_type": "markdown",
   "id": "e0532274",
   "metadata": {},
   "source": [
    "# q3"
   ]
  },
  {
   "cell_type": "code",
   "execution_count": null,
   "id": "505e00f2",
   "metadata": {},
   "outputs": [],
   "source": [
    "3. Write a menu driven program to practice Dictionary functions.\n",
    "Write a program to accept name of a person and their vehicle and store it in a dictionary.\n",
    "Ask user if they want to continue to accept multiple values.\n",
    "Display following menu:\n",
    "a. Add new person name and a vehicle name.\n",
    "b. Delete a person name and vehicle name from the dictionary.\n",
    "----Accept person name from user.\n",
    "----Check whether person name exists in the dictionary.\n",
    "----If exists show person name and vehicle name to the user.\n",
    "----Confirm for deletion, if user enters y\n",
    "then delete otherwise no. Display appropriate message.\n",
    "c. Modify vehicle name for the person\n",
    "----Accept a person name from user.\n",
    "----Check whether the person’s name exists.\n",
    "----If the name exists, show the person’s name and vehicle name to user.\n",
    "Ask for new value and then overwrite the old value.\n",
    "d. Search vehicle for the given person’s name.\n",
    "e. Search list of people, who have given a vehicle\n",
    "f. Display all person names.\n",
    "g. Display all vehicle names.\n",
    "h. Exit"
   ]
  },
  {
   "cell_type": "code",
   "execution_count": 172,
   "id": "2fa14abb",
   "metadata": {},
   "outputs": [],
   "source": [
    "data={'swaz': 'activa', 'shriyash': 'rx100', 'bhaya': 'ether', 'goku': None}"
   ]
  },
  {
   "cell_type": "code",
   "execution_count": 178,
   "id": "583e2d8b",
   "metadata": {},
   "outputs": [
    {
     "name": "stdout",
     "output_type": "stream",
     "text": [
      "enter\n",
      "1. Add new person name and a vehicle name\n",
      "2. Delete a person name and vehicle name from the dictionary\n",
      "3. modify vehicle name\n",
      "4. Search vehicle for the given person’s name\n",
      "5. Search list of people, who have given a vehicle\n",
      "6. Display all person names.\n",
      "7. Display all vehicle names.\n",
      "0. Exit5\n",
      "list of people, who have given a vehicle :\n",
      "swaz,shriyash,bhaya,enter\n",
      "1. Add new person name and a vehicle name\n",
      "2. Delete a person name and vehicle name from the dictionary\n",
      "3. modify vehicle name\n",
      "4. Search vehicle for the given person’s name\n",
      "5. Search list of people, who have given a vehicle\n",
      "6. Display all person names.\n",
      "7. Display all vehicle names.\n",
      "0. Exit6\n",
      "All person names are :  dict_keys(['swaz', 'shriyash', 'bhaya', 'goku'])\n",
      "enter\n",
      "1. Add new person name and a vehicle name\n",
      "2. Delete a person name and vehicle name from the dictionary\n",
      "3. modify vehicle name\n",
      "4. Search vehicle for the given person’s name\n",
      "5. Search list of people, who have given a vehicle\n",
      "6. Display all person names.\n",
      "7. Display all vehicle names.\n",
      "0. Exit7\n",
      "All vehicle names are : dict_values(['activa', 'rx100', 'ether', None])\n",
      "enter\n",
      "1. Add new person name and a vehicle name\n",
      "2. Delete a person name and vehicle name from the dictionary\n",
      "3. modify vehicle name\n",
      "4. Search vehicle for the given person’s name\n",
      "5. Search list of people, who have given a vehicle\n",
      "6. Display all person names.\n",
      "7. Display all vehicle names.\n",
      "0. Exit0\n",
      "{'swaz': 'activa', 'shriyash': 'rx100', 'bhaya': 'ether', 'goku': None}\n"
     ]
    }
   ],
   "source": [
    "\n",
    "# name=input(\"enter your name: \")\n",
    "# vehicle=input(\"enter your vehicle :\")\n",
    "# data=dict()\n",
    "# data.setdefault(name,vehicle)\n",
    "\n",
    "# choice=1\n",
    "while(True):\n",
    "    choice=int(input(\"enter\\n1. Add new person name and a vehicle name\\n2. Delete a person name and vehicle name from the dictionary\\n3. modify vehicle name\\n4. Search vehicle for the given person’s name\\n5. Search list of people, who have given a vehicle\\n6. Display all person names.\\n7. Display all vehicle names.\\n0. Exit\"))\n",
    "    match choice:\n",
    "        case 1:\n",
    "            name=input(\"enter your name: \")\n",
    "            vehicle=input(\"enter your vehicle :\")\n",
    "            data.setdefault(name,vehicle)\n",
    "            print()\n",
    "        case 2:\n",
    "            name=input(\"enter name to delete: \")\n",
    "            if data.get(name) != None:\n",
    "                print(name,\"and vehicle :\",data[name])\n",
    "                c=input(\"press y to delete \")\n",
    "                if c=='y':\n",
    "                    data.pop(name)\n",
    "            else:\n",
    "                print(name, \" does not exist\")\n",
    "        case 3:\n",
    "            name=input(\"enter name to modify: \")\n",
    "            if data.get(name) != None:\n",
    "                print(name,\"and vehicle :\",data[name])\n",
    "                modify=input(\"enter the vehicle name to modify\")\n",
    "                data[name]=modify\n",
    "        case 4:\n",
    "            name=input(\"enter a name to find its vehicle: \")\n",
    "            if data.get(name) != None:\n",
    "                print(name,\"and vehicle :\",data[name])\n",
    "        case 5:\n",
    "            print(\"list of people, who have given a vehicle :\")\n",
    "            for ele in data.keys():\n",
    "                if data.get(ele) != None:\n",
    "                    print(ele,end=\",\")\n",
    "        case 6:\n",
    "            print(\"All person names are : \",data.keys())\n",
    "        case 7:\n",
    "            print(\"All vehicle names are :\",data.values())\n",
    "        case 0:\n",
    "            break       \n",
    "print(data)\n"
   ]
  },
  {
   "cell_type": "markdown",
   "id": "7c6acf42",
   "metadata": {},
   "source": [
    "# q4"
   ]
  },
  {
   "cell_type": "code",
   "execution_count": null,
   "id": "bd8f8ad9",
   "metadata": {},
   "outputs": [],
   "source": [
    "4. Write a program to display following menu and do the following:\n",
    "a. Add new city and trees commonly found in the city.\n",
    "b. Display all cities and the list of trees for all cities.\n",
    "c. Display list of trees of a particular city.\n",
    "---- Accept a city from user search city and if found display list of trees otherwise\n",
    "---- Display message not found\n",
    "d. Display cities which have the given tree.\n",
    "---- Accept a tree name from user and display all cities in which the tree is found.\n",
    "e. Delete city ---- Accept city from user and delete the city if found.\n",
    "---- Prompt user before deletion\n",
    "f. Modify tree list\n",
    "---- Accept city and trees to be added in the city. if city exist add trees at the end of the list\n",
    "---- Otherwise add city and list\n",
    "g. Exit"
   ]
  },
  {
   "cell_type": "code",
   "execution_count": 22,
   "id": "17941bfb",
   "metadata": {},
   "outputs": [
    {
     "name": "stdout",
     "output_type": "stream",
     "text": [
      "\n",
      "enter choice\n",
      "1. Add new city and trees commonly found in the city.\n",
      "2. Display all cities and the list of trees for all cities.\n",
      "3. Display list of trees of a particular city.\n",
      " 4. Display cities which have the given tree.\n",
      " 5. Delete city\n",
      " 6. Modify tree list\n",
      "0. Exit 0\n"
     ]
    }
   ],
   "source": [
    "choice=1\n",
    "# data={}\n",
    "data={'pune': ['man', 'cher', 'ban'], 'mumbai': ['palm', 'chiku', 'coconut']}\n",
    "while(choice!=0):\n",
    "    choice=int(input(\"\\nenter choice\\n1. Add new city and trees commonly found in the city.\\n2. Display all cities and the list of trees for all cities.\\n3. Display list of trees of a particular city.\\n 4. Display cities which have the given tree.\\n 5. Delete city\\n 6. Modify tree list\\n0. Exit \"))\n",
    "    match choice:\n",
    "        case 1:\n",
    "            city=input(\"enter the name\")\n",
    "            input_tree=input(\"enter the common trees separated by space\")\n",
    "            trees=input_tree.split(\" \")\n",
    "            data.setdefault(city,trees)\n",
    "        case 2:\n",
    "            print(\"all the cities are :\")\n",
    "            print(data.keys())\n",
    "            print(\"list of trees are :\")\n",
    "            all_tree=[]\n",
    "            for tr in data.values():\n",
    "                for temp in tr:\n",
    "                    all_tree.append(temp)\n",
    "            print(all_tree)\n",
    "        case 3:\n",
    "            city=input(\"enter the name :\")\n",
    "            if data.get(city)!=None:\n",
    "                print(\"list of trees of \",city,\":\",end=\"\")\n",
    "                print(data[city])\n",
    "            else:\n",
    "                print(\"message not found\")\n",
    "        case 4:\n",
    "            tree=input(\"enter tree name :\")\n",
    "            for k,v in data.items():\n",
    "                if tree in v:\n",
    "                    print(k)\n",
    "        case 5:\n",
    "            city=input(\"enter the name :\")\n",
    "            if city in data.keys():\n",
    "                prompt=input(\"do you really want to delete if yes enter y :\")\n",
    "                if prompt == 'y':\n",
    "                    del data[city]\n",
    "            print(\"new data :\",data)\n",
    "        case 6:\n",
    "            city=input(\"enter the name :\")\n",
    "            if city in data.keys():\n",
    "                tree=input(\"enter tree name to be added :\")\n",
    "                data[city].append(tree)\n",
    "            else:\n",
    "                print(city,\"does not exist :\")\n",
    "                input_tree=input(\"enter tree name to be added separated by space:\")\n",
    "                trees=input_tree.split(\" \")\n",
    "                data.setdefault(city,trees)\n",
    "        \n"
   ]
  },
  {
   "cell_type": "markdown",
   "id": "f0cc5584",
   "metadata": {
    "scrolled": true
   },
   "source": [
    "# q5\n"
   ]
  },
  {
   "cell_type": "markdown",
   "id": "28594e8d",
   "metadata": {},
   "source": [
    "5. Take a sentence as input from user. Every word is seperated by space. \n",
    "a. Create a word_count dictionary which will have unique words and their count. \n",
    "\n",
    "b. create suffix_count dictionary which will contain count of words ending with 's', 'es', 'ed', 'y', 'en' , etc.\n",
    "\n",
    "c. create dictionary word_length_count which will store length of word and count.\n",
    "Ex. \n",
    "input_sent= 'CDAC is in Pune'\n",
    "There are 2 words of length 4 and 2 words of length 2 so,\n",
    "word_length_count = {2:2, 4:2}\n"
   ]
  },
  {
   "cell_type": "code",
   "execution_count": 30,
   "id": "f987d993",
   "metadata": {},
   "outputs": [
    {
     "name": "stdout",
     "output_type": "stream",
     "text": [
      "{'CDAC': 1, 'is': 1, 'in': 2, 'Pune': 1, 'ssd': 1}\n",
      "{'s': 1, 'es': 0, 'ed': 0, 'y': 0, 'en': 0}\n",
      "{4: 2, 2: 3, 3: 1}\n",
      "There are 2 words of length 4\n",
      "There are 3 words of length 2\n",
      "There are 1 words of length 3\n"
     ]
    }
   ],
   "source": [
    "input_sent= 'CDAC is in Pune in ssd'\n",
    "word_list=input_sent.split(\" \")\n",
    "\n",
    "word_count={}\n",
    "\n",
    "# A\n",
    "for ele in word_list:\n",
    "    if ele in word_count:\n",
    "        word_count[ele]+=1\n",
    "    else:\n",
    "        word_count[ele]=1\n",
    "print(word_count)\n",
    "\n",
    "#B\n",
    "suffix_list=['s', 'es', 'ed', 'y', 'en' ]\n",
    "suffix_count={'s' : 0, 'es':0, 'ed':0, 'y':0, 'en':0}\n",
    "for ele in word_list:\n",
    "    for i in suffix_count.keys():\n",
    "        if ele.endswith(i):\n",
    "            suffix_count[i]+=1\n",
    "\n",
    "print(suffix_count)\n",
    "\n",
    "#C\n",
    "word_length_count={}\n",
    "for ele in word_list:\n",
    "#     print(ele)\n",
    "    if len(ele) in word_length_count.keys():\n",
    "        word_length_count[len(ele)]+=1\n",
    "#         pass\n",
    "    else:\n",
    "        word_length_count.setdefault(len(ele),1)\n",
    "print(word_length_count)\n",
    "for k,v in word_length_count.items():\n",
    "    print(\"There are\",v ,\"words of length\",k)\n",
    "\n"
   ]
  },
  {
   "cell_type": "code",
   "execution_count": 42,
   "id": "031a19c8",
   "metadata": {},
   "outputs": [
    {
     "name": "stdout",
     "output_type": "stream",
     "text": [
      "{'is': 1, 'Pune': 1, 'ssd': 1, 'in': 3, 'CDAC': 1}\n"
     ]
    }
   ],
   "source": [
    "#another for A\n",
    "input_sent= 'CDAC is in Pune in in ssd'\n",
    "word_list=input_sent.split(\" \")\n",
    "word_set=set(word_list)\n",
    "word_count={}\n",
    "\n",
    "# A\n",
    "for ele in word_set:\n",
    "    word_count[ele]=word_list.count(ele)\n",
    "print(word_count)"
   ]
  }
 ],
 "metadata": {
  "kernelspec": {
   "display_name": "Python 3 (ipykernel)",
   "language": "python",
   "name": "python3"
  },
  "language_info": {
   "codemirror_mode": {
    "name": "ipython",
    "version": 3
   },
   "file_extension": ".py",
   "mimetype": "text/x-python",
   "name": "python",
   "nbconvert_exporter": "python",
   "pygments_lexer": "ipython3",
   "version": "3.11.4"
  }
 },
 "nbformat": 4,
 "nbformat_minor": 5
}
