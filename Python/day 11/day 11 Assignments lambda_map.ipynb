{
 "cells": [
  {
   "cell_type": "markdown",
   "metadata": {},
   "source": [
    "# q1"
   ]
  },
  {
   "cell_type": "markdown",
   "metadata": {},
   "source": [
    "Q Sort all the numbers in a list in descending order using lambda function"
   ]
  },
  {
   "cell_type": "code",
   "execution_count": 3,
   "metadata": {},
   "outputs": [
    {
     "name": "stdout",
     "output_type": "stream",
     "text": [
      "[50, 45, 23, 21, 16]\n"
     ]
    }
   ],
   "source": [
    "l1=[23,50,45,21,16]\n",
    "l2=sorted(l1,reverse=True,key=(lambda x:x))\n",
    "print(l2)"
   ]
  },
  {
   "cell_type": "markdown",
   "metadata": {},
   "source": [
    "# q2"
   ]
  },
  {
   "cell_type": "markdown",
   "metadata": {},
   "source": [
    "Q Sort all the characters of given string using lambda function\n"
   ]
  },
  {
   "cell_type": "code",
   "execution_count": 7,
   "metadata": {},
   "outputs": [
    {
     "name": "stdout",
     "output_type": "stream",
     "text": [
      "['e', 'h', 'l', 'l', 'o']\n"
     ]
    }
   ],
   "source": [
    "s=\"hello\"\n",
    "s2=sorted(s,key=(lambda x:x))\n",
    "print(s2)"
   ]
  },
  {
   "cell_type": "markdown",
   "metadata": {},
   "source": [
    "# q3"
   ]
  },
  {
   "cell_type": "markdown",
   "metadata": {},
   "source": [
    "Q Given list of strings, sort all the strings by last character of that string. .\n",
    "Use lambda function and normal function both."
   ]
  },
  {
   "cell_type": "code",
   "execution_count": 10,
   "metadata": {},
   "outputs": [
    {
     "name": "stdout",
     "output_type": "stream",
     "text": [
      "with normal function : ['aa', 'kb', 'rc', 'th', 'hn']\n",
      "with normal function : ['aa', 'kb', 'rc', 'th', 'hn']\n"
     ]
    }
   ],
   "source": [
    "ls=['aa','hn','kb','th','rc']\n",
    "\n",
    "def last_char(x):\n",
    "    '''return last character '''\n",
    "    return x[-1]\n",
    "\n",
    "ls_function=sorted(ls,key=last_char)\n",
    "print(\"with normal function :\",ls_function)\n",
    "\n",
    "ls_lambda=sorted(ls,key=(lambda x:x[-1]))\n",
    "print(\"with lambda function :\",ls_lambda)\n"
   ]
  },
  {
   "cell_type": "markdown",
   "metadata": {},
   "source": [
    "# q4"
   ]
  },
  {
   "cell_type": "markdown",
   "metadata": {},
   "source": [
    "Q Given list of employees. This list may contain repetitions.\n",
    "Find all unique employee names and print them as per order of second character in that name.\n",
    "Use lambda function and normal function both."
   ]
  },
  {
   "cell_type": "code",
   "execution_count": 25,
   "metadata": {},
   "outputs": [
    {
     "name": "stdout",
     "output_type": "stream",
     "text": [
      "sorted by lambda : ['naruto', 'bhaya', 'goku', 'swaz']\n",
      "sorted by lambda : ['naruto', 'bhaya', 'goku', 'swaz']\n"
     ]
    }
   ],
   "source": [
    "emp=[\"swaz\",\"bhaya\",\"goku\",\"naruto\",\"swaz\",\"goku\"]\n",
    "\n",
    "emp_unique=set(emp)\n",
    "\n",
    "emp_sort1=sorted(emp_unique,key=(lambda x:x[1]))\n",
    "print(\"sorted by lambda :\",emp_sort1)\n",
    "\n",
    "def emp_func(ele):\n",
    "    return ele[1]\n",
    "emp_sort2=sorted(emp_unique,key=emp_func)\n",
    "print(\"sorted by lambda :\",emp_sort2)"
   ]
  },
  {
   "cell_type": "markdown",
   "metadata": {},
   "source": [
    "# q5"
   ]
  },
  {
   "cell_type": "markdown",
   "metadata": {},
   "source": [
    "Q. Take Employee id and Employee name of 5 employees from user.\n",
    "Store it in dictionary. Print all employees in increasing order of employee Id .\n",
    "Also print all employees in alphabetical order by name."
   ]
  },
  {
   "cell_type": "code",
   "execution_count": 49,
   "metadata": {},
   "outputs": [
    {
     "name": "stdout",
     "output_type": "stream",
     "text": [
      "By id : {10: 'sasuke', 21: 'naruto', 34: 'goku', 52: 'swaz', 54: 'vegeta'}\n",
      "By name : {34: 'goku', 21: 'naruto', 10: 'sasuke', 52: 'swaz', 54: 'vegeta'}\n"
     ]
    }
   ],
   "source": [
    "emp={\n",
    "    52:'swaz',\n",
    "    21:'naruto',\n",
    "    34:'goku',\n",
    "    54:'vegeta',\n",
    "    10:'sasuke'\n",
    "}\n",
    "emp_sortid=sorted(emp.items(),key=lambda x :x[0])\n",
    "print(\"By id :\",dict(emp_sortid))\n",
    "emp_sortname=sorted(emp.items(),key=lambda x :x[1])\n",
    "print(\"By name :\",dict(emp_sortname))"
   ]
  },
  {
   "cell_type": "code",
   "execution_count": 66,
   "metadata": {},
   "outputs": [
    {
     "name": "stdout",
     "output_type": "stream",
     "text": [
      "By id : {10: 'sasuke', 21: 'naruto', 34: 'goku', 52: 'swaz', 54: 'vegeta'}\n",
      "By name : {34: 'goku', 21: 'naruto', 10: 'sasuke', 52: 'swaz', 54: 'vegeta'}\n"
     ]
    }
   ],
   "source": [
    "############another\n",
    "emp={\n",
    "    52:'swaz',\n",
    "    21:'naruto',\n",
    "    34:'goku',\n",
    "    54:'vegeta',\n",
    "    10:'sasuke'\n",
    "}\n",
    "emp_keys=sorted(emp)\n",
    "emp_sortid={}\n",
    "for i in emp_keys:\n",
    "    emp_sortid[i]=emp[i]\n",
    "print(\"By id :\",emp_sortid)\n",
    "\n",
    "# def ll(emp):\n",
    "#     for i in emp:\n",
    "#         return emp[i]\n",
    "emp_values=sorted(emp,key=(lambda x:emp[x]))\n",
    "emp_sortname={}\n",
    "for i in emp_values:\n",
    "    emp_sortname[i]=emp[i]\n",
    "print(\"By name :\",emp_sortname)\n"
   ]
  },
  {
   "cell_type": "code",
   "execution_count": 62,
   "metadata": {},
   "outputs": [
    {
     "name": "stdout",
     "output_type": "stream",
     "text": [
      "Sorted\n",
      "{'id': 10, 'name': 'sasuke'}\n",
      "{'id': 21, 'name': 'naruto'}\n",
      "{'id': 34, 'name': 'goku'}\n",
      "{'id': 52, 'name': 'swaz'}\n",
      "{'id': 54, 'name': 'vegeta'}\n"
     ]
    }
   ],
   "source": [
    "##############another\n",
    "emp_list=[{'id':52,'name':'swaz'},\n",
    "    {'id':21,'name':'naruto'},\n",
    "    {'id':34,'name':'goku'},\n",
    "    {'id':54,'name':'vegeta'},\n",
    "    {'id':10,'name':'sasuke'}]\n",
    "\n",
    "emp_sortid=sorted(emp_list,key=lambda x :x['id'])\n",
    "print(\"Sorted\")\n",
    "for i in emp_sortid:\n",
    "    print(i)"
   ]
  },
  {
   "cell_type": "markdown",
   "metadata": {},
   "source": [
    "# q6"
   ]
  },
  {
   "cell_type": "markdown",
   "metadata": {},
   "source": [
    "Q. Take comma separated numbers as input from the user. \n",
    "Split it in list of strings. Now convert every string in this list to float using map function"
   ]
  },
  {
   "cell_type": "code",
   "execution_count": 72,
   "metadata": {},
   "outputs": [
    {
     "name": "stdout",
     "output_type": "stream",
     "text": [
      "[2.0, 3.0, 6.0, 7.0]\n"
     ]
    }
   ],
   "source": [
    "num=\"2,3,6,7\"\n",
    "num_list=num.split(\",\")\n",
    "map_float=map(lambda x:float(x),num_list)\n",
    "print(list(map_float))"
   ]
  },
  {
   "cell_type": "markdown",
   "metadata": {},
   "source": [
    "# q7"
   ]
  },
  {
   "cell_type": "markdown",
   "metadata": {},
   "source": [
    "Q Given list of floating point numbers.\n",
    "Convert every number into string and then join all the numbers such that they are separated by pipe(|)\n"
   ]
  },
  {
   "cell_type": "code",
   "execution_count": 94,
   "metadata": {},
   "outputs": [
    {
     "name": "stdout",
     "output_type": "stream",
     "text": [
      "1.1| 2.3| 3.4|\n"
     ]
    }
   ],
   "source": [
    "l1=[1.1,2.3,3.4]\n",
    "\n",
    "    \n",
    "s=list(map(lambda x:str(x)+\"|\",l1))\n",
    "s=\" \".join(s)\n",
    "print(s)\n"
   ]
  },
  {
   "cell_type": "markdown",
   "metadata": {},
   "source": [
    "# q8"
   ]
  },
  {
   "cell_type": "markdown",
   "metadata": {},
   "source": [
    "\n",
    "\n",
    "Q Given list of integers. Use map function to calculate square of all and store in list.\n",
    " Then print sum of all square values.\n"
   ]
  },
  {
   "cell_type": "code",
   "execution_count": 1,
   "metadata": {},
   "outputs": [
    {
     "name": "stdout",
     "output_type": "stream",
     "text": [
      "[4, 9, 16, 25]\n"
     ]
    }
   ],
   "source": [
    "lint=[2,3,4,5]                                                                                              \n",
    "s=map(lambda x:x*x,lint)\n",
    "print(list(s))"
   ]
  }
 ],
 "metadata": {
  "kernelspec": {
   "display_name": "Python 3",
   "language": "python",
   "name": "python3"
  },
  "language_info": {
   "codemirror_mode": {
    "name": "ipython",
    "version": 3
   },
   "file_extension": ".py",
   "mimetype": "text/x-python",
   "name": "python",
   "nbconvert_exporter": "python",
   "pygments_lexer": "ipython3",
   "version": "3.7.4"
  }
 },
 "nbformat": 4,
 "nbformat_minor": 5
}
