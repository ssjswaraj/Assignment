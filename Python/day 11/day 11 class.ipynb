{
 "cells": [
  {
   "cell_type": "code",
   "execution_count": null,
   "id": "b521e51f",
   "metadata": {},
   "outputs": [],
   "source": [
    "#swaz"
   ]
  },
  {
   "cell_type": "code",
   "execution_count": 3,
   "id": "e24b900e",
   "metadata": {},
   "outputs": [
    {
     "name": "stdout",
     "output_type": "stream",
     "text": [
      "[1, 2, 3, 4, 5]\n"
     ]
    }
   ],
   "source": [
    "#take 5 input from user and convert every num to in\n",
    "s='1 2 3 4 5'\n",
    "l1=s.split(\" \")\n",
    "int_list=list(map(int,l1))\n",
    "print(int_list)"
   ]
  },
  {
   "cell_type": "code",
   "execution_count": 4,
   "id": "f00930d9",
   "metadata": {},
   "outputs": [
    {
     "name": "stdout",
     "output_type": "stream",
     "text": [
      "[1, 2, 3, 4, 5]\n"
     ]
    }
   ],
   "source": [
    "\n",
    "s='1 2 3 4 5'\n",
    "\n",
    "int_list=list(map(int,s.split(\" \")))\n",
    "print(int_list)"
   ]
  },
  {
   "cell_type": "markdown",
   "id": "4997a9ee",
   "metadata": {},
   "source": [
    "# OOPS"
   ]
  },
  {
   "cell_type": "code",
   "execution_count": null,
   "id": "1c5fac94",
   "metadata": {},
   "outputs": [],
   "source": [
    "#create class for car\n",
    "attributes/properties:\n",
    "    color,price,average,type_fuel,brand(company)\n",
    "    \n",
    "function:\n",
    "    start,stop,turn,break,acceleration,gear_change"
   ]
  },
  {
   "cell_type": "code",
   "execution_count": 35,
   "id": "9c852d07",
   "metadata": {},
   "outputs": [
    {
     "name": "stdout",
     "output_type": "stream",
     "text": [
      "Nixon yellow 250000 12 EV\n",
      "TATA TATA\n",
      "car count: 1\n",
      "Tasla black 500 14 petrol\n",
      "TATA TATA\n",
      "car count: 2\n",
      "AE-86 grey 100000 5 diesel\n",
      "TATA TATA\n",
      "car count: 3\n"
     ]
    }
   ],
   "source": [
    "class car:\n",
    "    brand=\"TATA\"  #class variable another methode\n",
    "    count=0 #\n",
    "    def __init__(self,name,color,price,avg,type_fuel): \n",
    "        #instance variable starts with self\n",
    "        self.color=color\n",
    "        self.price=price\n",
    "        self.avg=avg\n",
    "        self.type_fuel=type_fuel\n",
    "        self.name=name\n",
    "        car.brand=\"TATA\" #class variable\n",
    "        car.count+=1 #whenever the object is created it will increament the number\n",
    "    def display(self):\n",
    "        print(self.name,self.color,self.price,self.avg,self.type_fuel)\n",
    "        print(car.brand,self.brand)#printing class variable\n",
    "        print(\"car count:\",car.count) #shared variable as the value will increase when the number of object changes\n",
    "        \n",
    "#cunstroctor of car object: pass all parameters except parameters\n",
    "c1=car(\"Nixon\",\"yellow\",250000,12,\"EV\") #we dont send self parameter and also class variable\n",
    "c1.display()\n",
    "\n",
    "c2=car(\"Tasla\",\"black\",500,14,\"petrol\")\n",
    "c2.display()\n",
    "\n",
    "c3=car(\"AE-86\",\"grey\",100000,5,\"diesel\")\n",
    "c3.display()\n",
    "        "
   ]
  },
  {
   "cell_type": "code",
   "execution_count": 36,
   "id": "c1501ce6",
   "metadata": {},
   "outputs": [
    {
     "name": "stdout",
     "output_type": "stream",
     "text": [
      "new price of c2 : 400.0\n"
     ]
    }
   ],
   "source": [
    "#modifying outside the class\n",
    "c2.price=0.8*c2.price\n",
    "print(\"new price of c2 :\",c2.price)"
   ]
  },
  {
   "cell_type": "code",
   "execution_count": 37,
   "id": "c1bd2348",
   "metadata": {},
   "outputs": [
    {
     "name": "stdout",
     "output_type": "stream",
     "text": [
      "TATA_bharat\n"
     ]
    }
   ],
   "source": [
    "car.brand=\"TATA_bharat\"\n",
    "print(car.brand)"
   ]
  },
  {
   "cell_type": "markdown",
   "id": "c3c191a9",
   "metadata": {},
   "source": [
    "# methods"
   ]
  },
  {
   "cell_type": "code",
   "execution_count": 43,
   "id": "d339111f",
   "metadata": {},
   "outputs": [
    {
     "name": "stdout",
     "output_type": "stream",
     "text": [
      "yellow 250000 12 EV\n",
      "TATA TATA\n",
      "car count: 1\n",
      "car has started\n",
      "black 500 14 petrol\n",
      "TATA TATA\n",
      "car count: 2\n",
      "car has started\n"
     ]
    }
   ],
   "source": [
    "class car:\n",
    "    brand=\"TATA\"  #class variable another methode\n",
    "    count=0 #\n",
    "    def __init__(self,color,price,avg,type_fuel):  #instance method\n",
    "        #instance variable starts with self\n",
    "        self.color=color\n",
    "        self.price=price\n",
    "        self.avg=avg\n",
    "        self.type_fuel=type_fuel\n",
    "\n",
    "        car.brand=\"TATA\" #class variable\n",
    "        car.count+=1 #whenever the object is created it will increament the number\n",
    "        \n",
    "    def display(self): #instance method ----> self first parameter\n",
    "        print(self.color,self.price,self.avg,self.type_fuel)\n",
    "        print(car.brand,self.brand)#printing class variable\n",
    "        print(\"car count:\",car.count) #shared variable as the value will increase when the number of object changes\n",
    "    \n",
    "    def start(self): #instance method\n",
    "        print(\"car has started\")\n",
    "        \n",
    "    def stop(self): #instance method\n",
    "        print(\"car has stoppped\")\n",
    "        \n",
    "#cunstroctor of car object: pass all parameters except parameters\n",
    "c1=car(\"yellow\",250000,12,\"EV\") #we dont send self parameter and also class variable\n",
    "c1.display()\n",
    "c1.start()\n",
    "\n",
    "c2=car(\"black\",500,14,\"petrol\")\n",
    "c2.display()\n",
    "c2.start()\n",
    "\n",
    "        "
   ]
  },
  {
   "cell_type": "markdown",
   "id": "a7af1b2b",
   "metadata": {},
   "source": [
    "########        EMPLOYEE CLASS\n",
    "\n",
    "attributes: empid, name, deptno, salary, location, mgr, emp_count\n",
    "\n",
    "functions: display_id, data_analysis, display_total_emp, give_raise(salary increase by 20%) ,\n",
    "promotion(employee to manager\n",
    "\n"
   ]
  },
  {
   "cell_type": "code",
   "execution_count": 53,
   "id": "175be2b3",
   "metadata": {},
   "outputs": [],
   "source": [
    "class employee:\n",
    "    emp_count=0\n",
    "    def __init__(self,empid,deptno,salary,location,mgr,designation=\"Employee\"):\n",
    "        self.empid=empid\n",
    "#         self.name=name\n",
    "#         self.deptno=deptno\n",
    "        self.salary=salary\n",
    "#         self.location=location\n",
    "#         self.mgr=mgr\n",
    "#         self.emp_count=emp_count\n",
    "        self.designation=designation\n",
    "        employee.emp_count +=1\n",
    "    \n",
    "    def display_id(self):\n",
    "        print(self.empid,self.deptno,self.location,self.mgr)\n",
    "        print(self.emp_count)\n",
    "    \n",
    "    def data_analysis(self):\n",
    "        print(\"doing data analysis\")\n",
    "    \n",
    "    def give_raise(self):\n",
    "        self.salary+=0.2*self.salary\n",
    "    \n",
    "    def promotion(self):\n",
    "        self.designation=\"manager\"\n",
    "    \n",
    "    @classmethod  #decorator # you cant write my comment before thi\n",
    "    def total_total_emp(cls): #class method....cls : reference to current class\n",
    "        print(employee.emp_count)\n",
    "#         print(self.emp_count) # wont work cuz self is not defined in class method....i.e in def cls is written not self\n",
    "    @staticmethod #cls.emp_count and self.emp_count wont work\n",
    "    def static_display_total_emp():\n",
    "        print(employee.emp_count) \n",
    "    \n",
    "    \n",
    "        "
   ]
  },
  {
   "cell_type": "code",
   "execution_count": 54,
   "id": "dd5ea6fa",
   "metadata": {},
   "outputs": [
    {
     "ename": "AttributeError",
     "evalue": "'employee' object has no attribute 'deptno'",
     "output_type": "error",
     "traceback": [
      "\u001b[1;31m---------------------------------------------------------------------------\u001b[0m",
      "\u001b[1;31mAttributeError\u001b[0m                            Traceback (most recent call last)",
      "Cell \u001b[1;32mIn[54], line 2\u001b[0m\n\u001b[0;32m      1\u001b[0m e1\u001b[38;5;241m=\u001b[39memployee(\u001b[38;5;241m1\u001b[39m,\u001b[38;5;124m\"\u001b[39m\u001b[38;5;124mss\u001b[39m\u001b[38;5;124m\"\u001b[39m,\u001b[38;5;124m\"\u001b[39m\u001b[38;5;124m123\u001b[39m\u001b[38;5;124m\"\u001b[39m,\u001b[38;5;241m56789\u001b[39m,\u001b[38;5;124m\"\u001b[39m\u001b[38;5;124mxyx\u001b[39m\u001b[38;5;124m\"\u001b[39m,\u001b[38;5;124m\"\u001b[39m\u001b[38;5;124mprq\u001b[39m\u001b[38;5;124m\"\u001b[39m)\n\u001b[1;32m----> 2\u001b[0m e1\u001b[38;5;241m.\u001b[39mdisplay_id()\n",
      "Cell \u001b[1;32mIn[53], line 15\u001b[0m, in \u001b[0;36memployee.display_id\u001b[1;34m(self)\u001b[0m\n\u001b[0;32m     14\u001b[0m \u001b[38;5;28;01mdef\u001b[39;00m \u001b[38;5;21mdisplay_id\u001b[39m(\u001b[38;5;28mself\u001b[39m):\n\u001b[1;32m---> 15\u001b[0m     \u001b[38;5;28mprint\u001b[39m(\u001b[38;5;28mself\u001b[39m\u001b[38;5;241m.\u001b[39mempid,\u001b[38;5;28mself\u001b[39m\u001b[38;5;241m.\u001b[39mdeptno,\u001b[38;5;28mself\u001b[39m\u001b[38;5;241m.\u001b[39mlocation,\u001b[38;5;28mself\u001b[39m\u001b[38;5;241m.\u001b[39mmgr)\n\u001b[0;32m     16\u001b[0m     \u001b[38;5;28mprint\u001b[39m(\u001b[38;5;28mself\u001b[39m\u001b[38;5;241m.\u001b[39memp_count)\n",
      "\u001b[1;31mAttributeError\u001b[0m: 'employee' object has no attribute 'deptno'"
     ]
    }
   ],
   "source": [
    "e1=employee(1,\"ss\",\"123\",56789,\"xyx\",\"prq\")\n",
    "e1.display_id()"
   ]
  },
  {
   "cell_type": "code",
   "execution_count": null,
   "id": "8ec4ecdb",
   "metadata": {},
   "outputs": [],
   "source": [
    "# to call static method\n",
    "employee.static_display_total_emp()"
   ]
  },
  {
   "cell_type": "code",
   "execution_count": null,
   "id": "826401b3",
   "metadata": {},
   "outputs": [],
   "source": [
    "#to call class method\n",
    "e1.display_total_emp()\n",
    "e1.\n",
    "\n",
    "# in class method we cant access using \"self.\" can only access using cl"
   ]
  },
  {
   "cell_type": "markdown",
   "id": "869dd941",
   "metadata": {},
   "source": [
    "# practice"
   ]
  },
  {
   "cell_type": "code",
   "execution_count": 102,
   "id": "bddbc021",
   "metadata": {},
   "outputs": [],
   "source": [
    "class demo_typo1:\n",
    "    # by default python adds a empty constructor to this class\n",
    "    # def __init__(self):\n",
    "    #    pass\n",
    "     def __init__():  # wrong syntax\n",
    "        print(\"Right constructor\")"
   ]
  },
  {
   "cell_type": "code",
   "execution_count": 103,
   "id": "470ae240",
   "metadata": {},
   "outputs": [
    {
     "ename": "TypeError",
     "evalue": "demo_typo1.__init__() takes 0 positional arguments but 1 was given",
     "output_type": "error",
     "traceback": [
      "\u001b[1;31m---------------------------------------------------------------------------\u001b[0m",
      "\u001b[1;31mTypeError\u001b[0m                                 Traceback (most recent call last)",
      "Cell \u001b[1;32mIn[103], line 1\u001b[0m\n\u001b[1;32m----> 1\u001b[0m dt1\u001b[38;5;241m=\u001b[39mdemo_typo1()\n",
      "\u001b[1;31mTypeError\u001b[0m: demo_typo1.__init__() takes 0 positional arguments but 1 was given"
     ]
    }
   ],
   "source": [
    "dt1=demo_typo1()"
   ]
  },
  {
   "cell_type": "code",
   "execution_count": 96,
   "id": "c8c8de5c",
   "metadata": {},
   "outputs": [],
   "source": [
    "class demo_typo1:\n",
    "     def _init_(self):  # wrong syntax\n",
    "        print(\"Right constructor\")"
   ]
  },
  {
   "cell_type": "code",
   "execution_count": 98,
   "id": "6ec774f3",
   "metadata": {},
   "outputs": [],
   "source": [
    "dt1=demo_typo1()"
   ]
  }
 ],
 "metadata": {
  "kernelspec": {
   "display_name": "Python 3 (ipykernel)",
   "language": "python",
   "name": "python3"
  },
  "language_info": {
   "codemirror_mode": {
    "name": "ipython",
    "version": 3
   },
   "file_extension": ".py",
   "mimetype": "text/x-python",
   "name": "python",
   "nbconvert_exporter": "python",
   "pygments_lexer": "ipython3",
   "version": "3.11.4"
  }
 },
 "nbformat": 4,
 "nbformat_minor": 5
}
