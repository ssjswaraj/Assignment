{
 "cells": [
  {
   "cell_type": "code",
   "execution_count": null,
   "metadata": {},
   "outputs": [],
   "source": [
    "# Advanced questions on functions ( 5+)\n"
   ]
  },
  {
   "cell_type": "markdown",
   "metadata": {},
   "source": [
    "# 1"
   ]
  },
  {
   "cell_type": "code",
   "execution_count": null,
   "metadata": {},
   "outputs": [],
   "source": [
    "Q1 Write a function in Python to check duplicate letters inside a word,\n",
    "without considering case. It must accept a string, i.e., a sentence. \n",
    "The function should return True if the sentence has any word with duplicate letters, else return False. \n",
    "\n",
    "Example:\n",
    "input: \n",
    "i am glad to be here!\n",
    "output True (because here word has duplicate letters)\n",
    "\n",
    "input:\n",
    "you are wonderful\n",
    "output False (because no word has duplicate letters)"
   ]
  },
  {
   "cell_type": "code",
   "execution_count": 6,
   "metadata": {},
   "outputs": [
    {
     "data": {
      "text/plain": [
       "True"
      ]
     },
     "execution_count": 6,
     "metadata": {},
     "output_type": "execute_result"
    }
   ],
   "source": [
    "def duplicate_letter(sent):\n",
    "    sent_list=sent.split(\" \")\n",
    "    for ele in sent_list:\n",
    "        if len(set(ele)) == len(ele):\n",
    "            return True\n",
    "        else:\n",
    "            return False\n",
    "    \n",
    "sent=\"i am glad to be here\"\n",
    "duplicate_letter(sent)"
   ]
  },
  {
   "cell_type": "markdown",
   "metadata": {},
   "source": [
    "# 2"
   ]
  },
  {
   "cell_type": "code",
   "execution_count": null,
   "metadata": {},
   "outputs": [],
   "source": [
    "Q2 Write a function in Python to parse a string such that it accepts a parameter- an encoded string. \n",
    "This encoded string will contain a first name, last name, and an id.\n",
    "You can separate the values in the string by any number of zeros. \n",
    "The id will not contain any zeros. \n",
    "The function should return a Python dictionary with the first name, last name, and id values. \n",
    "For example, if the input would be \"John000Doe000123\". \n",
    "Then the function should return: { \"first_name\": \"John\", \"last_name\": \"Doe\", \"id\": \"123\" }"
   ]
  },
  {
   "cell_type": "code",
   "execution_count": 50,
   "metadata": {},
   "outputs": [
    {
     "name": "stdout",
     "output_type": "stream",
     "text": [
      "1\n",
      "2\n",
      "3\n",
      "4\n",
      "['John', 'Doe', '123']\n"
     ]
    }
   ],
   "source": [
    "def parse(sent):\n",
    "    di={}\n",
    "    first_name=sent.split(\"0\")\n",
    "    first_name_copy=first_name.copy()\n",
    "    count_space=first_name.count(\"\")\n",
    "    \n",
    "    while(count_space>0): \n",
    "        first_name.remove(\"\")\n",
    "        count_space-=1\n",
    "        \n",
    "    print(first_name)\n",
    "\n",
    "sent=\"John000Doe000123\"\n",
    "parse(sent)\n"
   ]
  },
  {
   "cell_type": "code",
   "execution_count": 49,
   "metadata": {},
   "outputs": [
    {
     "name": "stdout",
     "output_type": "stream",
     "text": [
      "['John', '', '', 'Doe', '', '', '123']\n",
      "0\n",
      "1\n",
      "2\n",
      "3\n",
      "4\n",
      "5\n",
      "6\n",
      "['John', 'Doe', '123']\n"
     ]
    }
   ],
   "source": [
    "##########another\n",
    "def parse(sent):\n",
    "    di={}\n",
    "    first_name=sent.split(\"0\")\n",
    "    first_name_copy=first_name.copy()\n",
    "    x=[]\n",
    "    \n",
    "    for i in first_name:\n",
    "        if i!=\"\":\n",
    "            x.append(i)\n",
    "    print(x)\n",
    "\n",
    "sent=\"John000Doe000123\"\n",
    "parse(sent)\n"
   ]
  },
  {
   "cell_type": "markdown",
   "metadata": {},
   "source": [
    "# 3"
   ]
  },
  {
   "cell_type": "code",
   "execution_count": null,
   "metadata": {},
   "outputs": [],
   "source": [
    "Q3 Write a function in Python to convert a decimal to a hex. \n",
    "It must accept a string of ASCII characters as input.\n",
    "The function should return the value of each character as a hexadecimal string.\n",
    "You have to remove the suffix 0x from all hex representations. \n",
    "You have to separate each byte by a space and return all alpha hexadecimal characters as lowercase.\n",
    "\n",
    "Ex. input 'AB'\n",
    "Output '41 42'\n",
    "Explaination : hex value for 'A' is 0x41 and 'B' is 0x42. So take only 41 and 42 removing the prefix '0x' .\n",
    "\n",
    "input '@21Z'\n",
    "Output '40 32 31 5a'\n"
   ]
  },
  {
   "cell_type": "code",
   "execution_count": 27,
   "metadata": {},
   "outputs": [
    {
     "data": {
      "text/plain": [
       "'41 42'"
      ]
     },
     "execution_count": 27,
     "metadata": {},
     "output_type": "execute_result"
    }
   ],
   "source": [
    "def convert(inp):\n",
    "    inp_list=[i for i in inp]\n",
    "    inp_hex=list((map(hex,map(ord,inp_list))))\n",
    "    inp_new=list(map(lambda x:x[2:],inp_hex))\n",
    "    return \" \".join(inp_new)   \n",
    "\n",
    "inp= '@21Z'\n",
    "inp='AB'\n",
    "convert(inp)"
   ]
  },
  {
   "cell_type": "markdown",
   "metadata": {},
   "source": [
    "# 4"
   ]
  },
  {
   "cell_type": "code",
   "execution_count": null,
   "metadata": {},
   "outputs": [],
   "source": [
    "Q4 Compress the given string S using following rules, \n",
    "- If the string contains a alphabate or special char, that occurs 4 times consecutively,\n",
    "then replace it with its compressed representation, (4, given character) in the string. \n",
    "- Neglect the case of latters when counting the repeatitions and creating compressed representation. \n",
    "- If there are multiple spaces then take them as a single space only, and replace with (1, ).\n",
    "- S is containing only aphabates or special characters, \n",
    "anything other than this should be kept as it is in the output\n",
    "\n",
    "Ex. \n",
    "input 'aabbbbeeeaa'\n",
    "output '(2,a)(4,b)(3,e)(2,a)'\n",
    "\n",
    "input 'Aa jj  '\n",
    "output '(2,a)(1, )(2,j)(1, )'\n"
   ]
  },
  {
   "cell_type": "code",
   "execution_count": 93,
   "metadata": {},
   "outputs": [
    {
     "name": "stdout",
     "output_type": "stream",
     "text": [
      " (2, 'a')(4, 'b')(3, 'e')(2, 'a')\n",
      " (2, 'a')(1, ' ')(2, 'j')(1, ' ')\n"
     ]
    }
   ],
   "source": [
    "def compress(word):\n",
    "    '''compressing the string'''\n",
    "    word=word.lower()\n",
    "    l1=[]\n",
    "    for i,ele in enumerate(word):\n",
    "    \n",
    "        if i==0:\n",
    "            l1.append([1,ele])\n",
    "            \n",
    "        elif (i>0) and (word[i]==word[i-1]) and word[i]!=\" \":\n",
    "            l1[len(l1)-1][0]+=1\n",
    "            \n",
    "        elif i>0 and word[i]!=word[i-1]:\n",
    "            l1.append([1,ele])\n",
    "            \n",
    "    compress_str=\" \"\n",
    "    for i in l1:\n",
    "        compress_str=compress_str+str(tuple(i))\n",
    "        \n",
    "    return compress_str\n",
    "              \n",
    "word = 'aabbbbeeeaa'\n",
    "print(compress(word))\n",
    "\n",
    "word= 'Aa jj  '\n",
    "print(compress(word))"
   ]
  },
  {
   "cell_type": "markdown",
   "metadata": {},
   "source": [
    "# 5"
   ]
  },
  {
   "cell_type": "code",
   "execution_count": null,
   "metadata": {},
   "outputs": [],
   "source": [
    "Q5 Write a function named 'format_number' that takes a number as its only parameter.\n",
    "Your function should convert the number to a string and add commas as a thousand separators.\n",
    "For example, calling format_number(1000000) should return \"1,000,000\". \n",
    "- In case negetive number then print error message"
   ]
  },
  {
   "cell_type": "code",
   "execution_count": 16,
   "metadata": {},
   "outputs": [
    {
     "name": "stdout",
     "output_type": "stream",
     "text": [
      "100,064,508\n"
     ]
    }
   ],
   "source": [
    "\n",
    "def format_number(num):\n",
    "    num_str=str(num)\n",
    "    idx=len(num_str)%3\n",
    "    if idx == 0:\n",
    "        s=\"\"\n",
    "    else:\n",
    "        s=num_str[:idx:]\n",
    "    for i in range(idx,len(num_str),3):\n",
    "        if idx==0 and i<3:\n",
    "            s=s+num_str[i:i+3:]\n",
    "        else:\n",
    "            s=s+\",\"+num_str[i:i+3:]\n",
    "    print(s)\n",
    "    \n",
    "format_number(100064508)"
   ]
  },
  {
   "cell_type": "markdown",
   "metadata": {},
   "source": [
    "# 6"
   ]
  },
  {
   "cell_type": "code",
   "execution_count": null,
   "metadata": {},
   "outputs": [],
   "source": [
    "Q6 There is pizza shop. When order is given it takes name of the person as input.\n",
    "There can be typo mistakes, so system allows to edit the name. \n",
    "Write a function which takes a name string as input, position, and new character. \n",
    "Then it changes character in name for given position with new character. Return the edited string from the function.\n",
    "\n",
    "Ex. \n",
    "input \"SAW\",2,\"M\"\n",
    "output \"SAM\"\n",
    "\n",
    "input \"ABC\", 0, \"Z\"\n",
    "output \"ZBC\"\n"
   ]
  },
  {
   "cell_type": "code",
   "execution_count": 32,
   "metadata": {},
   "outputs": [
    {
     "name": "stdout",
     "output_type": "stream",
     "text": [
      "enter your name: swsz\n",
      "is your name ok?\n",
      "1. for yes,2. for no :2\n",
      "enter the position and newcharacter space in between : 3 a\n",
      "correct name is : swaz\n"
     ]
    }
   ],
   "source": [
    "def edit(name,pos,character):\n",
    "    '''edit name'''\n",
    "    l_name=list(name)\n",
    "    l_name[pos-1]=character\n",
    "    return \"\".join(l_name)\n",
    "\n",
    "\n",
    "\n",
    "name=input(\"enter your name: \")\n",
    "choice=int(input(\"is your name ok?\\n1. for yes,2. for no :\"))\n",
    "match choice:\n",
    "    case 1:\n",
    "        print(\"right name\")\n",
    "    case 2:\n",
    "        correct=input(\"enter the position and newcharacter space in between : \")\n",
    "        correct_list=correct.split(\" \")\n",
    "        correct_name=edit(name,int(correct_list[0]),correct_list[1])\n",
    "        print(\"correct name is :\",correct_name)\n",
    "    \n",
    "    \n",
    "    \n",
    "# name=\"Swsz\"\n",
    "# edit(name)"
   ]
  },
  {
   "cell_type": "markdown",
   "metadata": {},
   "source": [
    "# 7"
   ]
  },
  {
   "cell_type": "code",
   "execution_count": null,
   "metadata": {},
   "outputs": [],
   "source": [
    "Q7 Ms. Gabriel Williams is a botany professor at District College.\n",
    "One day, she asked her student Mickey to compute the average of all the plants \n",
    "with distinct heights in her greenhouse.\n",
    "\n",
    "Formula used:\n",
    "Average = Sum of Distinct Heights/Total Number of Distinct Heights\n",
    "\n",
    "Function Description\n",
    "The average has the following parameters:\n",
    "    Input string containing all heights seperated by space\n",
    "Returns\n",
    "    float: the resulting float value rounded to 3 places after the decimal\n",
    "\n",
    "Input Format\n",
    "The first line contains the integer, N, the size or arr.\n",
    "The second line contains the N space-separated integers, arr[i].\n",
    "Constraints\n",
    "\n",
    "0 < N <= 100\n",
    "Sample Input\n",
    "STDIN                                       Function\n",
    "-----                                       --------\n",
    "10                                          arr[] size N = 10\n",
    "161 182 161 154 176 170 167 171 170 174     arr = [161, 181, ..., 174]\n",
    "\n",
    "Sample Output\n",
    "169.375\n",
    "\n",
    "Explanation\n",
    "Here, 154 161 167 170 171 174 176 182 are distinct values from input.\n",
    "So, \n",
    "Average = 1355/8 = 169.375"
   ]
  },
  {
   "cell_type": "code",
   "execution_count": 113,
   "metadata": {},
   "outputs": [
    {
     "data": {
      "text/plain": [
       "169.375"
      ]
     },
     "execution_count": 113,
     "metadata": {},
     "output_type": "execute_result"
    }
   ],
   "source": [
    "def average(sample_input):\n",
    "    '''finding average of distinct values'''\n",
    "    sample_list=sample_input.split(\" \")\n",
    "    sample_set=set(sample_list)\n",
    "    sum=0\n",
    "    for i in sample_set:\n",
    "        sum+=int(i)\n",
    "    avg=sum/len(sample_set)\n",
    "    return round(avg, 3)\n",
    "       \n",
    "s=\"161 182 161 154 176 170 167 171 170 174\"\n",
    "average(s)"
   ]
  },
  {
   "cell_type": "markdown",
   "metadata": {},
   "source": [
    "# 8"
   ]
  },
  {
   "cell_type": "code",
   "execution_count": 112,
   "metadata": {},
   "outputs": [
    {
     "data": {
      "text/plain": [
       "2.36"
      ]
     },
     "execution_count": 112,
     "metadata": {},
     "output_type": "execute_result"
    }
   ],
   "source": [
    "Q8 There is an array of n integers. There are also 2 disjoint sets, A and B, each containing m integers. \n",
    "You like all the integers in set A and dislike all the integers in set B. Your initial happiness is 0. \n",
    "For each i integer in the array, if i belongs to A, you add 1 to your happiness. \n",
    "If i belongs to B, you add -1 to your happiness. Otherwise, your happiness does not change. \n",
    "Output your final happiness at the end.\n",
    "\n",
    "Note: Since A and B are sets, they have no repeated elements. However, the array might contain duplicate elements.\n",
    "Constraints\n",
    "    1 <= n <= 105\n",
    "    1 <= m <= 105\n",
    "    1 <= Any integer in the input <= 109\n",
    "\n",
    "Input Format\n",
    "The first line contains integers n and m separated by a space.\n",
    "The second line contains n integers, the elements of the array.\n",
    "The third and fourth lines contain m integers, A and B, respectively.\n",
    "\n",
    "Output Format\n",
    "Output a single integer, your total happiness.\n",
    "\n",
    "Sample Input\n",
    "3 2\n",
    "1 5 3\n",
    "3 1\n",
    "5 7\n",
    "\n",
    "Sample Output\n",
    "1\n",
    "\n",
    "\n"
   ]
  },
  {
   "cell_type": "code",
   "execution_count": 119,
   "metadata": {},
   "outputs": [
    {
     "data": {
      "text/plain": [
       "1"
      ]
     },
     "execution_count": 119,
     "metadata": {},
     "output_type": "execute_result"
    }
   ],
   "source": [
    "def happiness(A,B,arr):\n",
    "    '''calculation happiness'''\n",
    "    happ=0\n",
    "    for i in arr:\n",
    "        if i in A:\n",
    "            happ+=1\n",
    "        if i in B:\n",
    "            happ+=-1\n",
    "    return happ\n",
    "\n",
    "A={3,1}\n",
    "B={5,7}\n",
    "arr=[1,5,3]\n",
    "happiness(A,B,arr)"
   ]
  },
  {
   "cell_type": "markdown",
   "metadata": {},
   "source": [
    "# 9"
   ]
  },
  {
   "cell_type": "code",
   "execution_count": null,
   "metadata": {},
   "outputs": [],
   "source": [
    "Q9 There is an essay writting competition. \n",
    "Winner will be a person who uses maximum number of unique valid words in his/her essay. \n",
    "There is a bonus score if essay has numbers in it. Take 5 essays as input from user. \n",
    "Print the winner essay number using following function.\n",
    "\n",
    "The function takes input a string containing an essay and returns the total score.\n",
    "- There are multiple sentences in one essay.\n",
    "- After every word there is a space\n",
    "- Sentence can end with 3 characters --> .?!\n",
    "- A valid word contains minimum 2 characters\n",
    "- All other special characters should be neglected\n",
    "- Bonus score to each whole number is 1\n",
    "\n",
    "Example:\n",
    "input 5 essays\n",
    "abc dfg\n",
    "a b g h 123 12 \n",
    "asd fgh hjk tyu klu rty 333 23\n",
    "1 2 34 you are good!\n",
    "this is sample. take more inputs.\n",
    "\n",
    "output: 3\n",
    "\n",
    "Explaination: \n",
    "first essay score is 2 because of 2 distinct valid words and 0 whole numbers\n",
    "Second essay score is 2 because of 0 distinct valid words and 2 whole numbers\n",
    "Third essay score is 8 because of 6 distinct valid words and 2 whole numbers\n",
    "Fourth essay score is 6 because of 3 distinct valid words and 3 whole numbers\n",
    "Fifth essay score is 6 because of 6 distinct valid words and 0 whole numbers\n",
    "So 3 is winner"
   ]
  },
  {
   "cell_type": "code",
   "execution_count": 159,
   "metadata": {},
   "outputs": [
    {
     "name": "stdout",
     "output_type": "stream",
     "text": [
      "winner is : asd fgh hjk tyu klu rty 333 23 \n",
      "with a score of : 8\n"
     ]
    }
   ],
   "source": [
    "def score(essay):\n",
    "    essay_list=essay.split(\" \")\n",
    "    essay_valid=[i for i in essay_list if len(i)>1]\n",
    "    essay_set=set(essay_valid)\n",
    "    return len(essay_set)\n",
    "    \n",
    "\n",
    "a=\"abc dfg\"\n",
    "b=\"a b g h 123 12\"\n",
    "c=\"asd fgh hjk tyu klu rty 333 23\"\n",
    "d=\"1 2 34 you are good!\"\n",
    "e=\"this is sample. take more inputs.\"   \n",
    "essay_list=[a,b,c,d,e]\n",
    "score_dict={}\n",
    "for i in essay_list:\n",
    "    score_dict[i]=score(i)\n",
    "sorted_score_dict=sorted(score_dict,key=(lambda x:x[1]),reverse=True)\n",
    "print(\"winner is :\",sorted_score_dict[0],\"\\nwith a score of :\",score_dict[sorted_score_dict[0]])"
   ]
  },
  {
   "cell_type": "code",
   "execution_count": null,
   "metadata": {},
   "outputs": [],
   "source": [
    "#Super Advanced Practice (10 +)"
   ]
  },
  {
   "cell_type": "markdown",
   "metadata": {},
   "source": [
    "# 1"
   ]
  },
  {
   "cell_type": "code",
   "execution_count": null,
   "metadata": {},
   "outputs": [],
   "source": [
    "Q. There is company which maintains emloyee records in a python list containing dictionaries.  \n",
    "Write a function that takes this list of dictionaries as input. \n",
    "Dictionary has name, age and gender of a person. Sort all entries by age. \n",
    "If there is a tie then sort by gender. If still there is tie then sort by name. \n",
    "In names capital letters are considered as higher than lower case letters.\n",
    "In case of negative age, special characters in name, \n",
    "or gender other than 'M' or 'F' give appropriate error message and don't include the record in the output list.\n",
    "\n",
    "Format of dictionary {'name':'emp_name','age':'emp_age','geder':'emp_gender'}\n",
    "\n",
    "Ex. \n",
    "input: \n",
    "[ {'name':'ss','age':'23','geder':'F'},\n",
    "{'name':'xy','age':'19','geder':'F'},\n",
    "{'name':'abc','age':'23','geder':'F'},\n",
    "{'name':'iam','age':'23','geder':'M'},\n",
    "{'name':'aa','age':'45','geder':'M'},\n",
    "]\n",
    "\n",
    "Output :\n",
    "[ {'name':'xy','age':'19','geder':'F'},\n",
    "{'name':'abc','age':'23','geder':'F'},\n",
    "{'name':'ss','age':'23','geder':'F'},\n",
    "{'name':'iam','age':'23','geder':'M'},\n",
    "{'name':'aa','age':'45','geder':'M'},\n",
    "]"
   ]
  },
  {
   "cell_type": "code",
   "execution_count": 14,
   "metadata": {},
   "outputs": [
    {
     "name": "stdout",
     "output_type": "stream",
     "text": [
      "{'name': 'xay', 'age': '19', 'geder': 'F'}\n",
      "{'name': 'xy', 'age': '19', 'geder': 'F'}\n",
      "{'name': 'xaya', 'age': '19', 'geder': 'M'}\n",
      "{'name': 'abc', 'age': '23', 'geder': 'F'}\n",
      "{'name': 'pika', 'age': '23', 'geder': 'F'}\n",
      "{'name': 'ss', 'age': '23', 'geder': 'F'}\n",
      "{'name': 'abx', 'age': '23', 'geder': 'M'}\n",
      "{'name': 'iam', 'age': '23', 'geder': 'M'}\n",
      "{'name': 'kl', 'age': '23', 'geder': 'M'}\n",
      "{'name': 'mkl', 'age': '23', 'geder': 'M'}\n",
      "{'name': 'aab', 'age': '45', 'geder': 'F'}\n",
      "{'name': 'aa', 'age': '45', 'geder': 'M'}\n",
      "{'name': 'ba', 'age': '45', 'geder': 'M'}\n"
     ]
    }
   ],
   "source": [
    "def sort(emp):\n",
    "    sort_emp_age=sorted(emp,key=lambda x:(int(x['age']),x['geder'],x['name']))\n",
    "    for ele in sort_emp_age:\n",
    "        print(ele)\n",
    "        \n",
    "emp=[ \n",
    "{'name':'abx','age':'23','geder':'M'},\n",
    "{'name':'ss','age':'23','geder':'F'},\n",
    "{'name':'xaya','age':'19','geder':'M'},\n",
    "{'name':'xay','age':'19','geder':'F'},\n",
    "{'name':'xy','age':'19','geder':'F'},\n",
    "{'name':'abc','age':'23','geder':'F'},\n",
    "{'name':'mkl','age':'23','geder':'M'},\n",
    "{'name':'iam','age':'23','geder':'M'},\n",
    "{'name':'aa','age':'45','geder':'M'},\n",
    "{'name':'pika','age':'23','geder':'F'},\n",
    "{'name':'kl','age':'23','geder':'M'},\n",
    "{'name':'aab','age':'45','geder':'F'},\n",
    "{'name':'ba','age':'45','geder':'M'}]\n",
    "\n",
    "sort(emp)"
   ]
  },
  {
   "cell_type": "markdown",
   "metadata": {},
   "source": [
    "def sort(emp):\n",
    "    sort_emp_age=sorted(emp,key=lambda x:int(x['age']))\n",
    "    temp=[]\n",
    "    index=[]\n",
    "    for ele in sort_emp_age:\n",
    "        print(ele)\n",
    "    \n",
    "    ##############################by age\n",
    "    for idx in range(len(sort_emp_age)-1):\n",
    "        if (sort_emp_age[idx]['age']==sort_emp_age[idx+1]['age']):\n",
    "            if (len(index)>0):\n",
    "                if (index[len(index)-1][0]!=sort_emp_age[idx]['age']):\n",
    "                    index.append([sort_emp_age[idx+1]['age'],idx])\n",
    "            else:\n",
    "                index.append([sort_emp_age[idx+1]['age'],idx])\n",
    "            \n",
    "\n",
    "        if (sort_emp_age[idx]['age']!=sort_emp_age[idx+1]['age']) and (len(index)>0):\n",
    "            if (index[len(index)-1][0]==sort_emp_age[idx]['age']):\n",
    "                index.append([sort_emp_age[idx]['age'],idx])\n",
    "                \n",
    "        if idx==(len(sort_emp_age)-2):\n",
    "            index.append([sort_emp_age[idx+1]['age'],(idx+1)])\n",
    "            \n",
    "    print(index)\n",
    "            \n",
    "    sort_emp_age_copy=sort_emp_age.copy()\n",
    "    for i in range(0,len(index),2):\n",
    "        sort=sorted(sort_emp_age_copy[index[i][1]:(index[i+1][1])+1],key=lambda x:x['geder'])\n",
    "        sort_emp_age_copy[index[i][1]:(index[i+1][1])+1]=sort\n",
    "        \n",
    "    \n",
    "    for i,ele in enumerate(sort_emp_age_copy):\n",
    "        print(i,ele)\n",
    "    print(\"######\")\n",
    "    ########################by name    \n",
    "    \n",
    "    seg=sort_emp_age_copy.copy()\n",
    "    index_name=[]\n",
    "    lg=len(seg)\n",
    "    for idx in range(len(seg)-1):\n",
    "        if seg[idx]['age']==seg[idx+1]['age']:\n",
    "            if seg[idx]['geder']==seg[idx+1]['geder']:\n",
    "                if (len(index_name)>0):\n",
    "                    index_name.append([seg[idx]['age'],seg[idx]['geder'],idx])\n",
    "                else:\n",
    "                    index_name.append([seg[idx]['age'],seg[idx]['geder'],idx])\n",
    "                    \n",
    "        if (len(index_name)>0):\n",
    "            print()\n",
    "            if (seg[idx]['age']==index_name[len(index_name)-1][0]) and (seg[idx]['geder']==index_name[len(index_name)-1][1]):\n",
    "                if (seg[idx]['geder']!=seg[idx+1]['geder']) or (seg[idx]['age']!=seg[idx+1]['age']):     \n",
    "                    index_name.append([seg[idx]['age'],seg[idx]['geder'],idx])\n",
    "                    \n",
    "        if idx==(len(seg)-2):\n",
    "            index_name.append([seg[idx+1]['age'],(idx+1)])\n",
    "    print(index_name)    \n",
    "    \n",
    "    \n",
    "emp=[ {'name':'ss','age':'23','geder':'F'},\n",
    "{'name':'abx','age':'23','geder':'M'},\n",
    "{'name':'xy','age':'19','geder':'F'},\n",
    "{'name':'xay','age':'19','geder':'M'},\n",
    "{'name':'abc','age':'23','geder':'F'},\n",
    "{'name':'iam','age':'23','geder':'M'},\n",
    "{'name':'aa','age':'45','geder':'M'},\n",
    "{'name':'pika','age':'23','geder':'F'},\n",
    "{'name':'mkl','age':'23','geder':'M'},\n",
    "{'name':'kl','age':'23','geder':'M'},\n",
    "{'name':'aab','age':'45','geder':'F'},\n",
    "{'name':'ba','age':'45','geder':'M'}]\n",
    "\n",
    "sort(emp)"
   ]
  },
  {
   "cell_type": "code",
   "execution_count": null,
   "metadata": {},
   "outputs": [],
   "source": [
    "Q Mr. Vincent works in a door mat manufacturing company. One day, he designed a new door mat with the following specifications:\n",
    "\n",
    "Mat size must be N X M. (N is an odd natural number, and M is 3 times N.)\n",
    "The design should have ‘WELCOME’ written in the center.\n",
    "The design pattern should only use |, . and – characters.\n",
    "\n",
    "Sample Designs\n",
    "Size: 7 x 21 \n",
    "    ---------.|.---------\n",
    "    ------.|..|..|.------\n",
    "    ---.|..|..|..|..|.---\n",
    "    -------WELCOME-------\n",
    "    ---.|..|..|..|..|.---\n",
    "    ------.|..|..|.------\n",
    "    ---------.|.---------\n",
    "    \n",
    "    Size: 11 x 33\n",
    "    ---------------.|.---------------\n",
    "    ------------.|..|..|.------------\n",
    "    ---------.|..|..|..|..|.---------\n",
    "    ------.|..|..|..|..|..|..|.------\n",
    "    ---.|..|..|..|..|..|..|..|..|.---\n",
    "    -------------WELCOME-------------\n",
    "    ---.|..|..|..|..|..|..|..|..|.---\n",
    "    ------.|..|..|..|..|..|..|.------\n",
    "    ---------.|..|..|..|..|.---------\n",
    "    ------------.|..|..|.------------\n",
    "    ---------------.|.---------------\n",
    "\n",
    "Input Format\n",
    "A single line containing the space-separated values of N and M.\n",
    "\n",
    "Constraints\n",
    "    5 < N < 101\n",
    "    15 < M < 303\n",
    "\n",
    "Output Format\n",
    "Output the design pattern.\n",
    "\n",
    "Sample Input\n",
    "9 27\n",
    "\n",
    "Sample Output\n",
    "\n",
    "------------.|.------------\n",
    "---------.|..|..|.---------\n",
    "------.|..|..|..|..|.------\n",
    "---.|..|..|..|..|..|..|.---\n",
    "----------WELCOME----------\n",
    "---.|..|..|..|..|..|..|.---\n",
    "------.|..|..|..|..|.------\n",
    "---------.|..|..|.---------\n",
    "------------.|.------------\n",
    "\n",
    "\n",
    "Q There is an airport which maintains data of passengers coming in list of entries. Each entry is a string of format \"name:TicketID\". TicketId is of 5 characters. TicketID contains first two letters as airline code and last 3 letters as seat number.\n",
    "Also, there is another list of airline data. Here each entry is a string of format \"AirlineCode:Capacity\". \n",
    "Write a function which takes these two lists as input \n",
    "Function returns list of airline codes which are not full\n",
    "\n",
    "Example\n",
    "input:\n",
    "[ \"Simba:AA003\", \"Prayas:DA006\", \"Pran:DA023\", \"Rama:AA001\", \"Abhay:SJ098\"]\n",
    "[ \"AA:02\", \"DA:04\", \"SJ:100\"]\n",
    "\n",
    "Output:\n",
    "[DA, SJ ]\n",
    "\n"
   ]
  }
 ],
 "metadata": {
  "kernelspec": {
   "display_name": "Python 3",
   "language": "python",
   "name": "python3"
  },
  "language_info": {
   "codemirror_mode": {
    "name": "ipython",
    "version": 3
   },
   "file_extension": ".py",
   "mimetype": "text/x-python",
   "name": "python",
   "nbconvert_exporter": "python",
   "pygments_lexer": "ipython3",
   "version": "3.7.4"
  }
 },
 "nbformat": 4,
 "nbformat_minor": 5
}
