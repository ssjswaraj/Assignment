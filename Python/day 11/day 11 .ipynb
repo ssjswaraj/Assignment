{
 "cells": [
  {
   "cell_type": "code",
   "execution_count": null,
   "id": "161023e7",
   "metadata": {},
   "outputs": [],
   "source": [
    "# q1\n"
   ]
  },
  {
   "cell_type": "code",
   "execution_count": 2,
   "id": "8e08107c",
   "metadata": {},
   "outputs": [
    {
     "data": {
      "text/plain": [
       "[3, 2, 1]"
      ]
     },
     "execution_count": 2,
     "metadata": {},
     "output_type": "execute_result"
    }
   ],
   "source": [
    "l1=[1,2,3]\n",
    "sorted(l1,key=(lambda x: -x))"
   ]
  },
  {
   "cell_type": "code",
   "execution_count": null,
   "id": "6ce903b5",
   "metadata": {},
   "outputs": [],
   "source": [
    "sorted() lambda x:x   or lambda x:ord(x) question2"
   ]
  },
  {
   "cell_type": "code",
   "execution_count": null,
   "id": "15a7a537",
   "metadata": {},
   "outputs": [],
   "source": []
  }
 ],
 "metadata": {
  "kernelspec": {
   "display_name": "Python 3 (ipykernel)",
   "language": "python",
   "name": "python3"
  },
  "language_info": {
   "codemirror_mode": {
    "name": "ipython",
    "version": 3
   },
   "file_extension": ".py",
   "mimetype": "text/x-python",
   "name": "python",
   "nbconvert_exporter": "python",
   "pygments_lexer": "ipython3",
   "version": "3.11.4"
  }
 },
 "nbformat": 4,
 "nbformat_minor": 5
}
