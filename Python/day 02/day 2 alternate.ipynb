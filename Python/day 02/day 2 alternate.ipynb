{
 "cells": [
  {
   "cell_type": "markdown",
   "metadata": {},
   "source": [
    "# if else"
   ]
  },
  {
   "cell_type": "markdown",
   "metadata": {},
   "source": [
    "2. accept amount from user and find the minimum number notes required to get the amount amount =512  \n",
    "Notes: 2000,500,100,50,10,5,2,1"
   ]
  },
  {
   "cell_type": "code",
   "execution_count": null,
   "metadata": {},
   "outputs": [],
   "source": [
    "amount =512\n",
    "if (amount>=2000):\n",
    "  count,amount = divmod(amount,2000)\n",
    "  print(\"2000 note - \",count)\n",
    "if (amount>=500):\n",
    "  count,amount = divmod(amount,500)\n",
    "  print(\"500 note - \",count)\n",
    "if (amount>=100):\n",
    "  count,amount = divmod(amount,100)\n",
    "  print(\"100 note - \",count)\n",
    "if (amount>=50):\n",
    "  count,amount = divmod(amount,50)\n",
    "  print(\"50 note - \",count)\n",
    "if (amount>=10):\n",
    "  count,amount = divmod(amount,10)\n",
    "  print(\"10 note - \",count)\n",
    "if (amount>=5):\n",
    "  count,amount = divmod(amount,5)\n",
    "  print(\"5 note - \",count)\n",
    "if (amount>=2):\n",
    "  count,amount = divmod(amount,2)\n",
    "  print(\"2 note - \",count)\n",
    "if (amount==1):\n",
    "  print(\"1 coint - \",amount)"
   ]
  },
  {
   "cell_type": "markdown",
   "metadata": {},
   "source": [
    "7. Write a program to calculate the electricity bill (accept number of unit from user) according to the following criteria :  \n",
    "             Unit                                    Price    \n",
    "First 100 units                                       no charge  \n",
    "Next 100 units                                        Rs 5 per unit  \n",
    "After 200 units                                       Rs 10 per unit  \n",
    "(For example if input unit is 350 than total bill amount is Rs2000)  "
   ]
  },
  {
   "cell_type": "code",
   "execution_count": 3,
   "metadata": {},
   "outputs": [
    {
     "name": "stdout",
     "output_type": "stream",
     "text": [
      "bill : 2000\n"
     ]
    }
   ],
   "source": [
    "unit=350\n",
    "bill =0\n",
    "if unit >200:\n",
    "    bill=(unit-200)*10\n",
    "    unit=200\n",
    "if unit >100:\n",
    "    bill=bill+(unit-100)*5\n",
    "print(\"bill :\",bill)"
   ]
  },
  {
   "cell_type": "markdown",
   "metadata": {},
   "source": [
    "# loops\n"
   ]
  },
  {
   "cell_type": "markdown",
   "metadata": {},
   "source": [
    "5. Given a number count the total number of digits in a number and also find sum of digits of the number. \n"
   ]
  },
  {
   "cell_type": "code",
   "execution_count": 13,
   "metadata": {},
   "outputs": [
    {
     "name": "stdout",
     "output_type": "stream",
     "text": [
      "enter the number1235\n",
      "total length : 4\n",
      "sum : 11\n"
     ]
    }
   ],
   "source": [
    "num=str(input(\"enter the number\"))\n",
    "# num=str(123)\n",
    "add=0\n",
    "print(\"total length :\",len(num))\n",
    "for i in num:\n",
    "    add=add+int(i)\n",
    "print(\"sum :\",add)"
   ]
  },
  {
   "cell_type": "code",
   "execution_count": null,
   "metadata": {},
   "outputs": [],
   "source": [
    "2.\tPrint the following patterns using loop : \n",
    "a. \n",
    "+\n",
    "++\n",
    "+++\n",
    "++++\n"
   ]
  },
  {
   "cell_type": "code",
   "execution_count": 17,
   "metadata": {},
   "outputs": [
    {
     "name": "stdout",
     "output_type": "stream",
     "text": [
      "\n",
      "*\n",
      "**\n",
      "***\n",
      "****\n"
     ]
    }
   ],
   "source": [
    "for i in range (5):\n",
    "    print(i*\"*\")"
   ]
  },
  {
   "cell_type": "code",
   "execution_count": null,
   "metadata": {},
   "outputs": [],
   "source": [
    "b. \n",
    "    *                    \n",
    "  ***                \n",
    "***** \n",
    "  ***\n",
    "    * \n"
   ]
  },
  {
   "cell_type": "code",
   "execution_count": 30,
   "metadata": {},
   "outputs": [
    {
     "name": "stdout",
     "output_type": "stream",
     "text": [
      "    *\n",
      "  ***\n",
      "*****\n",
      "  ***\n",
      "    *\n"
     ]
    }
   ],
   "source": [
    "for i in range(-4,5,2):\n",
    "    print(abs(i)*\" \",end=\"\")\n",
    "    print((5-abs(i))*\"*\")\n"
   ]
  },
  {
   "cell_type": "code",
   "execution_count": null,
   "metadata": {},
   "outputs": [],
   "source": [
    "c. \n",
    "1010101          \n",
    " 10101  \n",
    "  101   \n",
    "   1    \n",
    "\n"
   ]
  },
  {
   "cell_type": "code",
   "execution_count": null,
   "metadata": {},
   "outputs": [],
   "source": []
  },
  {
   "cell_type": "code",
   "execution_count": null,
   "metadata": {},
   "outputs": [],
   "source": []
  }
 ],
 "metadata": {
  "kernelspec": {
   "display_name": "Python 3",
   "language": "python",
   "name": "python3"
  },
  "language_info": {
   "codemirror_mode": {
    "name": "ipython",
    "version": 3
   },
   "file_extension": ".py",
   "mimetype": "text/x-python",
   "name": "python",
   "nbconvert_exporter": "python",
   "pygments_lexer": "ipython3",
   "version": "3.7.4"
  }
 },
 "nbformat": 4,
 "nbformat_minor": 5
}
