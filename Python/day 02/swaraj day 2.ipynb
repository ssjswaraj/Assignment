{
 "cells": [
  {
   "cell_type": "code",
   "execution_count": 21,
   "metadata": {},
   "outputs": [
    {
     "name": "stdout",
     "output_type": "stream",
     "text": [
      "enter number 130\n",
      "enter number 224\n"
     ]
    }
   ],
   "source": []
  },
  {
   "cell_type": "code",
   "execution_count": 26,
   "metadata": {},
   "outputs": [
    {
     "name": "stdout",
     "output_type": "stream",
     "text": [
      "enter number 1100\n",
      "enter number 2150\n",
      "gcf is :  50\n"
     ]
    }
   ],
   "source": [
    "#3\n",
    "a=int(input(\"enter number 1\"))\n",
    "b=int(input(\"enter number 2\"))\n",
    "if a==b:\n",
    "    print(\"GCF is \",a)\n",
    "elif(a<b):\n",
    "    if(b%a==0):\n",
    "          print(\"gcf is \",a)\n",
    "    for i in range(2,a//2+1):\n",
    "          if a%i==0 and b%i==0:\n",
    "              gcf=i\n",
    "else:\n",
    "    if(a%b==0):\n",
    "          print(\"gcf is \",b)\n",
    "    for i in range(2,b//2+1):\n",
    "          if a%i==0 and b%i==0:\n",
    "              gcf=i\n",
    "print(\"gcf is : \",gcf)          "
   ]
  },
  {
   "cell_type": "code",
   "execution_count": 138,
   "metadata": {
    "scrolled": true
   },
   "outputs": [
    {
     "name": "stdout",
     "output_type": "stream",
     "text": [
      "enter a number5\n",
      "press any character to continue or, q or Q to to exit a\n",
      "enter a number5\n",
      "press any character to continue or, q or Q to to exit 4\n",
      "enter a number8\n",
      "press any character to continue or, q or Q to to exit 2\n",
      "enter a number2\n",
      "press any character to continue or, q or Q to to exit q\n",
      "sum is  20\n",
      "average is  5.0\n"
     ]
    }
   ],
   "source": [
    "# 4\n",
    "char='b'\n",
    "i=0\n",
    "sum=0\n",
    "while (char!='q') and (char!='Q'):\n",
    "    num=int(input(\"enter a number\"))\n",
    "    i=i+1\n",
    "    sum=sum+num\n",
    "    char=input(\"press any character to continue or, q or Q to to exit \")\n",
    "print(\"sum is \",sum)\n",
    "print(\"average is \",sum/i)\n"
   ]
  },
  {
   "cell_type": "code",
   "execution_count": 33,
   "metadata": {},
   "outputs": [
    {
     "name": "stdout",
     "output_type": "stream",
     "text": [
      "your sum is :  12\n",
      "total number of digits 4\n"
     ]
    }
   ],
   "source": [
    "#5\n",
    "num=int(input(\"enter a number\"))\n",
    "sum=0\n",
    "i=0\n",
    "while (num!=0):\n",
    "    sum=sum+(num%10)\n",
    "    num=num//10\n",
    "    i=i+1\n",
    "print(\"your sum is : \",sum)\n",
    "print(\"total number of digits\", i)"
   ]
  },
  {
   "cell_type": "code",
   "execution_count": 37,
   "metadata": {},
   "outputs": [
    {
     "name": "stdout",
     "output_type": "stream",
     "text": [
      "enter the number3\n",
      "cube of  1  : 1\n",
      "cube of  2  : 8\n"
     ]
    }
   ],
   "source": [
    "#6\n",
    "num=int(input(\"enter the number\"))\n",
    "for i in range(1,num):\n",
    "    print(\"cube of \",i,\" :\",i*i*i)\n"
   ]
  },
  {
   "cell_type": "code",
   "execution_count": 38,
   "metadata": {},
   "outputs": [
    {
     "name": "stdout",
     "output_type": "stream",
     "text": [
      "enter a number: 5\n",
      "enter a number: 1\n",
      "enter a number: 2\n",
      "enter a number: 8\n",
      "enter a number: 6\n",
      "sum of even number : 16\n"
     ]
    }
   ],
   "source": [
    "#7\n",
    "sum=0\n",
    "for i in range(20):\n",
    "    num=int(input(\"enter a number: \"))\n",
    "    if num%2==0:\n",
    "        sum=sum+num\n",
    "print(\"sum of even number :\", sum)\n"
   ]
  },
  {
   "cell_type": "code",
   "execution_count": 139,
   "metadata": {},
   "outputs": [
    {
     "name": "stdout",
     "output_type": "stream",
     "text": [
      "number of terms to be generated in series [9 + 99 + 999 + 9999+……..] :4\n",
      "total sum is : 11106\n"
     ]
    }
   ],
   "source": [
    "#8\n",
    "num=int(input(\"number of terms to be generated in series [9 + 99 + 999 + 9999+……..] :\"))\n",
    "sum=0\n",
    "for i in range(1,num+1):\n",
    "    sum=10**i-1+sum\n",
    "print(\"total sum is :\",sum)"
   ]
  },
  {
   "cell_type": "code",
   "execution_count": 44,
   "metadata": {},
   "outputs": [
    {
     "name": "stdout",
     "output_type": "stream",
     "text": [
      "total sum 16.375\n"
     ]
    }
   ],
   "source": [
    "#9\n",
    "# 1+x+x^2/2!+x^3/3!+....\n",
    "# Tn=x**(n-1)/factorial(n-1)\n",
    "import math\n",
    "sum=0\n",
    "# x=3\n",
    "# n=5\n",
    "print(\"function is 1+x+x^2/2!+x^3/3!+....\")\n",
    "x=int(input(\"enter x :\"))\n",
    "n=int(input(\"enter n :\"))\n",
    "for i in range(1,n+1):\n",
    "    Tn=x**(i-1)/math.factorial(i-1)\n",
    "    sum=sum+Tn\n",
    "print(\"total sum\",sum)"
   ]
  },
  {
   "cell_type": "code",
   "execution_count": 58,
   "metadata": {},
   "outputs": [
    {
     "name": "stdout",
     "output_type": "stream",
     "text": [
      "for equation 1+x+x^2/2!+x^3/3!+.... \n",
      "total sum:  410\n"
     ]
    }
   ],
   "source": [
    "#10\n",
    "print(\"for equation 1+x+x^2/2!+x^3/3!+.... \")\n",
    "#Tn=(-1)**((n-1)%2)*x**(2*n-1)\n",
    "x=2\n",
    "n=5\n",
    "sum=0\n",
    "for i in range(1,n+1):\n",
    "    Tn=(-1)**((i-1)%2)*x**(2*i-1)\n",
    "    sum=sum+Tn\n",
    "print(\"total sum: \",sum)"
   ]
  },
  {
   "cell_type": "code",
   "execution_count": 73,
   "metadata": {
    "scrolled": true
   },
   "outputs": [
    {
     "name": "stdout",
     "output_type": "stream",
     "text": [
      "prime\n"
     ]
    }
   ],
   "source": [
    "#11\n",
    "import math\n",
    "num=11\n",
    "\n",
    "for i in range(2,math.floor(math.sqrt(num))+1):\n",
    "    if(num%i==0):\n",
    "        print(\"not a prime\")\n",
    "        break\n",
    "else:\n",
    "    print(\"prime\")"
   ]
  },
  {
   "cell_type": "code",
   "execution_count": 77,
   "metadata": {},
   "outputs": [
    {
     "name": "stdout",
     "output_type": "stream",
     "text": [
      "sum of all odd number till 10 : 24\n"
     ]
    }
   ],
   "source": [
    "#12\n",
    "num=10\n",
    "sum=0\n",
    "for i in range(2,11):\n",
    "    if i%2==1:\n",
    "        sum=sum+i\n",
    "print(\"sum of all odd number till\",num,\":\",sum)"
   ]
  },
  {
   "cell_type": "code",
   "execution_count": 84,
   "metadata": {},
   "outputs": [
    {
     "name": "stdout",
     "output_type": "stream",
     "text": [
      "          \n"
     ]
    }
   ],
   "source": [
    "#4\n",
    "print(format('Hello','<10'))\n",
    "print(format('Hello','>10'))\n",
    "print(format('Hello','#^15'))\n",
    "print(format('',' ^10'))"
   ]
  },
  {
   "cell_type": "code",
   "execution_count": 90,
   "metadata": {},
   "outputs": [
    {
     "name": "stdout",
     "output_type": "stream",
     "text": [
      "97\n",
      "122\n",
      "65\n",
      "90\n",
      "48\n",
      "57\n",
      "32\n",
      "10\n",
      "9\n"
     ]
    }
   ],
   "source": [
    "#5\n",
    "print(ord('a'))\n",
    "print(ord('z'))\n",
    "print(ord('A'))\n",
    "print(ord('Z'))\n",
    "\n",
    "print(ord('0'))\n",
    "print(ord('9'))\n",
    "print(ord(' '))\n",
    "print(ord('\\n'))\n",
    "print(ord('\\t'))"
   ]
  },
  {
   "cell_type": "code",
   "execution_count": 92,
   "metadata": {},
   "outputs": [],
   "source": [
    "#6\n",
    "print(\"abc\",\"\\n\",\"bcd\")\n",
    "print(\"abc\\nbcd\")\n",
    "print(1,'\\n',2)\n",
    "print(\"hello \\n\\n!!\")\n",
    "print(\"This is '\\t' means tab\")\n",
    "\n",
    "# # How many spaces are printed using \\t?\n",
    "print(\"This\",\"is\",\"different\",sep='\\t')\n",
    "print(\"This\",\"is\",\"different\",sep='#')\n",
    "print(\"This\",\"is\",\"different\",sep='\\n') \n",
    "print(\"This\",\"is\",\"different\",end='\\n')\n"
   ]
  },
  {
   "cell_type": "code",
   "execution_count": 102,
   "metadata": {},
   "outputs": [
    {
     "name": "stdout",
     "output_type": "stream",
     "text": [
      "5.0\n",
      "5.0\n",
      "33.666666666666664\n",
      "33\n",
      "2\n",
      "16\n",
      "9\n",
      "10\n",
      "(33, 2)\n",
      "16\n",
      "32\n",
      "8\n",
      "8\n"
     ]
    }
   ],
   "source": [
    "#7\n",
    "print(10 / 2)\n",
    "print(10 // 2.0)\n",
    "print(101 / 3)\n",
    "print(101 // 3)\n",
    "print(101 % 3)\n",
    "print(2 ** 4)\n",
    "print(3 ** 2)\n",
    "print(abs(-10)) # give absolute value\n",
    "print(divmod(101,3)) # divmod gives two values , interger division and remainder\n",
    "\n",
    "print(8 << 1)\n",
    "print(8 << 2)\n",
    "print(32 >> 2)\n",
    "print(16 >> 1)"
   ]
  },
  {
   "cell_type": "markdown",
   "metadata": {},
   "source": [
    "\n",
    "Q9. Manually calculate output of following expressions using precedence and associativity rules \n",
    "and then verify output using python shell\n",
    "a. 2 + 3 * (4 -1) \n",
    "b. 2 + ((3 *4) - 8)\n",
    "c. (2 + 3) * 4 \n",
    "d. -10 + 25 / (16 + 12) \n",
    "e. 2 ** 2 ** 2\n",
    "f. (3 ** 2) ** 3\n",
    "g. x = y = 3 + 5\n",
    "h. 8/2*(2+2)"
   ]
  },
  {
   "cell_type": "code",
   "execution_count": 1,
   "metadata": {},
   "outputs": [
    {
     "ename": "SyntaxError",
     "evalue": "invalid syntax (<ipython-input-1-c4344d308d77>, line 8)",
     "output_type": "error",
     "traceback": [
      "\u001b[1;36m  File \u001b[1;32m\"<ipython-input-1-c4344d308d77>\"\u001b[1;36m, line \u001b[1;32m8\u001b[0m\n\u001b[1;33m    print(x = y = 3 + 5)\u001b[0m\n\u001b[1;37m                ^\u001b[0m\n\u001b[1;31mSyntaxError\u001b[0m\u001b[1;31m:\u001b[0m invalid syntax\n"
     ]
    }
   ],
   "source": [
    "#9\n",
    "print(2 + 3 * (4 -1)) \n",
    "print(2 + ((3 *4) - 8))\n",
    "print((2 + 3) * 4) \n",
    "print(-10 + 25 / (16 + 12)) \n",
    "print(2 ** 2 ** 2)\n",
    "print((3 ** 2) ** 3)\n",
    "print(x = y = 3 + 5)\n",
    "print(8/2*(2+2))"
   ]
  },
  {
   "cell_type": "markdown",
   "metadata": {},
   "source": [
    "Write a program to accept the price of a bike and display the road tax and insurance to be paid according to the following criteria . also display total amount to be paid.  \n",
    "      \n",
    "        Cost price (in Rs)           Tax                Inssurance  \n",
    "        > 100000                     15 %                   20%  \n",
    "        > 50000 and <= 100000        10%                    8%  \n",
    "        <= 50000                     5%                     5%   \n"
   ]
  },
  {
   "cell_type": "code",
   "execution_count": 106,
   "metadata": {},
   "outputs": [
    {
     "name": "stdout",
     "output_type": "stream",
     "text": [
      "total cost : 53709.95\n"
     ]
    }
   ],
   "source": [
    "#10\n",
    "price=int(input(\"whats the cost of the bike :\"))\n",
    "if price>100000:\n",
    "    tax = 15*price/100\n",
    "    insurance=20*price/100\n",
    "    print(\"total cost :\",tax+insurance)\n",
    "elif price>50000:\n",
    "    tax = 10*price/100\n",
    "    insurance=8*price/100\n",
    "    print(\"total cost :\",tax+insurance)\n",
    "else:\n",
    "    tax = 5*price/100\n",
    "    insurance=5*price/100\n",
    "    print(\"total cost :\",tax+insurance)"
   ]
  },
  {
   "cell_type": "markdown",
   "metadata": {},
   "source": [
    "Write a program to check whether an years is leap year or not the year is leap if it satisfies following condition  \n",
    "• If it is divisible by 100, then it should also be divisible by 400 then it is leap year  \n",
    "•\totherwise, all other years divisible by 4 and not divisible by 100 then it is leap year.  \n"
   ]
  },
  {
   "cell_type": "code",
   "execution_count": 126,
   "metadata": {},
   "outputs": [
    {
     "name": "stdout",
     "output_type": "stream",
     "text": [
      "enter year: 1700\n",
      "not a leap year\n"
     ]
    }
   ],
   "source": [
    "year=int(input(\"enter year: \"))\n",
    "if (year%400==0):\n",
    "    print(\"leap year\")\n",
    "elif(year%4==0 and year%100!=0):\n",
    "    print(\"leap year\")\n",
    "else:\n",
    "    print(\"not a leap year\")"
   ]
  },
  {
   "cell_type": "code",
   "execution_count": 141,
   "metadata": {},
   "outputs": [
    {
     "name": "stdout",
     "output_type": "stream",
     "text": [
      "enter the number :10\n",
      "1\n",
      "3\n",
      "5\n",
      "7\n",
      "9\n"
     ]
    }
   ],
   "source": [
    "num=int(input(\"enter the number :\"))\n",
    "for i in range(1,num+1,2):\n",
    "    print(i)    "
   ]
  },
  {
   "cell_type": "code",
   "execution_count": null,
   "metadata": {},
   "outputs": [],
   "source": []
  }
 ],
 "metadata": {
  "kernelspec": {
   "display_name": "Python 3",
   "language": "python",
   "name": "python3"
  },
  "language_info": {
   "codemirror_mode": {
    "name": "ipython",
    "version": 3
   },
   "file_extension": ".py",
   "mimetype": "text/x-python",
   "name": "python",
   "nbconvert_exporter": "python",
   "pygments_lexer": "ipython3",
   "version": "3.7.4"
  }
 },
 "nbformat": 4,
 "nbformat_minor": 5
}
