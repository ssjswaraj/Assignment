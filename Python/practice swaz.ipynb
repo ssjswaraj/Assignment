{
 "cells": [
  {
   "cell_type": "code",
   "execution_count": 56,
   "id": "06de7242",
   "metadata": {},
   "outputs": [],
   "source": [
    "l1=[2,34,3,4,3,5,6,8]\n",
    "l2=[52,65,85]"
   ]
  },
  {
   "cell_type": "code",
   "execution_count": null,
   "id": "057d4cd7",
   "metadata": {},
   "outputs": [],
   "source": []
  },
  {
   "cell_type": "code",
   "execution_count": 35,
   "id": "d5fa9699",
   "metadata": {},
   "outputs": [
    {
     "data": {
      "text/plain": [
       "'asad'"
      ]
     },
     "execution_count": 35,
     "metadata": {},
     "output_type": "execute_result"
    }
   ],
   "source": [
    "s=\"asAd\"\n",
    "s.casefold()"
   ]
  },
  {
   "cell_type": "code",
   "execution_count": 68,
   "id": "161cee97",
   "metadata": {},
   "outputs": [
    {
     "data": {
      "text/plain": [
       "16"
      ]
     },
     "execution_count": 68,
     "metadata": {},
     "output_type": "execute_result"
    }
   ],
   "source": [
    "s=\"asfsafs a1asfafa\"\n",
    "len(s)"
   ]
  },
  {
   "cell_type": "code",
   "execution_count": 70,
   "id": "3a63f24a",
   "metadata": {},
   "outputs": [
    {
     "data": {
      "text/plain": [
       "'fsafs a1asfafa'"
      ]
     },
     "execution_count": 70,
     "metadata": {},
     "output_type": "execute_result"
    }
   ],
   "source": [
    "s.lstrip(\"as\")"
   ]
  },
  {
   "cell_type": "code",
   "execution_count": 5,
   "id": "80ce01a7",
   "metadata": {},
   "outputs": [],
   "source": [
    "class clothes:\n",
    "    \n",
    "    def __init__(self):\n",
    "        self.shirt_qty=3\n",
    "        self.pant_qty=4\n",
    "        clothes.price()\n",
    "        \n",
    "    @classmethod                                                                                 \n",
    "    def price(cls):\n",
    "        cls.shirt_price=200\n",
    "        cls.pant_price=400\n",
    "\n",
    "    def add(self,shirt_add,pant_add):\n",
    "        self.shirt_qty=shirt_add+self.shirt_qty\n",
    "        self.pant_qty=pant_add+self.pant_qty\n",
    "        \n",
    "    def remove(self,shirt_add,pant_add):\n",
    "        self.shirt_qty=self.shirt_qty-shirt_add\n",
    "        self.pant_qty=self.pant_qty-pant_add\n",
    "\n",
    "\n",
    "    def total_price(self):\n",
    "#         clothes.price()\n",
    "        print(\"total_quantity\",\"shirt :\",self.shirt_qty,\"pant :\",self.pant_qty)\n",
    "#         total_shirt_price=clothes.shirt_price*self.shirt_qty\n",
    "        total_shirt_price=clothes.shirt_price*self.shirt_qty\n",
    "        print(total_shirt_price)\n",
    "      "
   ]
  },
  {
   "cell_type": "code",
   "execution_count": 6,
   "id": "01e077c7",
   "metadata": {},
   "outputs": [
    {
     "name": "stdout",
     "output_type": "stream",
     "text": [
      "total_quantity shirt : 3 pant : 4\n",
      "600\n",
      "total_quantity shirt : 4 pant : 4\n",
      "800\n",
      "total_quantity shirt : 2 pant : 2\n",
      "400\n"
     ]
    }
   ],
   "source": [
    "c1=clothes()\n",
    "c1.total_price()\n",
    "c1.add(1,0)\n",
    "c1.total_price()\n",
    "c1.remove(2,2)\n",
    "c1.total_price()"
   ]
  },
  {
   "cell_type": "code",
   "execution_count": null,
   "id": "e5c82490",
   "metadata": {},
   "outputs": [],
   "source": [
    "clothes"
   ]
  }
 ],
 "metadata": {
  "kernelspec": {
   "display_name": "Python 3 (ipykernel)",
   "language": "python",
   "name": "python3"
  },
  "language_info": {
   "codemirror_mode": {
    "name": "ipython",
    "version": 3
   },
   "file_extension": ".py",
   "mimetype": "text/x-python",
   "name": "python",
   "nbconvert_exporter": "python",
   "pygments_lexer": "ipython3",
   "version": "3.11.4"
  }
 },
 "nbformat": 4,
 "nbformat_minor": 5
}
