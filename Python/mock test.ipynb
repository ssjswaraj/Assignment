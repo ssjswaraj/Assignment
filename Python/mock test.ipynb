{
 "cells": [
  {
   "cell_type": "code",
   "execution_count": null,
   "id": "80df36c1",
   "metadata": {},
   "outputs": [],
   "source": [
    "Q1 WA function to take a string as input.\n",
    "replace first vowel with - and second wtih @\n",
    "like this replace every odd occurrence of vowel with - adn even occurence with @\n"
   ]
  },
  {
   "cell_type": "code",
   "execution_count": 16,
   "id": "b608f8d8",
   "metadata": {},
   "outputs": [
    {
     "name": "stdout",
     "output_type": "stream",
     "text": [
      "P-N@\n",
      "-N@ M-\n",
      "-@-@-\n"
     ]
    }
   ],
   "source": [
    "def vowel(s):\n",
    "    s_lower=s.lower()\n",
    "    s_list=list(s_lower)\n",
    "#     print(s_lower)\n",
    "    count=1\n",
    "    vowel_list=['a','e','i','o','u']\n",
    "    for idx,ele in enumerate(s_lower):\n",
    "        if ele in vowel_list:\n",
    "            if count%2==1:\n",
    "                s_list[idx]='-'\n",
    "                count+=1\n",
    "            else:\n",
    "                s_list[idx]='@'\n",
    "                count+=1\n",
    "    return  \"\".join(s_list).upper()\n",
    "    \n",
    "print(vowel(\"PUNE\"))\n",
    "print(vowel(\"INA MO\"))\n",
    "print(vowel(\"AEIOU\"))"
   ]
  },
  {
   "cell_type": "markdown",
   "id": "25bc42e3",
   "metadata": {},
   "source": [
    "# 2"
   ]
  },
  {
   "cell_type": "code",
   "execution_count": null,
   "id": "ee81c9fc",
   "metadata": {},
   "outputs": [],
   "source": [
    "WA function to take list of lists containing only int"
   ]
  }
 ],
 "metadata": {
  "kernelspec": {
   "display_name": "Python 3 (ipykernel)",
   "language": "python",
   "name": "python3"
  },
  "language_info": {
   "codemirror_mode": {
    "name": "ipython",
    "version": 3
   },
   "file_extension": ".py",
   "mimetype": "text/x-python",
   "name": "python",
   "nbconvert_exporter": "python",
   "pygments_lexer": "ipython3",
   "version": "3.11.4"
  }
 },
 "nbformat": 4,
 "nbformat_minor": 5
}
