{
 "cells": [
  {
   "cell_type": "markdown",
   "id": "62746d7d",
   "metadata": {},
   "source": [
    "# Ans 1"
   ]
  },
  {
   "cell_type": "code",
   "execution_count": 1,
   "id": "6a5e57df",
   "metadata": {},
   "outputs": [
    {
     "name": "stdout",
     "output_type": "stream",
     "text": [
      "inf\n"
     ]
    }
   ],
   "source": [
    "print(1.5e200 *2.0e210)\n"
   ]
  },
  {
   "cell_type": "markdown",
   "id": "77892180",
   "metadata": {},
   "source": [
    "inf = infinity"
   ]
  },
  {
   "cell_type": "code",
   "execution_count": 2,
   "id": "55fff08c",
   "metadata": {},
   "outputs": [
    {
     "name": "stdout",
     "output_type": "stream",
     "text": [
      "0.0\n"
     ]
    }
   ],
   "source": [
    "print(3.4e-320 / 1e100)"
   ]
  },
  {
   "cell_type": "markdown",
   "id": "661e2cf8",
   "metadata": {},
   "source": [
    "# Ans 2"
   ]
  },
  {
   "cell_type": "code",
   "execution_count": 3,
   "id": "74be033e",
   "metadata": {},
   "outputs": [
    {
     "name": "stdout",
     "output_type": "stream",
     "text": [
      "0.3333333333333333\n"
     ]
    }
   ],
   "source": [
    "print(1/3)"
   ]
  },
  {
   "cell_type": "code",
   "execution_count": 4,
   "id": "40597c23",
   "metadata": {},
   "outputs": [
    {
     "name": "stdout",
     "output_type": "stream",
     "text": [
      "0.333\n"
     ]
    }
   ],
   "source": [
    "print(format(1/3, '.3f'))"
   ]
  },
  {
   "cell_type": "code",
   "execution_count": 5,
   "id": "065ebbba",
   "metadata": {},
   "outputs": [
    {
     "name": "stdout",
     "output_type": "stream",
     "text": [
      "0.3\n"
     ]
    }
   ],
   "source": [
    "print(format(1/3, '.1f'))"
   ]
  },
  {
   "cell_type": "code",
   "execution_count": 6,
   "id": "9e2fc8b8",
   "metadata": {},
   "outputs": [
    {
     "name": "stdout",
     "output_type": "stream",
     "text": [
      "2.0\n"
     ]
    }
   ],
   "source": [
    "print(6*1/3)"
   ]
  },
  {
   "cell_type": "code",
   "execution_count": 7,
   "id": "2a18ec6a",
   "metadata": {},
   "outputs": [
    {
     "name": "stdout",
     "output_type": "stream",
     "text": [
      "1.9999999999999998\n"
     ]
    }
   ],
   "source": [
    "print(1/3 + 1/3 + 1/3 + 1/3 + 1/3 + 1/3)"
   ]
  },
  {
   "cell_type": "markdown",
   "id": "7181ca8e",
   "metadata": {},
   "source": [
    "# Ans 3"
   ]
  },
  {
   "cell_type": "markdown",
   "id": "750fd58e",
   "metadata": {},
   "source": [
    "Difference between a and b is :\n",
    "In a) value after decimal is printed till maximum value \n",
    "In b) we have asked to print till 3 decimal points using format specifier\n",
    "\n",
    "Difference between d and e is:\n",
    "In d) as per associativity rule 6 will be multiplied 1 and then the resultant number will be divided by 3\n",
    "But in e) as / and + has different associativity BODMAS rule is applied"
   ]
  },
  {
   "cell_type": "markdown",
   "id": "f25f9e8a",
   "metadata": {},
   "source": [
    "# Ans 4"
   ]
  },
  {
   "cell_type": "code",
   "execution_count": 8,
   "id": "cd6268c6",
   "metadata": {},
   "outputs": [
    {
     "name": "stdout",
     "output_type": "stream",
     "text": [
      "3.14286\n"
     ]
    }
   ],
   "source": [
    "print(format(22/7, '.5f'))"
   ]
  },
  {
   "cell_type": "code",
   "execution_count": 16,
   "id": "5f4a7ddf",
   "metadata": {},
   "outputs": [
    {
     "name": "stdout",
     "output_type": "stream",
     "text": [
      "Hello     \n"
     ]
    }
   ],
   "source": [
    "print(\"%-10s\" % ('Hello', ))"
   ]
  },
  {
   "cell_type": "code",
   "execution_count": 17,
   "id": "fb6cc784",
   "metadata": {},
   "outputs": [
    {
     "name": "stdout",
     "output_type": "stream",
     "text": [
      "Hello     \n"
     ]
    }
   ],
   "source": [
    "print(format(\"Hello\", \"<10\"))"
   ]
  },
  {
   "cell_type": "code",
   "execution_count": 19,
   "id": "4354a750",
   "metadata": {
    "scrolled": true
   },
   "outputs": [
    {
     "name": "stdout",
     "output_type": "stream",
     "text": [
      "     Hello\n"
     ]
    }
   ],
   "source": [
    "print(format(\"Hello\", \">10\"))"
   ]
  },
  {
   "cell_type": "code",
   "execution_count": 47,
   "id": "67350eb5",
   "metadata": {},
   "outputs": [
    {
     "name": "stdout",
     "output_type": "stream",
     "text": [
      "#####Hello#####\n"
     ]
    }
   ],
   "source": [
    "print(format(\"Hello\", \"#^15\"))"
   ]
  },
  {
   "cell_type": "markdown",
   "id": "adac4708",
   "metadata": {},
   "source": [
    "# Ans 5"
   ]
  },
  {
   "cell_type": "code",
   "execution_count": 48,
   "id": "2f3f53dd",
   "metadata": {},
   "outputs": [
    {
     "name": "stdout",
     "output_type": "stream",
     "text": [
      "97\n",
      "65\n",
      "122\n",
      "90\n"
     ]
    }
   ],
   "source": [
    "print(ord('a'))\n",
    "print(ord('A'))\n",
    "print(ord('z'))\n",
    "print(ord('Z'))"
   ]
  },
  {
   "cell_type": "code",
   "execution_count": 42,
   "id": "f480f092",
   "metadata": {
    "scrolled": true
   },
   "outputs": [
    {
     "name": "stdout",
     "output_type": "stream",
     "text": [
      "48\n",
      "57\n",
      "32\n",
      "10\n",
      "9\n"
     ]
    }
   ],
   "source": [
    "print(ord('0'))\n",
    "print(ord('9'))\n",
    "print(ord(' '))\n",
    "print(ord('\\n'))\n",
    "print(ord('\\t'))"
   ]
  },
  {
   "cell_type": "code",
   "execution_count": 45,
   "id": "625b86dc",
   "metadata": {},
   "outputs": [
    {
     "name": "stdout",
     "output_type": "stream",
     "text": [
      "#\n",
      "C\n",
      "2\n",
      "c\n"
     ]
    }
   ],
   "source": [
    "print(chr(35))\n",
    "print(chr(67))\n",
    "print(chr(50))\n",
    "print(chr(99))"
   ]
  },
  {
   "cell_type": "markdown",
   "id": "e9ddc9c8",
   "metadata": {},
   "source": [
    "For lower case : 97 - 122\n",
    "For upper case : 65 - 90\n",
    "For digits : 48 -57"
   ]
  },
  {
   "cell_type": "markdown",
   "id": "b267748e",
   "metadata": {},
   "source": [
    "# Ans 6"
   ]
  },
  {
   "cell_type": "code",
   "execution_count": 49,
   "id": "b795ba99",
   "metadata": {},
   "outputs": [
    {
     "name": "stdout",
     "output_type": "stream",
     "text": [
      "abc \n",
      " bcd\n"
     ]
    }
   ],
   "source": [
    "print(\"abc\",\"\\n\",\"bcd\")"
   ]
  },
  {
   "cell_type": "code",
   "execution_count": 51,
   "id": "37773248",
   "metadata": {},
   "outputs": [
    {
     "name": "stdout",
     "output_type": "stream",
     "text": [
      "abc\n",
      "bcd\n"
     ]
    }
   ],
   "source": [
    "print(\"abc\\nbcd\")"
   ]
  },
  {
   "cell_type": "code",
   "execution_count": 52,
   "id": "022847b0",
   "metadata": {},
   "outputs": [
    {
     "name": "stdout",
     "output_type": "stream",
     "text": [
      "1 \n",
      " 2\n"
     ]
    }
   ],
   "source": [
    "print(1,'\\n',2)"
   ]
  },
  {
   "cell_type": "code",
   "execution_count": 53,
   "id": "4a612ebd",
   "metadata": {},
   "outputs": [
    {
     "name": "stdout",
     "output_type": "stream",
     "text": [
      "hello \n",
      "\n",
      "!!\n"
     ]
    }
   ],
   "source": [
    "print(\"hello \\n\\n!!\")"
   ]
  },
  {
   "cell_type": "code",
   "execution_count": 54,
   "id": "c9bce3cf",
   "metadata": {},
   "outputs": [
    {
     "name": "stdout",
     "output_type": "stream",
     "text": [
      "This is '\t' means tab\n"
     ]
    }
   ],
   "source": [
    "print(\"This is '\\t' means tab\")"
   ]
  },
  {
   "cell_type": "markdown",
   "id": "dd81d4d8",
   "metadata": {},
   "source": [
    "4 spaces are printed using \\t"
   ]
  },
  {
   "cell_type": "code",
   "execution_count": 55,
   "id": "59ea5030",
   "metadata": {},
   "outputs": [
    {
     "name": "stdout",
     "output_type": "stream",
     "text": [
      "This\tis\tdifferent\n"
     ]
    }
   ],
   "source": [
    "print(\"This\",\"is\",\"different\",sep='\\t')"
   ]
  },
  {
   "cell_type": "code",
   "execution_count": 56,
   "id": "59de6df9",
   "metadata": {},
   "outputs": [
    {
     "name": "stdout",
     "output_type": "stream",
     "text": [
      "This#is#different\n"
     ]
    }
   ],
   "source": [
    "print(\"This\",\"is\",\"different\",sep='#')"
   ]
  },
  {
   "cell_type": "code",
   "execution_count": 57,
   "id": "b4d2cecb",
   "metadata": {},
   "outputs": [
    {
     "name": "stdout",
     "output_type": "stream",
     "text": [
      "This\n",
      "is\n",
      "different\n"
     ]
    }
   ],
   "source": [
    "print(\"This\",\"is\",\"different\",sep='\\n')"
   ]
  },
  {
   "cell_type": "code",
   "execution_count": 58,
   "id": "d933e1aa",
   "metadata": {},
   "outputs": [
    {
     "name": "stdout",
     "output_type": "stream",
     "text": [
      "This is different\n"
     ]
    }
   ],
   "source": [
    "print(\"This\",\"is\",\"different\",end='\\n')"
   ]
  },
  {
   "cell_type": "code",
   "execution_count": 60,
   "id": "5aa2e9f8",
   "metadata": {},
   "outputs": [
    {
     "name": "stdout",
     "output_type": "stream",
     "text": [
      "5.0\n",
      "5.0\n",
      "33.666666666666664\n",
      "33\n",
      "2\n",
      "16\n",
      "9\n"
     ]
    }
   ],
   "source": [
    "print(10 / 2, 10 // 2.0, 101 / 3, 101 // 3, 101 % 3, 2 ** 4, 3 ** 2, sep=\"\\n\")"
   ]
  },
  {
   "cell_type": "code",
   "execution_count": 61,
   "id": "659121a8",
   "metadata": {},
   "outputs": [
    {
     "data": {
      "text/plain": [
       "10"
      ]
     },
     "execution_count": 61,
     "metadata": {},
     "output_type": "execute_result"
    }
   ],
   "source": [
    "abs(-10) # give absolute value"
   ]
  },
  {
   "cell_type": "code",
   "execution_count": 62,
   "id": "64f0149e",
   "metadata": {},
   "outputs": [
    {
     "data": {
      "text/plain": [
       "(33, 2)"
      ]
     },
     "execution_count": 62,
     "metadata": {},
     "output_type": "execute_result"
    }
   ],
   "source": [
    "divmod(101,3) # divmod gives two values , interger division and remainder"
   ]
  },
  {
   "cell_type": "code",
   "execution_count": 63,
   "id": "aed114d8",
   "metadata": {},
   "outputs": [
    {
     "name": "stdout",
     "output_type": "stream",
     "text": [
      "16\n"
     ]
    }
   ],
   "source": [
    "print(8 << 1) # 8 x 2^1"
   ]
  },
  {
   "cell_type": "code",
   "execution_count": 64,
   "id": "2e0e716e",
   "metadata": {},
   "outputs": [
    {
     "name": "stdout",
     "output_type": "stream",
     "text": [
      "32\n"
     ]
    }
   ],
   "source": [
    "print(8 << 2)"
   ]
  },
  {
   "cell_type": "code",
   "execution_count": 65,
   "id": "4b58a908",
   "metadata": {},
   "outputs": [
    {
     "name": "stdout",
     "output_type": "stream",
     "text": [
      "8\n"
     ]
    }
   ],
   "source": [
    "print(32 >> 2) # 32 / 2^2"
   ]
  },
  {
   "cell_type": "code",
   "execution_count": 66,
   "id": "95cc650f",
   "metadata": {},
   "outputs": [
    {
     "name": "stdout",
     "output_type": "stream",
     "text": [
      "8\n"
     ]
    }
   ],
   "source": [
    "print(16 >> 1)"
   ]
  },
  {
   "cell_type": "markdown",
   "id": "8fca4462",
   "metadata": {},
   "source": [
    "# Ans 8"
   ]
  },
  {
   "cell_type": "code",
   "execution_count": null,
   "id": "684247df",
   "metadata": {},
   "outputs": [],
   "source": [
    "a,b,c = int(input(\"Enter marks : \").split())\n",
    "total = int(a) + int(b) + int(c)\n",
    "print(total)"
   ]
  },
  {
   "cell_type": "markdown",
   "id": "a3b949e8",
   "metadata": {},
   "source": [
    "Q9. Manually calculate output of following expressions using precedence and associativity rules \n",
    "and then verify output using python shell\n",
    "a. 2 + 3 * (4 -1)\n",
    "b. 2 + ((3 *4) - 8)\n",
    "c. (2 + 3) * 4\n",
    "d. -10 + 25 / (16 + 12)\n",
    "e. 2 ** 2 ** 2\n",
    "f. (3 ** 2) ** 3\n",
    "g. x = y = 3 + 5\n",
    "h. 8/2*(2+2)"
   ]
  },
  {
   "cell_type": "code",
   "execution_count": 25,
   "id": "71194579",
   "metadata": {},
   "outputs": [
    {
     "name": "stdout",
     "output_type": "stream",
     "text": [
      "11\n"
     ]
    }
   ],
   "source": [
    "print(2 + 3 * (4 -1))"
   ]
  },
  {
   "cell_type": "code",
   "execution_count": 12,
   "id": "3544557a",
   "metadata": {},
   "outputs": [
    {
     "name": "stdout",
     "output_type": "stream",
     "text": [
      "6\n"
     ]
    }
   ],
   "source": [
    "print(2 + ((3 *4) - 8))"
   ]
  },
  {
   "cell_type": "code",
   "execution_count": 13,
   "id": "51ce6dc7",
   "metadata": {},
   "outputs": [
    {
     "name": "stdout",
     "output_type": "stream",
     "text": [
      "20\n"
     ]
    }
   ],
   "source": [
    "print((2 + 3) * 4)"
   ]
  },
  {
   "cell_type": "code",
   "execution_count": 14,
   "id": "ab61f089",
   "metadata": {},
   "outputs": [
    {
     "name": "stdout",
     "output_type": "stream",
     "text": [
      "-9.107142857142858\n"
     ]
    }
   ],
   "source": [
    "print(-10 + 25 / (16 + 12))"
   ]
  },
  {
   "cell_type": "code",
   "execution_count": 16,
   "id": "ecfe8d90",
   "metadata": {},
   "outputs": [
    {
     "name": "stdout",
     "output_type": "stream",
     "text": [
      "256\n"
     ]
    }
   ],
   "source": [
    "print(2 ** 2 ** 2)"
   ]
  },
  {
   "cell_type": "code",
   "execution_count": 17,
   "id": "c0b82800",
   "metadata": {},
   "outputs": [
    {
     "name": "stdout",
     "output_type": "stream",
     "text": [
      "729\n"
     ]
    }
   ],
   "source": [
    "print((3 ** 2) ** 3)"
   ]
  },
  {
   "cell_type": "code",
   "execution_count": 18,
   "id": "cd929835",
   "metadata": {},
   "outputs": [
    {
     "ename": "SyntaxError",
     "evalue": "invalid syntax (2559457631.py, line 1)",
     "output_type": "error",
     "traceback": [
      "\u001b[1;36m  Cell \u001b[1;32mIn[18], line 1\u001b[1;36m\u001b[0m\n\u001b[1;33m    print(x = y = 3 + 5)\u001b[0m\n\u001b[1;37m                ^\u001b[0m\n\u001b[1;31mSyntaxError\u001b[0m\u001b[1;31m:\u001b[0m invalid syntax\n"
     ]
    }
   ],
   "source": [
    "print(x = y = 3 + 5)"
   ]
  },
  {
   "cell_type": "code",
   "execution_count": 23,
   "id": "394afda4",
   "metadata": {},
   "outputs": [
    {
     "name": "stdout",
     "output_type": "stream",
     "text": [
      "8\n",
      "8\n"
     ]
    }
   ],
   "source": [
    "x = y = 3 + 5\n",
    "print(x)\n",
    "print(y)\n"
   ]
  },
  {
   "cell_type": "code",
   "execution_count": 24,
   "id": "22a3de6e",
   "metadata": {
    "scrolled": true
   },
   "outputs": [
    {
     "name": "stdout",
     "output_type": "stream",
     "text": [
      "16.0\n"
     ]
    }
   ],
   "source": [
    "print(8/2*(2+2))"
   ]
  },
  {
   "cell_type": "markdown",
   "id": "cbeefe17",
   "metadata": {},
   "source": [
    "Q10. Check output of following \n",
    "a. x = y = 10\n",
    "b. x1 = 20 = y1"
   ]
  },
  {
   "cell_type": "code",
   "execution_count": 26,
   "id": "c1584290",
   "metadata": {},
   "outputs": [
    {
     "name": "stdout",
     "output_type": "stream",
     "text": [
      "10\n",
      "10\n"
     ]
    }
   ],
   "source": [
    "x = y = 10\n",
    "print(x)\n",
    "print(y)"
   ]
  },
  {
   "cell_type": "code",
   "execution_count": 27,
   "id": "b67eef34",
   "metadata": {},
   "outputs": [
    {
     "ename": "SyntaxError",
     "evalue": "cannot assign to literal (1868644801.py, line 1)",
     "output_type": "error",
     "traceback": [
      "\u001b[1;36m  Cell \u001b[1;32mIn[27], line 1\u001b[1;36m\u001b[0m\n\u001b[1;33m    x1 = 20 = y1\u001b[0m\n\u001b[1;37m         ^\u001b[0m\n\u001b[1;31mSyntaxError\u001b[0m\u001b[1;31m:\u001b[0m cannot assign to literal\n"
     ]
    }
   ],
   "source": [
    "x1 = 20 = y1"
   ]
  },
  {
   "cell_type": "markdown",
   "id": "4b66d1aa",
   "metadata": {},
   "source": [
    "Q11. What is output of following\n",
    "a. x=10\n",
    "y=34.4\n",
    "print(x and y)\n",
    "print(x or y)"
   ]
  },
  {
   "cell_type": "code",
   "execution_count": 31,
   "id": "8686af0d",
   "metadata": {},
   "outputs": [
    {
     "name": "stdout",
     "output_type": "stream",
     "text": [
      "34.4\n",
      "10\n"
     ]
    }
   ],
   "source": [
    "x=10\n",
    "y=34.4\n",
    "print(x and y)  #if x and y are true then print y else 0\n",
    "print(x or y)   "
   ]
  },
  {
   "cell_type": "markdown",
   "id": "8de3d965",
   "metadata": {},
   "source": [
    "# IF ELSE"
   ]
  },
  {
   "cell_type": "markdown",
   "id": "fef6c8d9",
   "metadata": {},
   "source": [
    "1.\tA student will not be allowed to sit in exam if his/her attendence is less than 75%.  \n",
    "Take following input from user Number of classes held Number of classes attended. And print percentage of class attended  \n",
    "Is student is allowed to sit in exam or not. "
   ]
  },
  {
   "cell_type": "code",
   "execution_count": 9,
   "id": "420349c4",
   "metadata": {},
   "outputs": [
    {
     "name": "stdout",
     "output_type": "stream",
     "text": [
      "Enter number of classes held : 100\n",
      "Enter number of classes attended : 76\n",
      "Attendence percentage is :  76 %\n",
      "You are allowed to sit in the exam !!\n"
     ]
    }
   ],
   "source": [
    "import math\n",
    "class_held=int(input(\"Enter number of classes held : \"))\n",
    "class_att=int(input(\"Enter number of classes attended : \"))\n",
    "percentage=(class_att/class_held)*100\n",
    "print(\"Attendence percentage is : \",math.ceil(percentage), '%') #use math.ceil() to print value of nearest integer\n",
    "if percentage >= 75:\n",
    "    print(\"You are allowed to sit in the exam !!\")\n",
    "else:\n",
    "    print(\"You are not allowed to sit in the exam :( \")\n"
   ]
  },
  {
   "cell_type": "markdown",
   "id": "04dbc34d",
   "metadata": {},
   "source": [
    "2. accept amount from user and find the minimum number notes required to get the amount amount =512  \n",
    "Notes: 2000,500,100,50,10,5,2,1  \n",
    "\n",
    "500-1 note  \n",
    "10  - 1 note  \n",
    "2-  1 coin  \n",
    "\n",
    "amount=20550  \n",
    "2000 – 10 note  \n",
    "500 – 1 note  \n",
    "50 -1 note"
   ]
  },
  {
   "cell_type": "code",
   "execution_count": 3,
   "id": "cc0c45e6",
   "metadata": {},
   "outputs": [
    {
     "name": "stdout",
     "output_type": "stream",
     "text": [
      "Enter your amount: 5668\n",
      "2000 notes:  2\n",
      "500 notes:  3\n",
      "100 notes:  1\n",
      "20 notes:  3\n",
      "5 notes:  1\n",
      "2 notes:  1\n",
      "1 notes:  1\n"
     ]
    }
   ],
   "source": [
    "amount=int(input(\"Enter your amount: \"))\n",
    "\n",
    "if (amount>=2000):\n",
    "    note2k=amount//2000\n",
    "    print(\"2000 notes: \", note2k)\n",
    "    rem=amount%2000\n",
    "    amount=rem\n",
    "if (2000>amount>=500):\n",
    "    note500=amount//500\n",
    "    print(\"500 notes: \", note500)\n",
    "    rem=amount%500\n",
    "    amount=rem\n",
    "if (500>amount>=200):\n",
    "    note200=amount//200\n",
    "    print(\"200 notes: \", note200)\n",
    "    rem=amount%200\n",
    "    amount=rem\n",
    "if (200>amount>=100):\n",
    "    note100=amount//100\n",
    "    print(\"100 notes: \", note100)\n",
    "    rem=amount%100\n",
    "    amount=rem\n",
    "\n",
    "if (100>amount>=20):\n",
    "    note20=amount//20\n",
    "    print(\"20 notes: \", note20)\n",
    "    rem=amount%20\n",
    "    amount=rem\n",
    "if (20>amount>=10):\n",
    "    note10=amount//10\n",
    "    print(\"10 notes: \", note10)\n",
    "    rem=amount%10\n",
    "    amount=rem\n",
    "if (10>amount>=5):\n",
    "    note5=amount//5\n",
    "    print(\"5 notes: \", note5)\n",
    "    rem=amount%5\n",
    "    amount=rem\n",
    "if (5>amount>=2):\n",
    "    note2=amount//2\n",
    "    print(\"2 notes: \", note2)\n",
    "    rem=amount%2\n",
    "    amount=rem\n",
    "if (2>amount>=1):\n",
    "    note1=amount//1\n",
    "    print(\"1 notes: \", note1)\n",
    "    rem=amount%1\n",
    "    amount=rem\n",
    "\n"
   ]
  },
  {
   "cell_type": "code",
   "execution_count": 22,
   "id": "76a826cd",
   "metadata": {},
   "outputs": [
    {
     "name": "stdout",
     "output_type": "stream",
     "text": [
      "Enter your amount: 15423\n",
      "2000 notes:  7\n",
      "500 notes:  2\n",
      "100 notes:  4\n",
      "20 notes:  1\n",
      "2 notes:  1\n",
      "1 notes:  1\n"
     ]
    }
   ],
   "source": [
    "amount=int(input(\"Enter your amount: \"))\n",
    "arr=[2000,500,100,50,20,10,5,2,1]\n",
    "for i in arr:\n",
    "    if (amount>=i):\n",
    "        note=amount//i\n",
    "        print(\"{0} notes: \".format(i), note)\n",
    "        rem=amount%i\n",
    "        amount=rem\n",
    "#    print(i)"
   ]
  },
  {
   "cell_type": "markdown",
   "id": "5c34c625",
   "metadata": {},
   "source": [
    "3.\tModify the above question Q1 to allow student to sit if he/she has medical cause. Ask user if he/she has medical cause or not ( 'Y' or 'N' ) and print accordingly."
   ]
  },
  {
   "cell_type": "code",
   "execution_count": 7,
   "id": "c6335ad2",
   "metadata": {},
   "outputs": [
    {
     "name": "stdout",
     "output_type": "stream",
     "text": [
      "Enter number of classes held : 100\n",
      "Enter number of classes attended : 65\n",
      "he/she has medical cause or not? ( 'Y' or 'N' )Y\n",
      "Attendence percentage is :  65 %\n",
      "You are allowed to sit in the exam !!\n"
     ]
    }
   ],
   "source": [
    "import math\n",
    "class_held=int(input(\"Enter number of classes held : \"))\n",
    "class_att=int(input(\"Enter number of classes attended : \"))\n",
    "med=input(\"he/she has medical cause or not? ( 'Y' or 'N' )\")\n",
    "percentage=(class_att/class_held)*100\n",
    "print(\"Attendence percentage is : \",math.ceil(percentage), '%') #use math.ceil() to print value of nearest integer\n",
    "if percentage >= 75:\n",
    "    print(\"You are allowed to sit in the exam !!\")\n",
    "elif (med == \"Y\"):\n",
    "    print(\"You are allowed to sit in the exam !!\")\n",
    "else:\n",
    "    print(\"You are not allowed to sit in the exam :( \")"
   ]
  },
  {
   "cell_type": "markdown",
   "id": "448bd33c",
   "metadata": {},
   "source": [
    "4.\tA school has following rules for grading system:  \n",
    "a.\tBelow 25 - F  \n",
    "b.\t25 to 45 - E  \n",
    "c.\t45 to 50 - D  \n",
    "d.\t50 to 60 - C  \n",
    "e.\t60 to 80 - B  \n",
    "f.\tAbove 80 - A  \n",
    "Ask user to enter marks and print the corresponding grade."
   ]
  },
  {
   "cell_type": "code",
   "execution_count": 25,
   "id": "397d3dbe",
   "metadata": {},
   "outputs": [
    {
     "name": "stdout",
     "output_type": "stream",
     "text": [
      "Enter your Marks: 56\n",
      "C\n"
     ]
    }
   ],
   "source": [
    "marks=int(input(\"Enter your Marks: \"))\n",
    "if marks<25:\n",
    "    print(\"F\")\n",
    "elif 25<=marks<45:\n",
    "    print(\"E\")\n",
    "elif 45<=marks<50:\n",
    "    print(\"D\")\n",
    "elif 50<=marks<60:\n",
    "    print(\"C\")\n",
    "elif 60<=marks<80:\n",
    "    print(\"B\")\n",
    "elif 80<=marks<=100:\n",
    "    print(\"A\")\n",
    "else:\n",
    "    print(\"Please enter valid input\")\n"
   ]
  },
  {
   "cell_type": "code",
   "execution_count": 32,
   "id": "c844087c",
   "metadata": {},
   "outputs": [
    {
     "name": "stdout",
     "output_type": "stream",
     "text": [
      "Enter your Marks: 46\n",
      "D\n"
     ]
    }
   ],
   "source": [
    "marks=int(input(\"Enter your Marks: \"))\n",
    "arr = [0, 25, 45, 50, 60, 80, 100]\n",
    "arr_ch = ['F', 'E', 'D', 'C', 'B', 'A']\n",
    "for i in range(6):\n",
    "    if arr[i]<=marks<arr[i+1]:\n",
    "        print(arr_ch[i])"
   ]
  },
  {
   "cell_type": "markdown",
   "id": "2d69cbd5",
   "metadata": {},
   "source": [
    "5.\t  If  x = 2 y = 5 z = 0  then find values of the following expressions and Print the output of following statements  \n",
    "a.\tx == 2  \n",
    "b.\tx != 5  \n",
    "c.\tx != 5 & y >= 5  \n",
    "d.\tz != 0 | x == 2  \n",
    "e.\tnot(y < 10)  "
   ]
  },
  {
   "cell_type": "code",
   "execution_count": 35,
   "id": "b98e05de",
   "metadata": {},
   "outputs": [
    {
     "name": "stdout",
     "output_type": "stream",
     "text": [
      "True\n",
      "True\n",
      "True\n",
      "True\n",
      "False\n"
     ]
    }
   ],
   "source": [
    "x = 2\n",
    "y = 5 \n",
    "z = 0\n",
    "print(x == 2)\n",
    "print(x != 5)\n",
    "print(x != 5 & y >= 5)\n",
    "print(z != 0 | x == 2)\n",
    "print(not(y < 10))"
   ]
  },
  {
   "cell_type": "markdown",
   "id": "a2c67f24",
   "metadata": {},
   "source": [
    "6.\tAccept number from user and check whether it is divisible by 5 and 11 if divisible then display appropriate message. "
   ]
  },
  {
   "cell_type": "code",
   "execution_count": 41,
   "id": "ea607911",
   "metadata": {},
   "outputs": [
    {
     "name": "stdout",
     "output_type": "stream",
     "text": [
      "Enter a number: 14\n",
      "Not divisible\n"
     ]
    }
   ],
   "source": [
    "num=int(input(\"Enter a number: \"))\n",
    "if (num%5==0) & (num%11==0):\n",
    "    print(\"Divisible by both 5 and 11\")\n",
    "else:\n",
    "    print(\"Not divisible\")"
   ]
  },
  {
   "cell_type": "markdown",
   "id": "9fc409b4",
   "metadata": {},
   "source": [
    "7.\tWrite a program to calculate the electricity bill (accept number of unit from user) according to the following criteria :  \n",
    "             Unit                                    Price    \n",
    "First 100 units                                       no charge  \n",
    "Next 100 units                                        Rs 5 per unit  \n",
    "After 200 units                                       Rs 10 per unit  \n",
    "(For example if input unit is 350 than total bill amount is Rs2000)  "
   ]
  },
  {
   "cell_type": "code",
   "execution_count": 44,
   "id": "2e82f7dc",
   "metadata": {},
   "outputs": [
    {
     "name": "stdout",
     "output_type": "stream",
     "text": [
      "Enter the units : 350\n",
      "2000\n"
     ]
    }
   ],
   "source": [
    "unit = int(input(\"Enter the units : \"))\n",
    "charge = 0\n",
    "if unit>200:\n",
    "    charge = charge + (unit-200) * 10\n",
    "    unit = 200\n",
    "if 200>=unit>100:\n",
    "    charge = charge + (unit-100) * 5\n",
    "    unit = 100\n",
    "if 100>unit:\n",
    "    charge = charge + (unit-0) * 0\n",
    "    unit = 0\n",
    "print(charge)"
   ]
  },
  {
   "cell_type": "markdown",
   "id": "86098768",
   "metadata": {},
   "source": [
    "8.\tWrite a program to check whether the last digit of a number( entered by user ) is divisible by 3 or not.  \n"
   ]
  },
  {
   "cell_type": "code",
   "execution_count": 46,
   "id": "f55fc4fb",
   "metadata": {},
   "outputs": [
    {
     "name": "stdout",
     "output_type": "stream",
     "text": [
      "Enter a number: 452\n",
      "Number is not divisible by 3\n"
     ]
    }
   ],
   "source": [
    "num=int(input(\"Enter a number: \"))\n",
    "digit = num % 10\n",
    "if digit%3==0:\n",
    "    print(\"Number is divisible by 3\")\n",
    "else:\n",
    "    print(\"Number is not divisible by 3\")"
   ]
  },
  {
   "cell_type": "markdown",
   "id": "7fc5e222",
   "metadata": {},
   "source": [
    "9.\tWrite a program to check whether an years is leap year or not the year is leap if it satisfies following condition  \n",
    "•\tIt the year is divisible by 100 o If it is divisible by 100, then it should also be divisible by 400 then it is leap year  \n",
    "•\totherwise, all other years divisible by 4 and not divisible by 100 then it is leap year.  "
   ]
  },
  {
   "cell_type": "code",
   "execution_count": 59,
   "id": "f8d677e9",
   "metadata": {},
   "outputs": [
    {
     "name": "stdout",
     "output_type": "stream",
     "text": [
      "Enter a year: 2023\n",
      "Not a leap year\n"
     ]
    }
   ],
   "source": [
    "year=int(input(\"Enter a year: \"))\n",
    "if year % 100 == 0:\n",
    "    if year % 400 == 0:\n",
    "        print(\"Leap year\")\n",
    "    else:\n",
    "        print(\"Not a leap year\")\n",
    "elif year % 4 == 0:\n",
    "    print(\"Leap year\")\n",
    "else:\n",
    "    print(\"Not a leap year\")"
   ]
  },
  {
   "cell_type": "markdown",
   "id": "3c7ec363",
   "metadata": {},
   "source": [
    "10. Write a program to accept the price of a bike and display the road tax and insurance to be paid according to the following criteria . also display total amount to be paid.  \n",
    "      \n",
    "        Cost price (in Rs)           Tax                Inssurance  \n",
    "        > 100000                     15 %                   20%  \n",
    "        > 50000 and <= 100000        10%                    8%  \n",
    "        <= 50000                     5%                     5%   "
   ]
  },
  {
   "cell_type": "code",
   "execution_count": null,
   "id": "b5549978",
   "metadata": {},
   "outputs": [],
   "source": []
  },
  {
   "cell_type": "code",
   "execution_count": null,
   "id": "1332fb93",
   "metadata": {},
   "outputs": [],
   "source": []
  },
  {
   "cell_type": "code",
   "execution_count": null,
   "id": "e33c7d8d",
   "metadata": {},
   "outputs": [],
   "source": []
  },
  {
   "cell_type": "code",
   "execution_count": null,
   "id": "d2bfea24",
   "metadata": {},
   "outputs": [],
   "source": []
  },
  {
   "cell_type": "markdown",
   "id": "fd1d1c75",
   "metadata": {},
   "source": [
    "6.\tTo display the cube of the number upto given an integer. If the given integer is 5, then display cube of 1 to 4."
   ]
  },
  {
   "cell_type": "code",
   "execution_count": 3,
   "id": "485ec0f7",
   "metadata": {
    "scrolled": true
   },
   "outputs": [
    {
     "name": "stdout",
     "output_type": "stream",
     "text": [
      "Enter a number : 5\n",
      "1\n",
      "8\n",
      "27\n",
      "64\n"
     ]
    }
   ],
   "source": [
    "num = int(input(\"Enter a number : \"))\n",
    "for i in range (1,num):\n",
    "    print(i*i*i)"
   ]
  },
  {
   "cell_type": "markdown",
   "id": "43e619a3",
   "metadata": {},
   "source": [
    "7. Accept 20 numbers from user and display sum of only even numbers"
   ]
  },
  {
   "cell_type": "code",
   "execution_count": 8,
   "id": "5699112a",
   "metadata": {},
   "outputs": [
    {
     "name": "stdout",
     "output_type": "stream",
     "text": [
      "Enter number: 1\n",
      "Enter number: 2\n",
      "Enter number: 3\n",
      "Enter number: 4\n",
      "Enter number: 5\n",
      "Enter number: 6\n",
      "Enter number: 7\n",
      "Enter number: 8\n",
      "Enter number: 9\n",
      "Enter number: 0\n",
      "Enter number: 1\n",
      "Enter number: 2\n",
      "Enter number: 3\n",
      "Enter number: 4\n",
      "Enter number: 5\n",
      "Enter number: 6\n",
      "Enter number: 7\n",
      "Enter number: 8\n",
      "Enter number: 9\n",
      "40\n"
     ]
    }
   ],
   "source": [
    "total=0\n",
    "for i in range (1,20):\n",
    "    a = int(input(\"Enter number: \"))\n",
    "    if (a%2==0):\n",
    "        total+=a\n",
    "print(total)"
   ]
  },
  {
   "cell_type": "markdown",
   "id": "c5d9642c",
   "metadata": {},
   "source": [
    "8. Ask user number of terms to be generated of a series. \n",
    "generate numbers for the following series and find its addition \n",
    "[9 + 99 + 999 + 9999+……..] "
   ]
  },
  {
   "cell_type": "code",
   "execution_count": 11,
   "id": "f1b65fd9",
   "metadata": {},
   "outputs": [
    {
     "name": "stdout",
     "output_type": "stream",
     "text": [
      "Enter number of terms: 2\n",
      "Terms are:  9 + 99\n",
      "Total is : 108\n"
     ]
    }
   ],
   "source": [
    "num=int(input(\"Enter number of terms: \"))\n",
    "total=0\n",
    "print(\"Terms are: \", end=\" \")\n",
    "for i in range(1,num+1):\n",
    "    a= '9'*i\n",
    "    if i < (num):\n",
    "        print(a, '+ ', end=\"\")\n",
    "        total+= int(a)\n",
    "    else:\n",
    "        print(a)\n",
    "        total+= int(a)\n",
    "print(\"Total is :\", total)"
   ]
  },
  {
   "cell_type": "markdown",
   "id": "4d2edb32",
   "metadata": {},
   "source": [
    "Take a number from user and print odd numbers "
   ]
  },
  {
   "cell_type": "code",
   "execution_count": 2,
   "id": "2ce7c909",
   "metadata": {},
   "outputs": [
    {
     "name": "stdout",
     "output_type": "stream",
     "text": [
      "Enter a number: -15\n",
      "1\n",
      "-1\n",
      "-3\n",
      "-5\n",
      "-7\n",
      "-9\n",
      "-11\n",
      "-13\n"
     ]
    }
   ],
   "source": [
    "num=int(input(\"Enter a number: \"))\n",
    "\n",
    "for i in range(1,num+1,-2):\n",
    "    print(i)"
   ]
  },
  {
   "cell_type": "markdown",
   "id": "7e9a0efe",
   "metadata": {},
   "source": [
    "9.\tWrite a program in python to display the sum of the series [ 1+x+x^2/2!+x^3/3!+....]. Go to the editor \n",
    "Test Data : \n",
    "Input the value of x :3 Input number of terms : 5 Expected Output : \n",
    "The sum is : 16.375000 \n"
   ]
  },
  {
   "cell_type": "code",
   "execution_count": 6,
   "id": "58b9f6b0",
   "metadata": {},
   "outputs": [
    {
     "name": "stdout",
     "output_type": "stream",
     "text": [
      "Enter value of x : 4\n",
      "Enter numer of terms : 1\n",
      "1.0\n"
     ]
    }
   ],
   "source": [
    "import math\n",
    "x=int(input(\"Enter value of x : \"))\n",
    "num=int(input(\"Enter numer of terms : \"))\n",
    "total=0\n",
    "for i in range(num):\n",
    "    total+= ((pow(x, i))/math.factorial(i))\n",
    "print(total)\n",
    "    "
   ]
  },
  {
   "cell_type": "markdown",
   "id": "6c88f47c",
   "metadata": {},
   "source": [
    "10.\tWrite a program in python to find the sum of the series [ x - x^3 + x^5 –x^7+x^9-x^11+ ......]. Go to the editor \n",
    "Test Data : \n",
    "Input the value of x :2 Input number of terms : 5 Expected Output : \n",
    "The values of the series: \n",
    "2 \n",
    "-8 \n",
    "32 \n",
    "-128 \n",
    "512 \n",
    "The sum = 410"
   ]
  },
  {
   "cell_type": "code",
   "execution_count": 9,
   "id": "6476e175",
   "metadata": {},
   "outputs": [
    {
     "name": "stdout",
     "output_type": "stream",
     "text": [
      "Enter value of x : 2\n",
      "Enter numer of terms : 5\n",
      "410\n"
     ]
    }
   ],
   "source": [
    "import math\n",
    "x=int(input(\"Enter value of x : \"))\n",
    "num=int(input(\"Enter numer of terms : \"))\n",
    "total=0\n",
    "term=1\n",
    "for i in range(1,num*2,2):\n",
    "    if term % 2 !=0:\n",
    "        total+= (pow(x, i))\n",
    "    else:\n",
    "        total-= (pow(x, i)) \n",
    "    term+=1\n",
    "print(total)\n",
    "    "
   ]
  },
  {
   "cell_type": "code",
   "execution_count": null,
   "id": "94ffa2dd",
   "metadata": {},
   "outputs": [],
   "source": []
  }
 ],
 "metadata": {
  "kernelspec": {
   "display_name": "Python 3 (ipykernel)",
   "language": "python",
   "name": "python3"
  },
  "language_info": {
   "codemirror_mode": {
    "name": "ipython",
    "version": 3
   },
   "file_extension": ".py",
   "mimetype": "text/x-python",
   "name": "python",
   "nbconvert_exporter": "python",
   "pygments_lexer": "ipython3",
   "version": "3.11.4"
  }
 },
 "nbformat": 4,
 "nbformat_minor": 5
}
