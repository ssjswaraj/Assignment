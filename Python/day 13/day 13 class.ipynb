{
 "cells": [
  {
   "cell_type": "code",
   "execution_count": 1,
   "id": "122d499b",
   "metadata": {},
   "outputs": [
    {
     "name": "stdout",
     "output_type": "stream",
     "text": [
      "package 1 is loading.....\n"
     ]
    }
   ],
   "source": [
    "import package1"
   ]
  },
  {
   "cell_type": "code",
   "execution_count": 5,
   "id": "93c79d29",
   "metadata": {},
   "outputs": [
    {
     "name": "stdout",
     "output_type": "stream",
     "text": [
      "__main__\n"
     ]
    }
   ],
   "source": [
    "print(__name__)"
   ]
  },
  {
   "cell_type": "code",
   "execution_count": 2,
   "id": "341be1da",
   "metadata": {},
   "outputs": [
    {
     "name": "stdout",
     "output_type": "stream",
     "text": [
      "this is module1\n",
      "name of the module is : package1.module1\n"
     ]
    }
   ],
   "source": [
    "from package1 import module1"
   ]
  },
  {
   "cell_type": "code",
   "execution_count": 4,
   "id": "b349418d",
   "metadata": {},
   "outputs": [
    {
     "name": "stdout",
     "output_type": "stream",
     "text": [
      "inside function fun1 in module1\n"
     ]
    }
   ],
   "source": [
    "module1.fun1()"
   ]
  },
  {
   "cell_type": "code",
   "execution_count": 11,
   "id": "da613451",
   "metadata": {},
   "outputs": [
    {
     "name": "stdout",
     "output_type": "stream",
     "text": [
      "__main__\n"
     ]
    }
   ],
   "source": [
    "print(__name__)"
   ]
  },
  {
   "cell_type": "code",
   "execution_count": null,
   "id": "9befe8a0",
   "metadata": {},
   "outputs": [],
   "source": []
  },
  {
   "cell_type": "markdown",
   "id": "9fb3b187",
   "metadata": {},
   "source": [
    "# exception"
   ]
  },
  {
   "cell_type": "code",
   "execution_count": 5,
   "id": "a6b0adb1",
   "metadata": {},
   "outputs": [
    {
     "name": "stdout",
     "output_type": "stream",
     "text": [
      "hi\n"
     ]
    }
   ],
   "source": [
    "    print(\"hi\")"
   ]
  },
  {
   "cell_type": "code",
   "execution_count": null,
   "id": "943ccb38",
   "metadata": {},
   "outputs": [],
   "source": [
    "'''Wap to accept a number as input\n",
    "it it is not float/ int give custom error message'''"
   ]
  },
  {
   "cell_type": "code",
   "execution_count": 14,
   "id": "43660175",
   "metadata": {},
   "outputs": [
    {
     "name": "stdout",
     "output_type": "stream",
     "text": [
      "enter a numberbhkj\n",
      "error, enter valid float or int\n",
      "enter a number8\n",
      "8.0\n",
      "continue\n"
     ]
    }
   ],
   "source": [
    "while True:    \n",
    "    try:\n",
    "        num=float(input(\"enter a number\"))\n",
    "        print(num)\n",
    "    except:\n",
    "        print(\"error, enter valid float or int\")\n",
    "    else:\n",
    "        break\n",
    "print(\"continue\")"
   ]
  },
  {
   "cell_type": "code",
   "execution_count": 34,
   "id": "81dbcb8e",
   "metadata": {},
   "outputs": [
    {
     "name": "stdout",
     "output_type": "stream",
     "text": [
      "enter the numerl\n",
      "error\n",
      "thankyou for using\n",
      "None\n"
     ]
    }
   ],
   "source": [
    "'''WAP to generate fibo series till  n\n",
    "take input n as integer if not integer then there should be custom error message\n",
    "if there is no exception and fibo series is printed then give a congratulations message to the user\n",
    "in all cases give a thankyou message to the user for using the system'''\n",
    "\n",
    "def myfunc(): \n",
    "    try:\n",
    "        num=int(input(\"enter the numer\"))\n",
    "        fib_list=[0,1]\n",
    "        for i in range(2,num):\n",
    "            fib_list.append(fib_list[i-1]+fib_list[i-2])\n",
    "        return fib_list\n",
    "    \n",
    "    except:\n",
    "        print(\"error\")\n",
    "    else:\n",
    "        print(\"congrats\")\n",
    "    finally:\n",
    "        print(\"thankyou for using\")\n",
    "        \n",
    "#     print(\"testing finally\")    \n",
    "\n",
    "print(myfunc())\n"
   ]
  },
  {
   "cell_type": "code",
   "execution_count": 38,
   "id": "2722fbbc",
   "metadata": {},
   "outputs": [
    {
     "name": "stdout",
     "output_type": "stream",
     "text": [
      "enter the number13\n",
      "[0, 1, 1, 2, 3, 5, 8, 13, 21, 34, 55, 89, 144]\n",
      "congrats\n",
      "thankyou for using\n"
     ]
    }
   ],
   "source": [
    "######################another\n",
    "\n",
    "def myfunc(num): \n",
    "    fib_list=[0,1]\n",
    "    for i in range(2,num):\n",
    "        fib_list.append(fib_list[i-1]+fib_list[i-2])\n",
    "    return fib_list\n",
    "try:\n",
    "    num=int(input(\"enter the number\"))\n",
    "    print(myfunc(num))\n",
    "except:\n",
    "    print(\"error, enter correct input\")\n",
    "else:\n",
    "    print(\"congrats\")\n",
    "finally:\n",
    "    print(\"thankyou for using\")   \n"
   ]
  },
  {
   "cell_type": "code",
   "execution_count": 39,
   "id": "8d522ba3",
   "metadata": {},
   "outputs": [
    {
     "name": "stdout",
     "output_type": "stream",
     "text": [
      "1 20 P$\n",
      "4 30 P$R$\n",
      "9 60 P$R$S$\n"
     ]
    }
   ],
   "source": [
    "Data=[\"P\",20,\"R\",10,\"S\",30]\n",
    "Times=0\n",
    "Alpha=\"\"\n",
    "Add=0\n",
    "for C in range(1,6,2):\n",
    "    Times=Times+C\n",
    "    Alpha=Alpha+Data[C-1]+\"$\"\n",
    "    Add=Add+Data[C]\n",
    "    print(Times,Add,Alpha)"
   ]
  },
  {
   "cell_type": "markdown",
   "id": "fa03f10b",
   "metadata": {},
   "source": [
    "# practice"
   ]
  },
  {
   "cell_type": "code",
   "execution_count": null,
   "id": "43b3707b",
   "metadata": {},
   "outputs": [],
   "source": [
    "'''Wap to accept a number as input\n",
    "it it is not float/ int give custom error message'''"
   ]
  },
  {
   "cell_type": "code",
   "execution_count": 26,
   "id": "9de72097",
   "metadata": {},
   "outputs": [
    {
     "name": "stdout",
     "output_type": "stream",
     "text": [
      "We are going to take input if wrong input given, then raise exception\n",
      "Enter an integer5\n"
     ]
    }
   ],
   "source": [
    "def myfun():\n",
    "    print(\"We are going to take input if wrong input given, then raise exception\")\n",
    "    input_a = int(input(\"Enter an integer\"))\n",
    "#     raise\n",
    "\n",
    "myfun()"
   ]
  },
  {
   "cell_type": "code",
   "execution_count": null,
   "id": "3c28f3c1",
   "metadata": {},
   "outputs": [],
   "source": []
  },
  {
   "cell_type": "code",
   "execution_count": null,
   "id": "4160e596",
   "metadata": {},
   "outputs": [],
   "source": [
    "l"
   ]
  }
 ],
 "metadata": {
  "kernelspec": {
   "display_name": "Python 3 (ipykernel)",
   "language": "python",
   "name": "python3"
  },
  "language_info": {
   "codemirror_mode": {
    "name": "ipython",
    "version": 3
   },
   "file_extension": ".py",
   "mimetype": "text/x-python",
   "name": "python",
   "nbconvert_exporter": "python",
   "pygments_lexer": "ipython3",
   "version": "3.11.4"
  }
 },
 "nbformat": 4,
 "nbformat_minor": 5
}
