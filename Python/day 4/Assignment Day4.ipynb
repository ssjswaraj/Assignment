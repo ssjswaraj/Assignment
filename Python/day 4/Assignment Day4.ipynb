{
 "cells": [
  {
   "cell_type": "markdown",
   "id": "b5acc967",
   "metadata": {},
   "source": [
    "Q1. What will be output of following\n",
    "\n",
    "a. type(0)\n",
    "b. type(0.0)\n",
    "c. type('A')\n",
    "d. type(print) -> remember print is function\n",
    "e. type(3+3j)\n",
    "f. type(True)"
   ]
  },
  {
   "cell_type": "code",
   "execution_count": 3,
   "id": "d23fe69d",
   "metadata": {},
   "outputs": [
    {
     "name": "stdout",
     "output_type": "stream",
     "text": [
      "<class 'int'>\n",
      "<class 'float'>\n",
      "<class 'str'>\n",
      "<class 'builtin_function_or_method'>\n",
      "<class 'complex'>\n",
      "<class 'bool'>\n"
     ]
    }
   ],
   "source": [
    "print(type(0))\n",
    "print(type(0.0))\n",
    "print(type('A'))\n",
    "print(type(print)) #-> remember print is function\n",
    "print(type(3+3j))\n",
    "print(type(True))"
   ]
  },
  {
   "cell_type": "code",
   "execution_count": null,
   "id": "819aa642",
   "metadata": {},
   "outputs": [],
   "source": [
    "\n",
    "Q2. What will be output of following\n",
    "\n",
    "a. isinstance(10,int)\n",
    "b. isinstance(10,float)\n",
    "c. isinstance(1,bool)\n",
    "d. isinstance(0,bool)\n",
    "e. isinstance(78.8,int)\n",
    "f. isinstance(78.8,float)\n",
    "g. isinstance(78.8,complex)\n",
    "h. isinstance(True,bool)\n"
   ]
  },
  {
   "cell_type": "code",
   "execution_count": 5,
   "id": "b8d1fe5c",
   "metadata": {},
   "outputs": [
    {
     "name": "stdout",
     "output_type": "stream",
     "text": [
      "True\n",
      "False\n",
      "False\n",
      "False\n",
      "False\n",
      "True\n",
      "False\n",
      "True\n"
     ]
    }
   ],
   "source": [
    "print(isinstance(10,int))\n",
    "print(isinstance(10,float))\n",
    "print(isinstance(1,bool))\n",
    "print(isinstance(0,bool))\n",
    "print(isinstance(78.8,int))\n",
    "print(isinstance(78.8,float))\n",
    "print(isinstance(78.8,complex))\n",
    "print(isinstance(True,bool))"
   ]
  },
  {
   "cell_type": "markdown",
   "id": "415736a0",
   "metadata": {},
   "source": [
    "Q3. WAP to take following from user, \n",
    "roll no : should be int : store in a variable\n",
    "percentage marks : should be float: store in a variable\n",
    "Any complex number : should be a complex number : store in a variable\n",
    "name of student: should be a string : store in a variable\n",
    "\n",
    "Print values of all four variables"
   ]
  },
  {
   "cell_type": "code",
   "execution_count": 39,
   "id": "6f63510d",
   "metadata": {},
   "outputs": [
    {
     "name": "stdout",
     "output_type": "stream",
     "text": [
      "your rollno :200\n",
      "your percentage :84\n",
      "enter any complex num :2+3j\n",
      "enter your name :swa\n",
      "roll no :  200\n",
      "percentage :  84.0\n",
      "complex number is :  (2+3j)\n",
      "your name:  swa\n"
     ]
    }
   ],
   "source": [
    "rollno=int(input(\"your rollno :\"))\n",
    "perc=float(input(\"your percentage :\"))\n",
    "comp=complex(input(\"enter any complex num :\"))\n",
    "name=input(\"enter your name :\")\n",
    "print(\"roll no : \",rollno)\n",
    "print(\"percentage : \",perc)\n",
    "print(\"complex number is : \",comp)\n",
    "print(\"your name: \",name)"
   ]
  },
  {
   "cell_type": "markdown",
   "id": "5a746804",
   "metadata": {},
   "source": [
    "Q4. WAP to convert given integer to binary, hex and octal format"
   ]
  },
  {
   "cell_type": "code",
   "execution_count": 25,
   "id": "1ebd4177",
   "metadata": {},
   "outputs": [
    {
     "name": "stdout",
     "output_type": "stream",
     "text": [
      "enter any number:8\n",
      "its binary is : 0b1000\n",
      "its hex is : 0x8\n",
      "its octal is : 0o10\n"
     ]
    },
    {
     "data": {
      "text/plain": [
       "int"
      ]
     },
     "execution_count": 25,
     "metadata": {},
     "output_type": "execute_result"
    }
   ],
   "source": [
    "num=int(input(\"enter any number:\"))\n",
    "print(\"its binary is :\",bin(num))\n",
    "print(\"its hex is :\",hex(num))\n",
    "print(\"its octal is :\",oct(num))\n"
   ]
  },
  {
   "cell_type": "markdown",
   "id": "0ecae2b8",
   "metadata": {},
   "source": [
    "Q5. WAP to convert given binary string to an integer.\n",
    "NOTE: Binary string should start with '0b' always"
   ]
  },
  {
   "cell_type": "code",
   "execution_count": 38,
   "id": "19867508",
   "metadata": {},
   "outputs": [
    {
     "name": "stdout",
     "output_type": "stream",
     "text": [
      "enter binary number in 0b: 1001\n",
      "9\n"
     ]
    }
   ],
   "source": [
    "num=input(\"enter binary number in 0b: \")\n",
    "print(int(num,2))"
   ]
  },
  {
   "cell_type": "markdown",
   "id": "e3220a46",
   "metadata": {},
   "source": [
    "Q6. WAP to convert given octal string to an integer.\n",
    "NOTE: Binary string should start with '0o' always"
   ]
  },
  {
   "cell_type": "code",
   "execution_count": 40,
   "id": "7ccd959b",
   "metadata": {},
   "outputs": [
    {
     "name": "stdout",
     "output_type": "stream",
     "text": [
      "enter binary number in 0o: 0o107\n",
      "71\n"
     ]
    }
   ],
   "source": [
    "num=input(\"enter binary number in 0o: \")\n",
    "print(int(num,8))"
   ]
  },
  {
   "cell_type": "markdown",
   "id": "aa80db6a",
   "metadata": {},
   "source": [
    "Q7. WAP to convert given hex string to an integer.\n",
    "NOTE: Binary string should start with '0x' always"
   ]
  },
  {
   "cell_type": "code",
   "execution_count": 6,
   "id": "f7d78572",
   "metadata": {},
   "outputs": [
    {
     "name": "stdout",
     "output_type": "stream",
     "text": [
      "enter the hex string 0x: 52\n",
      "82\n"
     ]
    }
   ],
   "source": [
    "num=(input(\"enter the hex string 0x: \"))\n",
    "print(int(num,16))"
   ]
  },
  {
   "cell_type": "markdown",
   "id": "f81ed457",
   "metadata": {},
   "source": [
    "Q8. WAP to take an int from user. Print number of 1's and 0's in binary format of given number.\n",
    "NOTE: '0b' is suffix in binary string. It should not be included in calculation."
   ]
  },
  {
   "cell_type": "code",
   "execution_count": 66,
   "id": "6eeae4d9",
   "metadata": {},
   "outputs": [
    {
     "name": "stdout",
     "output_type": "stream",
     "text": [
      "binary of 8 is:  0b1000\n",
      "total no of 1 : 1\n",
      "total no of 0 : 3\n"
     ]
    }
   ],
   "source": [
    "n=8\n",
    "n1=0\n",
    "n0=0\n",
    "t=0\n",
    "print(\"binary of\",n,\"is: \",bin(n))\n",
    "for ch in str(bin(n)):\n",
    "    t=t+1\n",
    "    if t>2:\n",
    "        if (ch == '1'):\n",
    "            n1=n1+1\n",
    "        else:\n",
    "            n0=n0+1\n",
    "print(\"total no of 1 :\",n1)\n",
    "print(\"total no of 0 :\",n0)\n",
    "    "
   ]
  },
  {
   "cell_type": "markdown",
   "id": "7f7d7b48",
   "metadata": {},
   "source": [
    "Q9. Write a menu driven program.\n",
    "Ask the user which input needs to be converted \n",
    "1. binary 2. Octal 3. Hex\n",
    "Then convert given string to integer using int() function"
   ]
  },
  {
   "cell_type": "code",
   "execution_count": 73,
   "id": "453d0103",
   "metadata": {},
   "outputs": [
    {
     "name": "stdout",
     "output_type": "stream",
     "text": [
      "1. binary, 2. Octal, 3. Hex, 4. quit4\n",
      "program exiting\n"
     ]
    }
   ],
   "source": [
    "q=1\n",
    "while(q != 4):\n",
    "    q=int(input(\"1. binary, 2. Octal, 3. Hex, 4. quit\"))\n",
    "    if q==1:\n",
    "        num=int(input(\"enter the number to be converted : \"))\n",
    "        print(\"binary of \",num,\"is :\",bin(num))\n",
    "    elif q==2:\n",
    "        num=int(input(\"enter the number to be converted : \"))\n",
    "        print(\"octal of \",num,\"is :\",oct(num))\n",
    "    elif q==3:\n",
    "        num=int(input(\"enter the number to be converted : \"))\n",
    "        print(\"hex of \",num,\"is :\",hex(num))\n",
    "    elif q==4:\n",
    "        print(\"program exiting\")\n",
    "    else:\n",
    "        print(\"enter correct value\")\n",
    "            "
   ]
  },
  {
   "cell_type": "markdown",
   "id": "8f98d6a0",
   "metadata": {},
   "source": [
    "Q10. Manually tell output (Truth value) of following expression, then verify it in python\n",
    "You can get truth value of an expression by passing it to bool()\n",
    "Ex. bool(100+56*3) returns True\n",
    "\n",
    "a. '' (empty string)\n",
    "b. 10-10\n",
    "c. 19.99-19.9\n",
    "d. [] (empty list)\n",
    "e. range(0)\n",
    "f. None\n",
    "g. 0+0.1j\n",
    "h. -10\n",
    "i. -9.6\n",
    "j. 'ABC'+'KL'\n",
    "k. '-'\n",
    "l. 'False'\n",
    "m. False\n",
    "n. 'None'"
   ]
  },
  {
   "cell_type": "code",
   "execution_count": 82,
   "id": "943ad113",
   "metadata": {},
   "outputs": [
    {
     "name": "stdout",
     "output_type": "stream",
     "text": [
      "False\n",
      "False\n",
      "True\n",
      "False\n",
      "False\n",
      "False\n",
      "True\n",
      "True\n",
      "True\n",
      "True\n",
      "True\n",
      "True\n",
      "False\n",
      "True\n"
     ]
    }
   ],
   "source": [
    " print(bool('')) #(empty string)\n",
    "print(bool(10-10))\n",
    "print(bool(19.99-19.9))\n",
    "print(bool([])) #(empty list)\n",
    "print(bool(range(0)))\n",
    "print(bool(None))\n",
    "print(bool(0+0.1j))\n",
    "print(bool(-10))\n",
    "print(bool(-9.6))\n",
    "print(bool('ABC'+'KL'))\n",
    "print(bool('-'))\n",
    "print(bool('False'))\n",
    "print(bool(False))\n",
    "print(bool('None'))"
   ]
  },
  {
   "cell_type": "markdown",
   "id": "d0a228e7",
   "metadata": {},
   "source": [
    "Q11. Find the size of x when x is given following values\n",
    "Hint : Size of object can be found by sys.getsizeof() function\n",
    "a. x=0 \n",
    "Check what is size of x\n",
    "b. x=1 \n",
    "Check what is size of x\n",
    "c. x=2 ** 20\n",
    "Check what is size of x\n",
    "d. x=2 ** 32\n",
    "Check what is size of x\n",
    "e. x=2 ** 60 \n",
    "Check what is size of x"
   ]
  },
  {
   "cell_type": "code",
   "execution_count": 84,
   "id": "cc3a9750",
   "metadata": {},
   "outputs": [
    {
     "name": "stdout",
     "output_type": "stream",
     "text": [
      "28\n",
      "28\n",
      "28\n",
      "32\n",
      "36\n"
     ]
    }
   ],
   "source": [
    "import sys\n",
    "x=0 \n",
    "print(sys.getsizeof(x))\n",
    "x=1 \n",
    "print(sys.getsizeof(x))\n",
    "x=2 ** 20\n",
    "print(sys.getsizeof(x))\n",
    "x=2 ** 32\n",
    "print(sys.getsizeof(x))\n",
    "x=2 ** 60 \n",
    "print(sys.getsizeof(x))"
   ]
  },
  {
   "cell_type": "markdown",
   "id": "a98694e9",
   "metadata": {},
   "source": [
    "Q12. Find output of following\n",
    "\n",
    "a. 10 + True\n",
    "b. int(False)\n",
    "c. bin(False)\n",
    "d. hex(True)\n",
    "e. 1578.67 + False\n",
    "f. int(5/4)\n",
    "g. int(9/10)\n",
    "h. int(-89/10)\n",
    "i. float(True)\n",
    "j. float(6*7)\n",
    "k. float(1e3)\n",
    "l. float(1e323)"
   ]
  },
  {
   "cell_type": "code",
   "execution_count": 104,
   "id": "a33995a2",
   "metadata": {},
   "outputs": [
    {
     "name": "stdout",
     "output_type": "stream",
     "text": [
      "11\n",
      "0\n",
      "0b0\n",
      "0x1\n",
      "1578.67\n",
      "1\n",
      "0\n",
      "-8\n",
      "1.0\n",
      "42.0\n",
      "1000.0\n",
      "inf\n"
     ]
    }
   ],
   "source": [
    "print(10 + True)\n",
    "print(int(False))\n",
    "print(bin(False))\n",
    "print(hex(True))\n",
    "print(1578.67 + False)\n",
    "print(int(5/4))\n",
    "print(int(9/10))\n",
    "print(int(-89/10))\n",
    "print(float(True))\n",
    "print(float(6*7))\n",
    "print(float(1e3))\n",
    "print(float(1e323))\n"
   ]
  },
  {
   "cell_type": "markdown",
   "id": "07559a4f",
   "metadata": {},
   "source": [
    "Q13. Solve following\n",
    "\n",
    "a. Print value of int.bit_length(10)\n",
    "Print value of bin(10)\n",
    "Explain output of both functions \n",
    "\n",
    "b. Take a number from user. Find its square root. And check if square root is an integer or not.\n",
    "(Hint: Use built-in function from float data type functions for last part)\n",
    "\n",
    "c. Take hexadecimal string from user and convert it to float\n",
    "Ex. User input string: '0x1.67e30'\n",
    "o/p 1.4058074951171875"
   ]
  },
  {
   "cell_type": "code",
   "execution_count": 145,
   "id": "7ceef8a8",
   "metadata": {},
   "outputs": [
    {
     "name": "stdout",
     "output_type": "stream",
     "text": [
      "4\n",
      "0b1010\n",
      "enter the number :64\n",
      "perfect square\n"
     ]
    }
   ],
   "source": [
    "import math\n",
    "print(int.bit_length(10))\n",
    "print(bin(10))\n",
    "\n",
    "n=int(input(\"enter the number :\"))\n",
    "sqrt =(math.sqrt(n))\n",
    "if int(sqrt)==sqrt:\n",
    "    print(\"perfect square\")\n",
    "else:\n",
    "    print(\"not a perfect square\")"
   ]
  },
  {
   "cell_type": "code",
   "execution_count": null,
   "id": "a1084576",
   "metadata": {},
   "outputs": [],
   "source": [
    "# hexa=input(\"insert hexa string\")\n",
    "# hex(hexa,16)"
   ]
  },
  {
   "cell_type": "markdown",
   "id": "d453408e",
   "metadata": {},
   "source": [
    "Q14. WAP to convert given floating point number into fraction i..e numerator and denominator, and print them."
   ]
  },
  {
   "cell_type": "code",
   "execution_count": 141,
   "id": "cc1ac5c6",
   "metadata": {},
   "outputs": [
    {
     "name": "stdout",
     "output_type": "stream",
     "text": [
      "enter the number :1.48\n"
     ]
    },
    {
     "data": {
      "text/plain": [
       "(3332663724254167, 2251799813685248)"
      ]
     },
     "execution_count": 141,
     "metadata": {},
     "output_type": "execute_result"
    }
   ],
   "source": [
    "num=float(input(\"enter the number :\"))\n",
    "(num).as_integer_ratio()"
   ]
  },
  {
   "cell_type": "markdown",
   "id": "63e6ce30",
   "metadata": {},
   "source": [
    "Q15. WAP to create simple calculator in python.\n",
    "Take two numbers from user and give following options\n",
    "a. add b. subtract c. divide d. multiply e. integer division f. mod operation \n",
    "g. check if both numbers are same  h. power operation i. square root of both numbers  j. log of both numbers\n",
    "k. gcd (find the  the greatest common divisor of the two integers) l. lcm (least common multiple)\n",
    "(Hint: Use inbuilt functions)"
   ]
  },
  {
   "cell_type": "code",
   "execution_count": 1,
   "id": "d868476e",
   "metadata": {},
   "outputs": [
    {
     "name": "stdout",
     "output_type": "stream",
     "text": [
      "1 add, 2 subtract, 3 divide, 4 multiply,\n",
      "5 integer division, 6 mod operation, 7. if both numbers are same 8. power operation \n",
      "9. square root of both numbers 10. log of both numbers 11. gcd 12. lcm 0 exit :0\n",
      "program exiting\n"
     ]
    }
   ],
   "source": [
    "c=1\n",
    "while(c!=0):\n",
    "    c=int(input(\"1 add, 2 subtract, 3 divide, 4 multiply, integer division, 6 mod operation, 0 exit :\" ))\n",
    "    if (c==1):\n",
    "        n1=int(input(\"enter number1 :\"))\n",
    "        n2=int(input(\"enter number2 :\"))\n",
    "        print(\"addition is :\",n1+n2)\n",
    "    elif (c==2):\n",
    "        n1=int(input(\"enter number1 :\"))\n",
    "        n2=int(input(\"enter number2 :\"))\n",
    "        print(\"substraction is :\",n1-n2)\n",
    "    elif (c==3):\n",
    "        n1=int(input(\"enter number1 :\"))\n",
    "        n2=int(input(\"enter number2 :\"))\n",
    "        print(\"division is :\",n1/n2)\n",
    "    elif (c==4):\n",
    "        n1=int(input(\"enter number1 :\"))\n",
    "        n2=int(input(\"enter number2 :\"))\n",
    "        print(\"multiplication is :\",n1*n2)\n",
    "    elif (c==5):\n",
    "        n1=int(input(\"enter number1 :\"))\n",
    "        n2=int(input(\"enter number2 :\"))\n",
    "        print(\"integer division is :\",n1//n2)\n",
    "    elif (c==6):\n",
    "        n1=int(input(\"enter number1 :\"))\n",
    "        n2=int(input(\"enter number2 :\"))\n",
    "        print(\"mod operation :\",n1%n2)\n",
    "    elif (c==0):\n",
    "        print(\"program exiting\")\n",
    "    else:\n",
    "        print(\"enter correct value\")\n",
    "    \n",
    "    \n",
    "    "
   ]
  },
  {
   "cell_type": "markdown",
   "id": "0909c013",
   "metadata": {},
   "source": [
    "Q16. WAP to check given integer is a perfect square or not. \n",
    "Don't use built in function"
   ]
  },
  {
   "cell_type": "code",
   "execution_count": 144,
   "id": "bf6e43d7",
   "metadata": {},
   "outputs": [
    {
     "name": "stdout",
     "output_type": "stream",
     "text": [
      "enter the number :64\n",
      "perfect square\n"
     ]
    }
   ],
   "source": [
    "n=int(input(\"enter the number :\"))\n",
    "sqrt =(math.sqrt(n))\n",
    "if int(sqrt)==sqrt:\n",
    "    print(\"perfect square\")\n",
    "else:\n",
    "    print(\"not a perfect square\")"
   ]
  },
  {
   "cell_type": "code",
   "execution_count": null,
   "id": "49ae2fcb",
   "metadata": {},
   "outputs": [],
   "source": [
    "Advanced Assignments:\n",
    "\n",
    "Q. What is output of following? Explain why such output?\n",
    "\n",
    "a. bool(hex(0))\n",
    "b. bool(bin(0))\n",
    "c. bool(0)"
   ]
  },
  {
   "cell_type": "code",
   "execution_count": 146,
   "id": "e10e57c4",
   "metadata": {},
   "outputs": [
    {
     "name": "stdout",
     "output_type": "stream",
     "text": [
      "True\n",
      "True\n",
      "False\n"
     ]
    }
   ],
   "source": [
    "print(bool(hex(0)))\n",
    "print(bool(bin(0)))\n",
    "print(bool(0))"
   ]
  },
  {
   "cell_type": "markdown",
   "id": "7b0cfeb2",
   "metadata": {},
   "source": [
    "Q. What is output of following ? Explain\n",
    "\n",
    "a. \n",
    "if( 10 == 10.00 ):\n",
    "  print(\"Equal\")\n",
    "else:\n",
    "  print(\"not Equal\")"
   ]
  },
  {
   "cell_type": "code",
   "execution_count": 147,
   "id": "1639eeaa",
   "metadata": {},
   "outputs": [
    {
     "name": "stdout",
     "output_type": "stream",
     "text": [
      "Equal\n"
     ]
    }
   ],
   "source": [
    "if( 10 == 10.00 ):\n",
    "  print(\"Equal\")\n",
    "else:\n",
    "  print(\"not Equal\")"
   ]
  },
  {
   "cell_type": "code",
   "execution_count": 148,
   "id": "d0f0fd4b",
   "metadata": {},
   "outputs": [
    {
     "name": "stdout",
     "output_type": "stream",
     "text": [
      "Equal\n"
     ]
    }
   ],
   "source": [
    "# b. \n",
    "\n",
    "x=10\n",
    "y=10.00\n",
    "if( x == y ):\n",
    "  print(\"Equal\")\n",
    "else:\n",
    "  print(\"not Equal\")\n"
   ]
  },
  {
   "cell_type": "code",
   "execution_count": 2,
   "id": "d0dc09e5",
   "metadata": {},
   "outputs": [
    {
     "name": "stdout",
     "output_type": "stream",
     "text": [
      "Not Same\n"
     ]
    }
   ],
   "source": [
    "# c.\n",
    "\n",
    "x=10\n",
    "y=10.00\n",
    "if( x is y ):\n",
    "  print(\"Same\")\n",
    "else:\n",
    "  print(\"Not Same\")"
   ]
  },
  {
   "cell_type": "code",
   "execution_count": 151,
   "id": "0e87f4ad",
   "metadata": {},
   "outputs": [
    {
     "name": "stdout",
     "output_type": "stream",
     "text": [
      "Same\n"
     ]
    }
   ],
   "source": [
    "# d.\n",
    "\n",
    "x=10\n",
    "y=10\n",
    "if( x is y ):\n",
    "  print(\"Same\")\n",
    "else:\n",
    "  print(\"Not Same\")\n",
    "\n",
    "#interning smart memory rule"
   ]
  },
  {
   "cell_type": "markdown",
   "id": "e6c890a0",
   "metadata": {},
   "source": [
    "Q. What is output of following\n",
    "a. x = 23+4j\n",
    "print(x)\n",
    "b. x = 23+4i\n",
    "c. x = 23+4k\n",
    "d. x=complex('23 + 4j')\n",
    "e. x=complex('23+4j')\n",
    "print(x)"
   ]
  },
  {
   "cell_type": "code",
   "execution_count": 161,
   "id": "712b8a91",
   "metadata": {},
   "outputs": [
    {
     "name": "stdout",
     "output_type": "stream",
     "text": [
      "(23+4j)\n"
     ]
    }
   ],
   "source": [
    "# x = 23+4j\n",
    "# print(x)\n",
    "# (23+4j)\n",
    "\n",
    "# x = 23+4i\n",
    "# print(x)\n",
    "# invalid decimal literal\n",
    "\n",
    "# x = 23+4k\n",
    "# print(x)\n",
    "# invalid decimal literal\n",
    "\n",
    "# x=complex('23 + 4j')\n",
    "# print(x)\n",
    "# complex() arg is a malformed string\n",
    "\n",
    "x=complex('23+4j')\n",
    "print(x)\n",
    "# (23+4j)"
   ]
  },
  {
   "cell_type": "markdown",
   "id": "73879257",
   "metadata": {},
   "source": [
    "\n",
    "\n",
    "NOTE: Read documentation & Explain why different outputs are coming \n",
    "\n",
    "https://docs.python.org/3/library/functions.html#complex \n",
    "\n",
    "Q. Read about difference between byte order types Big-Endian and Little-Endian\n",
    "\n",
    "https://en.wikipedia.org/wiki/Endianness\n",
    "\n"
   ]
  }
 ],
 "metadata": {
  "kernelspec": {
   "display_name": "Python 3 (ipykernel)",
   "language": "python",
   "name": "python3"
  },
  "language_info": {
   "codemirror_mode": {
    "name": "ipython",
    "version": 3
   },
   "file_extension": ".py",
   "mimetype": "text/x-python",
   "name": "python",
   "nbconvert_exporter": "python",
   "pygments_lexer": "ipython3",
   "version": "3.11.4"
  }
 },
 "nbformat": 4,
 "nbformat_minor": 5
}
