{
 "cells": [
  {
   "cell_type": "markdown",
   "metadata": {},
   "source": [
    "Create Employee class to have employee details empid int name str designation str salary int --> make it private (hidden) project_ids_assigned (set) skills list of str company name : shared in all employees\n",
    "\n",
    "Functionalities (methods): display_projetids() display_identity() check_relevant_skill() display_company_details(): shared in all (class method)\n",
    "\n",
    "Init should be parameterised to take all neccessary details and initialize the object\n",
    "\n",
    "Create three employees with different details Give them skills\n",
    "\n",
    "Print identity of all of them (one by one) using instance method\n",
    "\n",
    "Print project ids of all of them (one by one) using instance method\n",
    "\n",
    "Print employee ids and names who have skill \"Python\"\n",
    "\n",
    "Print company details\n"
   ]
  },
  {
   "cell_type": "code",
   "execution_count": 11,
   "metadata": {},
   "outputs": [
    {
     "name": "stdout",
     "output_type": "stream",
     "text": [
      "101 bb analyst {1, 2, 3} ['java', 'python']\n",
      "102 ba mgr {1, 2} ['java', 'dbms']\n",
      "103 la analyst {2, 4} ['java', 'python', 'c++']\n"
     ]
    }
   ],
   "source": [
    "class employee:\n",
    "    company_name = \"IACSD\"\n",
    "    count=0\n",
    "    def __init__(self,empid,name,designation,salary,project_ids_assigned,skills):\n",
    "        self.empid=empid\n",
    "        self.name=name\n",
    "        self.designation=designation\n",
    "        self.__salary=salary\n",
    "        self.project_ids_assigned=project_ids_assigned #(set)\n",
    "        self.skills=skills  # list of str\n",
    "        employee.count+=1\n",
    "    def display_projectids(self):\n",
    "        print(self.project_ids_assigned)\n",
    "        \n",
    "    def display_identity(self):\n",
    "        print(self.empid,self.name,self.designation,self.project_ids_assigned,self.skills)\n",
    "        \n",
    "    def check_relevant_skill(self,check_skill):\n",
    "        if check_skill in self.skills:\n",
    "            print(\"yes :\",check_skill)\n",
    "            self.display_identity()\n",
    "#         else:\n",
    "#             print(\"no :\",check_skill)\n",
    "   \n",
    "    @classmethod\n",
    "    def display_company_details(cls):\n",
    "        print(cls.company_name)\n",
    "        \n",
    "#=============================\n",
    "e1=employee(101,'bb','analyst',2000,{1,2,3},['java','python'])\n",
    "e2=employee(102,'ba','mgr',2000,{1,2},['java','dbms'])\n",
    "e3=employee(103,'la','analyst',2000,{2,4},['java','python','c++'])\n",
    "e1.display_identity()\n",
    "e2.display_identity()\n",
    "e3.display_identity()\n",
    "    "
   ]
  },
  {
   "cell_type": "code",
   "execution_count": 12,
   "metadata": {},
   "outputs": [
    {
     "name": "stdout",
     "output_type": "stream",
     "text": [
      "IACSD\n",
      "IACSD\n"
     ]
    }
   ],
   "source": [
    "e1.display_company_details()\n",
    "e2.display_company_details()"
   ]
  },
  {
   "cell_type": "code",
   "execution_count": 13,
   "metadata": {},
   "outputs": [
    {
     "name": "stdout",
     "output_type": "stream",
     "text": [
      "{1, 2, 3}\n",
      "{1, 2}\n",
      "{2, 4}\n"
     ]
    }
   ],
   "source": [
    "e1.display_projectids()\n",
    "e2.display_projectids()\n",
    "e3.display_projectids()"
   ]
  },
  {
   "cell_type": "code",
   "execution_count": 14,
   "metadata": {},
   "outputs": [
    {
     "name": "stdout",
     "output_type": "stream",
     "text": [
      "yes : python\n",
      "101 bb analyst {1, 2, 3} ['java', 'python']\n"
     ]
    }
   ],
   "source": [
    "e1.check_relevant_skill(\"python\")"
   ]
  },
  {
   "cell_type": "code",
   "execution_count": 15,
   "metadata": {},
   "outputs": [
    {
     "name": "stdout",
     "output_type": "stream",
     "text": [
      "yes : python\n",
      "101 bb analyst {1, 2, 3} ['java', 'python']\n",
      "yes : python\n",
      "103 la analyst {2, 4} ['java', 'python', 'c++']\n"
     ]
    }
   ],
   "source": [
    "elist=[e1,e2,e3]\n",
    "for i in elist:\n",
    "    i.check_relevant_skill(\"python\")"
   ]
  },
  {
   "cell_type": "markdown",
   "metadata": {},
   "source": [
    "# q2"
   ]
  },
  {
   "cell_type": "code",
   "execution_count": null,
   "metadata": {},
   "outputs": [],
   "source": [
    "Write a Python program to create a class representing a shopping cart.\n",
    "Include methods for adding and removing items, and calculating the total price."
   ]
  },
  {
   "cell_type": "code",
   "execution_count": 10,
   "metadata": {},
   "outputs": [],
   "source": [
    "class clothes:\n",
    "#     shirt_price=200\n",
    "#     pant_price=400\n",
    "    \n",
    "    def __init__(self):\n",
    "        self.shirt_qty=3\n",
    "        self.pant_qty=4\n",
    "        clothes.price()\n",
    "        \n",
    "    @classmethod                                                                                 \n",
    "    def price(cls):\n",
    "        cls.shirt_price=200\n",
    "        cls.pant_price=400\n",
    "\n",
    "    def add(self,shirt_add,pant_add):\n",
    "        self.shirt_qty=shirt_add+self.shirt_qty\n",
    "        self.pant_qty=pant_add+self.pant_qty\n",
    "        \n",
    "    def remove(self,shirt_add,pant_add):\n",
    "        self.shirt_qty=self.shirt_qty-shirt_add\n",
    "        self.pant_qty=self.pant_qty-pant_add\n",
    "\n",
    "\n",
    "    def total_price(self):\n",
    "#         clothes.price()\n",
    "        print(\"total_quantity\",\"shirt :\",self.shirt_qty,\"pant :\",self.pant_qty)\n",
    "#         total_shirt_price=clothes.shirt_price*self.shirt_qty\n",
    "        total_shirt_price=clothes.shirt_price*self.shirt_qty\n",
    "        print(total_shirt_price)\n",
    "      "
   ]
  },
  {
   "cell_type": "code",
   "execution_count": 11,
   "metadata": {},
   "outputs": [
    {
     "name": "stdout",
     "output_type": "stream",
     "text": [
      "total_quantity shirt : 3 pant : 4\n",
      "600\n",
      "total_quantity shirt : 4 pant : 4\n",
      "800\n",
      "total_quantity shirt : 2 pant : 2\n",
      "400\n"
     ]
    }
   ],
   "source": [
    "c1=clothes()\n",
    "c1.total_price()\n",
    "c1.add(1,0)\n",
    "c1.total_price()\n",
    "c1.remove(2,2)\n",
    "c1.total_price()"
   ]
  },
  {
   "cell_type": "code",
   "execution_count": 12,
   "metadata": {},
   "outputs": [
    {
     "data": {
      "text/plain": [
       "200"
      ]
     },
     "execution_count": 12,
     "metadata": {},
     "output_type": "execute_result"
    }
   ],
   "source": [
    "# clothes.price()\n",
    "clothes.shirt_price"
   ]
  },
  {
   "cell_type": "code",
   "execution_count": 75,
   "metadata": {},
   "outputs": [
    {
     "name": "stdout",
     "output_type": "stream",
     "text": [
      "a 3\n",
      "b 4\n",
      "c 6\n"
     ]
    }
   ],
   "source": []
  },
  {
   "cell_type": "markdown",
   "metadata": {},
   "source": [
    "# sir"
   ]
  },
  {
   "cell_type": "markdown",
   "metadata": {},
   "source": [
    "###########sir\n",
    "'''class employee:\n",
    "    company_name=\"XYZ\"\n",
    "    def __init__(self,empid,name,designation,salary,project_ids,skills):\n",
    "        self.empid=empid\n",
    "        self.name=name\n",
    "        self.designation=designation\n",
    "        self.__salary=salary\n",
    "        self.proj_ids=proj_ids\n",
    "        self.skills=skills\n",
    "    \n",
    "    def display_identity(self):\n",
    "        print(self.empid,self.name,self.__salary) #hiiden variable when access inside class we dont have to \n",
    "                                                    #give class name\n",
    "    \n",
    "    def display_projectids(self):\n",
    "        print(self.proj_ids)\n",
    "        \n",
    "    def check_relevant_skills(self,skill):\n",
    "        if skill in self.skills:\n",
    "            return True\n",
    "        else:\n",
    "            return False\n",
    "    \n",
    "    @classmethod\n",
    "    def display_company_details(cls):\n",
    "        print(\"company name is \",cls.company_name)'''"
   ]
  },
  {
   "cell_type": "markdown",
   "metadata": {},
   "source": [
    "'''empid=input(\"enter emp id\")\n",
    "name=input(\"enter name\")\n",
    "designation=input(\"enter designation\")\n",
    "salary=input(\"enter salary\")\n",
    "\n",
    "proj_ids_str=input(\"enter proj ids separated by space\")\n",
    "prof_ids_list=proj_ids_str.split(\"\")'''"
   ]
  },
  {
   "cell_type": "code",
   "execution_count": null,
   "metadata": {},
   "outputs": [],
   "source": []
  }
 ],
 "metadata": {
  "kernelspec": {
   "display_name": "Python 3",
   "language": "python",
   "name": "python3"
  },
  "language_info": {
   "codemirror_mode": {
    "name": "ipython",
    "version": 3
   },
   "file_extension": ".py",
   "mimetype": "text/x-python",
   "name": "python",
   "nbconvert_exporter": "python",
   "pygments_lexer": "ipython3",
   "version": "3.7.4"
  }
 },
 "nbformat": 4,
 "nbformat_minor": 5
}
