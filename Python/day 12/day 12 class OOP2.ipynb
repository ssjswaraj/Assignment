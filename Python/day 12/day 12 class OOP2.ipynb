{
 "cells": [
  {
   "cell_type": "code",
   "execution_count": null,
   "id": "f6673225",
   "metadata": {},
   "outputs": [],
   "source": [
    "#adding or deleting attributes from an object"
   ]
  },
  {
   "cell_type": "code",
   "execution_count": null,
   "id": "70d5d5a7",
   "metadata": {},
   "outputs": [],
   "source": [
    "class demo:\n",
    "    def __init__(self):\n",
    "        self.a1='first'\n",
    "        self.a2='second'"
   ]
  },
  {
   "cell_type": "code",
   "execution_count": null,
   "id": "f9715c4f",
   "metadata": {},
   "outputs": [],
   "source": [
    "#multi level inheritence\n",
    "# build class employee empid,name,salary, display_id()\n",
    "#child class manager - budget,project ids, display_project_ids"
   ]
  },
  {
   "cell_type": "code",
   "execution_count": 5,
   "id": "060c67d5",
   "metadata": {},
   "outputs": [],
   "source": [
    "class employee:\n",
    "    def __init__(self,empid,name,salary):\n",
    "        self.empid=empid\n",
    "        self.name=name\n",
    "        self.salary=salary\n",
    "        \n",
    "    def display_id(self):\n",
    "        print(self.empid,self.name,self.salary)\n",
    "\n",
    "class manager(employee):\n",
    "    def __init__(self,budget,projectids):\n",
    "        employee.__init__(self)\n",
    "        self.budget=budget\n",
    "        self.projectids\n",
    "        "
   ]
  },
  {
   "cell_type": "code",
   "execution_count": 6,
   "id": "c80ba7c2",
   "metadata": {},
   "outputs": [],
   "source": [
    "####sir\n",
    "class employee:\n",
    "    def __init__(self):\n",
    "        self.empid=input(\"enter empid\")\n",
    "        self.name=input(\"enter name\")\n",
    "        self.salary=input(\"enter salary\")\n",
    "        \n",
    "    def display_id(self):\n",
    "        print(self.empid,self.name,self.salary)\n",
    "\n",
    "class manager(employee):\n",
    "    def __init__(self,projectids):\n",
    "        employee.__init__(self) #if you think that inside manage employee is important then write this, \n",
    "                                #name of parnet class and emp no\n",
    "        self.budget=1000000\n",
    "        self.projectids=projectids\n",
    "    def display_project_ids(self):\n",
    "        print(self.empid,self.name,self.projectids)\n",
    "        '''wheen we call init then only attributes of parent will be given to the child, and then only memory w\n",
    "        will be allocated'''"
   ]
  },
  {
   "cell_type": "code",
   "execution_count": 7,
   "id": "56f749f5",
   "metadata": {},
   "outputs": [
    {
     "name": "stdout",
     "output_type": "stream",
     "text": [
      "enter empid1\n",
      "enter namea\n",
      "enter salary1\n",
      "1 a [1, 2, 3]\n"
     ]
    }
   ],
   "source": [
    "###sir\n",
    "m1=manager([1,2,3])\n",
    "m1.display_project_ids()"
   ]
  },
  {
   "cell_type": "markdown",
   "id": "2f12c0fa",
   "metadata": {},
   "source": [
    "# practice"
   ]
  },
  {
   "cell_type": "code",
   "execution_count": 82,
   "id": "f0695200",
   "metadata": {},
   "outputs": [],
   "source": [
    "class employee:\n",
    "    company_name=\"IACSD\"\n",
    "    def __init__(self,name,designation,salary,project_ids,skills):\n",
    "        self.name=name\n",
    "        self.designation=designation\n",
    "        self.salary=salary\n",
    "        self.project_ids=project_ids\n",
    "        self.skills=skills\n",
    "        self.company_name=\"iacsd\"\n",
    "    \n",
    "    def display_identity(self):\n",
    "        print(self.designation,self.name)\n",
    "        \n",
    "    def display_projectids(self):\n",
    "        print(self.project_ids)\n",
    "        \n",
    "    def check_relevant_skill(self,check):\n",
    "        if check in self.skills:\n",
    "            print(self.name)\n",
    "    \n",
    "    @classmethod\n",
    "    def display_company_details(cls):\n",
    "        print(cls.company_name)\n",
    "        "
   ]
  },
  {
   "cell_type": "code",
   "execution_count": 93,
   "id": "6179e5c3",
   "metadata": {},
   "outputs": [],
   "source": [
    "e1=employee('swaz','ceo',400,[1,2,3],[\"dbms\",\"python\",\"linux\"])\n",
    "e2=employee('sw','ce',40,[1,3],[\"dbms\",\"python\",\"cpp\"])\n",
    "e3=employee('vigyan','ceo',4,[1],[\"dbms\"])\n",
    "\n"
   ]
  },
  {
   "cell_type": "code",
   "execution_count": 88,
   "id": "3f8806a3",
   "metadata": {},
   "outputs": [
    {
     "name": "stdout",
     "output_type": "stream",
     "text": [
      "swaz\n"
     ]
    }
   ],
   "source": []
  },
  {
   "cell_type": "code",
   "execution_count": 95,
   "id": "3daef69e",
   "metadata": {},
   "outputs": [
    {
     "name": "stdout",
     "output_type": "stream",
     "text": [
      "swaz\n",
      "sw\n"
     ]
    }
   ],
   "source": []
  },
  {
   "cell_type": "code",
   "execution_count": 74,
   "id": "ec580bf5",
   "metadata": {},
   "outputs": [
    {
     "name": "stdout",
     "output_type": "stream",
     "text": [
      "ceo swaz\n",
      "ce sw\n"
     ]
    }
   ],
   "source": [
    "e1.display_identity()\n",
    "e2.display_identity()"
   ]
  },
  {
   "cell_type": "code",
   "execution_count": 76,
   "id": "40d2baa2",
   "metadata": {},
   "outputs": [
    {
     "name": "stdout",
     "output_type": "stream",
     "text": [
      "[1, 2, 3]\n",
      "[1, 3]\n"
     ]
    }
   ],
   "source": [
    "e1.display_projectids()\n",
    "e2.display_projectids()"
   ]
  },
  {
   "cell_type": "code",
   "execution_count": null,
   "id": "6f430862",
   "metadata": {},
   "outputs": [],
   "source": [
    "elist=[e1,e2,e3]\n",
    "for i in elist:\n",
    "  i.check_relevant_skill(\"python\")"
   ]
  },
  {
   "cell_type": "markdown",
   "id": "7a97415f",
   "metadata": {},
   "source": [
    "Create Employee class to have employee details\n",
    "empid int\n",
    "    name str\n",
    "    designation str\n",
    "    salary int  --> make it private (hidden)\n",
    "    project_ids_assigned (set)\n",
    "    skills list of str\n",
    "    company name : \n",
    "         shared in all employees\n",
    "\n",
    "Functionalities (methods):\n",
    "        display_projetids()\n",
    "        display_identity()\n",
    "        check_relevant_skill()\n",
    "        \n",
    "        display_company_details():\n",
    "            shared in all (class method)\n",
    "\n",
    "Init should be parameterised to take all\n",
    "neccessary details and initialize the object\n",
    "\n",
    "Create three employees with different details \n",
    "Give them skills\n",
    "\n",
    "Print identity of all of them (one by one)\n",
    "using instance method\n",
    "\n",
    "Print project ids of all of them (one by one)\n",
    "using instance method\n",
    "\n",
    "Print employee ids and names who have skill \"Python\"\n",
    "\n",
    "Print company details\n",
    "\n"
   ]
  }
 ],
 "metadata": {
  "kernelspec": {
   "display_name": "Python 3 (ipykernel)",
   "language": "python",
   "name": "python3"
  },
  "language_info": {
   "codemirror_mode": {
    "name": "ipython",
    "version": 3
   },
   "file_extension": ".py",
   "mimetype": "text/x-python",
   "name": "python",
   "nbconvert_exporter": "python",
   "pygments_lexer": "ipython3",
   "version": "3.11.4"
  }
 },
 "nbformat": 4,
 "nbformat_minor": 5
}
