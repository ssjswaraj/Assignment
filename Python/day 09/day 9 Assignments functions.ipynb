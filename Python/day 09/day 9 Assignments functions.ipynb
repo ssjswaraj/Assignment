{
 "cells": [
  {
   "cell_type": "markdown",
   "id": "3f8c3b6b",
   "metadata": {},
   "source": [
    "# q1"
   ]
  },
  {
   "cell_type": "markdown",
   "id": "6c3a5cf0",
   "metadata": {},
   "source": [
    "1. Write function which takes two parameters account no and name of the user.\n",
    "Check if the account number is valid. Account no is valid only if it is a 4 digit number less than 5000\n",
    "Check if the name is valid. Name is valid if all characters are alphabets and no numbers or special chars in the name\n",
    "If both name and 'acc no' are valid return True \n",
    "If acc no is invalid return a message string saying “Account no is invalid”\n",
    "if name is invalid return None\n"
   ]
  },
  {
   "cell_type": "code",
   "execution_count": 3,
   "id": "e481542e",
   "metadata": {},
   "outputs": [
    {
     "data": {
      "text/plain": [
       "'invalid'"
      ]
     },
     "execution_count": 3,
     "metadata": {},
     "output_type": "execute_result"
    }
   ],
   "source": [
    "def validate_accno(accno):\n",
    "    if accno>999 and accno<5000:\n",
    "        return True\n",
    "    else:\n",
    "        return False\n",
    "\n",
    "def validate_name(name):\n",
    "    if name.isalpha()==True:\n",
    "        return True\n",
    "    else:\n",
    "        return None\n",
    "    \n",
    "def check(accno,name):\n",
    "    if validate_accno(accno) == True:\n",
    "        if validate_name(name) == True:\n",
    "            return True\n",
    "        else:\n",
    "            return False\n",
    "    else:\n",
    "        return \"invalid\"\n",
    "    "
   ]
  },
  {
   "cell_type": "code",
   "execution_count": null,
   "id": "b12571e7",
   "metadata": {},
   "outputs": [],
   "source": [
    "#######by sir\n",
    "def check(accno,name):\n",
    "    '''\n",
    "    acc no : is a string contatining account no\n",
    "    name: is a string contatining name\n",
    "    '''\n",
    "    if (len(accno)==4) and int(accno)<5000:\n",
    "        if name.isalpha()==True:\n",
    "            return True\n",
    "        else:\n",
    "            return True\n",
    "    else:\n",
    "        msg=\"acc no is invalid\"\n",
    "        return msg"
   ]
  },
  {
   "cell_type": "markdown",
   "id": "d24cc81a",
   "metadata": {},
   "source": [
    "# q2"
   ]
  },
  {
   "cell_type": "code",
   "execution_count": null,
   "id": "1d77398f",
   "metadata": {},
   "outputs": [],
   "source": [
    "2. WA function to calculate total salary given that\n",
    "1. post      2. basic salary\n",
    "rules:\n",
    "post can be manager or employee\n",
    "total sal = basic + TA + HRA\n",
    "TA = 5000 for 'manager' \n",
    "and TA = 10,000 for 'employee'\n",
    "HRA = 20,000 for 'manager' and HRA = 12,000 for 'employee'\n",
    "return total salary based on two parameters"
   ]
  },
  {
   "cell_type": "code",
   "execution_count": 2,
   "id": "0370e28b",
   "metadata": {},
   "outputs": [
    {
     "name": "stdout",
     "output_type": "stream",
     "text": [
      "22001\n"
     ]
    }
   ],
   "source": [
    "def total_salary(post,basic):\n",
    "    if post=='manager':\n",
    "        ta,hra=5000,20000\n",
    "    elif post=='employee':\n",
    "        ta,hra=10000,12000\n",
    "    total=basic+ta+hra\n",
    "    return total\n",
    "\n",
    "print(total_salary('employee',1))"
   ]
  },
  {
   "cell_type": "markdown",
   "id": "6ad96755",
   "metadata": {},
   "source": [
    "# q3"
   ]
  },
  {
   "cell_type": "markdown",
   "id": "230a82e3",
   "metadata": {},
   "source": [
    "3.  WA function to rotate given string by 2 position to right\n",
    "\n",
    "Ex.\n",
    "s1=”IACSD”\n",
    "Rotate by 2 place to right\n",
    "“SDIAC”"
   ]
  },
  {
   "cell_type": "code",
   "execution_count": 23,
   "id": "c6566570",
   "metadata": {},
   "outputs": [
    {
     "name": "stdout",
     "output_type": "stream",
     "text": [
      "SDIAC\n"
     ]
    }
   ],
   "source": [
    "########by slicing\n",
    "def rotate(word):\n",
    "    s=word[-2::]+word[:len(word)-2:]\n",
    "    print(s)   \n",
    "    \n",
    "rotate(\"IACSD\")"
   ]
  },
  {
   "cell_type": "code",
   "execution_count": 31,
   "id": "99fe58ca",
   "metadata": {},
   "outputs": [
    {
     "name": "stdout",
     "output_type": "stream",
     "text": [
      "ACSDI\n"
     ]
    }
   ],
   "source": [
    "###########using for loop"
   ]
  },
  {
   "cell_type": "markdown",
   "id": "56dfc3a2",
   "metadata": {},
   "source": [
    "# q4"
   ]
  },
  {
   "cell_type": "markdown",
   "id": "b451c056",
   "metadata": {},
   "source": [
    "4.  Generalize above function to rotate string to right by n"
   ]
  },
  {
   "cell_type": "code",
   "execution_count": 68,
   "id": "ec6f0291",
   "metadata": {},
   "outputs": [
    {
     "name": "stdout",
     "output_type": "stream",
     "text": [
      "DXIACS\n"
     ]
    }
   ],
   "source": [
    "def rotate(word,n):\n",
    "    '''rotate string to right by n'''\n",
    "    s=word[0-n::]+word[:len(word)-n:]\n",
    "    print(s)\n",
    "rotate('IACSDX',2)"
   ]
  },
  {
   "cell_type": "markdown",
   "id": "a3f77434",
   "metadata": {},
   "source": [
    "# q5"
   ]
  },
  {
   "cell_type": "markdown",
   "id": "f017a46a",
   "metadata": {},
   "source": [
    "5.  Generalize above function to rotate string by n to right or left\n"
   ]
  },
  {
   "cell_type": "code",
   "execution_count": 70,
   "id": "9df5f581",
   "metadata": {},
   "outputs": [
    {
     "name": "stdout",
     "output_type": "stream",
     "text": [
      "enter the number to rotate string\n",
      "1.right\n",
      "2.left\n",
      "0.to exit1\n",
      "enter the srting : iacsd\n",
      "to rotate by : 2\n",
      "sdiac\n",
      "enter the number to rotate string\n",
      "1.right\n",
      "2.left\n",
      "0.to exit0\n",
      "enter the srting : 0\n",
      "exiting\n"
     ]
    }
   ],
   "source": [
    "def rotate_right(word,n):\n",
    "    '''rotate string to right by n'''\n",
    "    s=word[0-n::]+word[:len(word)-n:]\n",
    "    print(s)\n",
    "    \n",
    "def rotate_left(word,n):\n",
    "    '''rotate string to left by n'''\n",
    "    s=word[n::]+word[:n:]\n",
    "    print(s)\n",
    "\n",
    "choice=1\n",
    "while(choice!=0):\n",
    "    choice=int(input(\"enter the number to rotate string\\n1.right\\n2.left\\n0.to exit\"))\n",
    "    word=input(\"enter the srting : \")\n",
    "    word.upper()\n",
    "    match choice:\n",
    "        case 1:\n",
    "            n=int(input(\"to rotate by : \"))\n",
    "            rotate_right(word,n)\n",
    "        case 2:\n",
    "            n=int(input(\"to rotate by : \"))\n",
    "            rotate_right(word,n)\n",
    "        case _:\n",
    "            print(\"exiting\")"
   ]
  },
  {
   "cell_type": "markdown",
   "id": "e8e9d12d",
   "metadata": {},
   "source": [
    "# q6"
   ]
  },
  {
   "cell_type": "code",
   "execution_count": null,
   "id": "ba2874de",
   "metadata": {},
   "outputs": [],
   "source": [
    "6. WAP to count number of passengers in every airline. Here we are given dictionary of passanger id and airline id\n",
    "Ex\n",
    "input_dir ={'p1':'a1','p2':'a10','p89':'a1','p5':'a10','p6':'a10'}\n",
    "output: {'a1':2, 'a10':2}"
   ]
  },
  {
   "cell_type": "code",
   "execution_count": 49,
   "id": "35bc675e",
   "metadata": {},
   "outputs": [
    {
     "name": "stdout",
     "output_type": "stream",
     "text": [
      "{'a1': 2, 'a10': 3}\n"
     ]
    }
   ],
   "source": [
    "def count_pass(input_dir):\n",
    "    output={}\n",
    "    \n",
    "    for k,v in input_dir.items():\n",
    "        if v in output:\n",
    "            output[v]=output[v]+1\n",
    "        else:\n",
    "            output[v]=1\n",
    "    print(output)        \n",
    "    \n",
    "input_dir ={'p1':'a1','p2':'a10','p89':'a1','p5':'a10','p6':'a10'}\n",
    "count_pass(input_dir)"
   ]
  },
  {
   "cell_type": "markdown",
   "id": "efa8e655",
   "metadata": {},
   "source": [
    "# q7"
   ]
  },
  {
   "cell_type": "code",
   "execution_count": null,
   "id": "7be07afc",
   "metadata": {},
   "outputs": [],
   "source": [
    "7. given a list of strings.\n",
    "every string is in format \"Emp_name:Emp_id\"\n",
    "Emp_id is always a number\n",
    "if emp_id is amstrong number then rotate emp_name 1 place to the right --> and print the emp_name\n",
    "if emp_id is a prime no then print vowels from the employee name\n",
    "in other cases print consonents from the emp name\n",
    "Finally there should be print of every employee name as per given condition"
   ]
  },
  {
   "cell_type": "code",
   "execution_count": 140,
   "id": "79797725",
   "metadata": {},
   "outputs": [
    {
     "name": "stdout",
     "output_type": "stream",
     "text": [
      "acassandr\n"
     ]
    }
   ],
   "source": [
    "def rotate_right(word):\n",
    "    '''rotate string to right by 1'''\n",
    "    s=word[0-1::]+word[:len(word)-1:]\n",
    "    print(s)\n",
    "    \n",
    "def arm_no(num):\n",
    "    '''armstong number'''\n",
    "    arm=0\n",
    "    for i in (str(num)):\n",
    "        arm=int(i)**len(str(num))+arm\n",
    "    if arm==num:\n",
    "        return True\n",
    "        \n",
    "    else:\n",
    "        return False\n",
    "    \n",
    "def prime_no(num):\n",
    "    for i in range(2,round(num/2)+1,1):\n",
    "        if num%i==0:\n",
    "            return False\n",
    "    else:\n",
    "        return True\n",
    "        \n",
    "def emp_check(emp):\n",
    "    emplist=emp.split(\":\")\n",
    "    vowels=['a','e','i','o','u']\n",
    "    if arm_no(int(emplist[1]))==True:\n",
    "        rotate_right(emplist[0])\n",
    "    \n",
    "    elif prime_no(int(emplist[1])):\n",
    "        for c in emplist[0]:\n",
    "            if c in vowels:\n",
    "                print(c,end=\"\")\n",
    "    else:\n",
    "        for c in emplist[0]:\n",
    "            if c not in vowels:\n",
    "                print(c,end=\"\")      \n",
    "        \n",
    "emp_check(\"cassandra:1634\")"
   ]
  },
  {
   "cell_type": "code",
   "execution_count": null,
   "id": "0a641ef3",
   "metadata": {},
   "outputs": [],
   "source": [
    "8. Write a function which takes all details of a person as input in sequence and prints details as follows\n",
    "(Hint: Think which type of parameter to be used for every option)\n",
    "a. Take name and Print it in Camel Case\n",
    "b. Take 10 digit Mobile No and print it appending +91\n",
    "c. Take location as optional value. If not given then print India\n",
    "d. Take Qualifications. Qualifications can be 1 or 2 or many.\n",
    "Print all the passed qualifications one by one. Default qualification is \"Human\"\n"
   ]
  },
  {
   "cell_type": "code",
   "execution_count": 1,
   "id": "84820fa9",
   "metadata": {},
   "outputs": [
    {
     "name": "stdout",
     "output_type": "stream",
     "text": [
      "['Son', 'Goku', '1111111111', '', 'a', 'b', 'c']\n",
      "Son Goku\n",
      "+911111111111\n",
      "INDIA\n",
      "qualification :  a\n",
      "qualification :  b\n",
      "qualification :  c\n"
     ]
    }
   ],
   "source": [
    "def camel_case(name):\n",
    "    '''camel case'''\n",
    "    name_list=name.split(\" \")\n",
    "    camel_list=[]\n",
    "    for e in name_list:\n",
    "        camel_list.append(e.capitalize())\n",
    "    camel_str=\" \".join(camel_list)\n",
    "    return str(camel_str)\n",
    "\n",
    "def mob_num(num):\n",
    "    '''mobile adding +91'''\n",
    "    new_num=\"+91\"+str(num)\n",
    "    print(new_num)\n",
    "    \n",
    "def location(loc=\"INDIA\"):\n",
    "    print(loc.upper())\n",
    "\n",
    "def qualification(list_qual='HUMAN'):\n",
    "    if list_qual != 'HUMAN':\n",
    "        for i in list_qual:\n",
    "            print(\"qualification : \",i)\n",
    "    else:\n",
    "        print(list_qual)\n",
    "\n",
    "\n",
    "def main(details):\n",
    "    '''main function'''\n",
    "    detail_list=details.split(\" \")\n",
    "    print(detail_list)\n",
    "    name=\" \".join(detail_list[0:2])\n",
    "    print(camel_case(name)) #function callin\n",
    "    \n",
    "    mob_num(int(detail_list[2])) # function calling\n",
    "    \n",
    "    if detail_list[3].isalpha()==False:\n",
    "        location() #function calling\n",
    "    else:\n",
    "        location(detail_list[3]) #function calling\n",
    "    \n",
    "    if len(detail_list)<5:\n",
    "        qualification()\n",
    "    else:\n",
    "        qualification(detail_list[4:])\n",
    "\n",
    "    \n",
    "    \n",
    "# name=input(\"enter your name\")\n",
    "# details=input(\"enter your full name, number, location is optional, and qualification\\nseparate by space: \")\n",
    "    \n",
    "details=\"Son Goku 1111111111  a b c\"\n",
    "main(details)\n",
    "# mob_num(1111111111)\n",
    "    "
   ]
  },
  {
   "cell_type": "code",
   "execution_count": 15,
   "id": "5d88ca64",
   "metadata": {},
   "outputs": [
    {
     "name": "stdout",
     "output_type": "stream",
     "text": [
      "name 00000 (90, 78)\n"
     ]
    }
   ],
   "source": [
    "# choice =1\n",
    "# while(choice!=0)\n",
    "# qualitfication=input(\"enter\")\n",
    "qualification1='be'\n",
    "qualification2='me'\n",
    "qualification3='m.tech'\n",
    "a='name'\n",
    "b='00000'\n",
    "def qual(a,b,*c):\n",
    "    print(a,b,c)\n",
    "# (lambda a,b,c:print(a,b,c))(10,20,30)\n",
    "l=[90,78]\n",
    "qual(a,b,*l)"
   ]
  },
  {
   "cell_type": "code",
   "execution_count": 4,
   "id": "464f1c8f",
   "metadata": {},
   "outputs": [
    {
     "ename": "SyntaxError",
     "evalue": "var-keyword argument cannot have default value (178887064.py, line 27)",
     "output_type": "error",
     "traceback": [
      "\u001b[1;36m  Cell \u001b[1;32mIn[4], line 27\u001b[1;36m\u001b[0m\n\u001b[1;33m    def take_personal_details(name,mob_no,location='India',**qualification='Human'):\u001b[0m\n\u001b[1;37m                                                                          ^\u001b[0m\n\u001b[1;31mSyntaxError\u001b[0m\u001b[1;31m:\u001b[0m var-keyword argument cannot have default value\n"
     ]
    }
   ],
   "source": [
    "###################################Another\n",
    "\n",
    "def camel_case(name):\n",
    "    '''camel case'''\n",
    "    name_list=name.split(\" \")\n",
    "    camel_list=[]\n",
    "    for e in name_list:\n",
    "        camel_list.append(e.capitalize())\n",
    "    camel_str=\" \".join(camel_list)\n",
    "    return str(camel_str)\n",
    "\n",
    "def mob_num(num):\n",
    "    '''mobile adding +91'''\n",
    "    new_num=\"+91\"+str(num)\n",
    "    print(new_num)\n",
    "    \n",
    "def location(loc=\"INDIA\"):\n",
    "    print(loc.upper())\n",
    "\n",
    "def qualification(list_qual='HUMAN'):\n",
    "    if list_qual != 'HUMAN':\n",
    "        for i in list_qual:\n",
    "            print(\"qualification : \",i)\n",
    "    else:\n",
    "        print(list_qual)\n",
    "\n",
    "def take_personal_details(name,mob_no,location='India',*qualification='Human'):\n",
    "    \n",
    "    \n",
    "\n",
    "# name=input(\"Enter your full name :\")\n",
    "name='son goku'\n",
    "mob_no='11111111'\n",
    "location=\"\"\n",
    "qualification=('a','b','c')\n",
    "take_personal_details()\n",
    "    \n"
   ]
  },
  {
   "cell_type": "markdown",
   "id": "8bf4d666",
   "metadata": {},
   "source": [
    "# q9"
   ]
  },
  {
   "cell_type": "code",
   "execution_count": null,
   "id": "f4781425",
   "metadata": {},
   "outputs": [],
   "source": [
    "9. Create a function \"cloth_details\" with three arguments,\n",
    "color, shape and size. All three are optional and can be passed in any sequence by the user."
   ]
  },
  {
   "cell_type": "code",
   "execution_count": 262,
   "id": "ef3317ed",
   "metadata": {},
   "outputs": [
    {
     "name": "stdout",
     "output_type": "stream",
     "text": [
      "blue, rectangle, big\n"
     ]
    }
   ],
   "source": [
    "def cloth_details(color='Black',shape='square',size='big'):\n",
    "    print(color,shape,size,sep=\", \")\n",
    "    \n",
    "cloth_details(shape='rectangle',color='blue')\n",
    "    "
   ]
  },
  {
   "cell_type": "markdown",
   "id": "9bbadc9d",
   "metadata": {},
   "source": [
    "# q10"
   ]
  },
  {
   "cell_type": "markdown",
   "id": "6aca3cbc",
   "metadata": {},
   "source": [
    "10. Create a calculator.py file \n",
    "Create add(), subtract(), multiply(), divide(), power(), log() functions\n",
    "Create a menu driven program to take values and operation as input from user and print result using these functions\n",
    "\n",
    "Take ONLY integer inputs from user. If its not an integer then give Error message -> \"WRONG Input: Please enter ONLY integer value\"\n",
    "Your program should not give \"ValueError\" while using int() function for any input from below, It should display YOUR error message\n",
    "Enter a number : 10\n",
    "Enter a number : 10.9\n",
    "Enter a number : ABC\n",
    "(Hint: Think about methods from string data type to check input as integer)\n"
   ]
  },
  {
   "cell_type": "code",
   "execution_count": null,
   "id": "d211ad58",
   "metadata": {},
   "outputs": [],
   "source": [
    "\n",
    "choice=1\n",
    "def add(a,b):\n",
    "    return a+b\n",
    "def sub(a,b):\n",
    "    return a-b\n",
    "\n",
    "num='11.1'\n",
    "while(choice!=0):\n",
    "    signal=0\n",
    "    num1=input(\"enter the number1: \")\n",
    "    \n",
    "    for i1 in num:\n",
    "        if i.isalpha()==True:\n",
    "            print(\"Wrong Input :Alphabets\")\n",
    "            signal=1\n",
    "            break\n",
    "        elif i==\".\":\n",
    "            print(\"Wrong Input :float\")\n",
    "            signal=1\n",
    "            break\n",
    "            \n",
    "    num2=input(\"enter the number2: \")        \n",
    "    for i2 in num:\n",
    "        if i2.isalpha()==True:\n",
    "            print(\"Wrong Input :Alphabets\")\n",
    "            signal=1\n",
    "            break\n",
    "        elif i2==\".\":\n",
    "            print(\"Wrong Input :float\")\n",
    "            signal=1\n",
    "            break\n",
    "    if signal==0:\n",
    "        choice=int(input(\"enter\\n1:add, 2:sub, 3:multiply, 4:divide, 0:exit\"))\n",
    "        match choice:\n",
    "            case 1:\n",
    "                add(num1,num2)\n",
    "            case 2:\n",
    "                sub(num1,num2)\n",
    "            case _:\n",
    "                print(\"exiting...\")"
   ]
  },
  {
   "cell_type": "markdown",
   "id": "58033e68",
   "metadata": {},
   "source": [
    "# q11"
   ]
  },
  {
   "cell_type": "code",
   "execution_count": null,
   "id": "b8ef711f",
   "metadata": {},
   "outputs": [],
   "source": [
    "11. Write a function which finds average of given arguments. Minimum it takes two parameters and maximum it can take any number of arguments.\n",
    "Finally it should return average of all arguments passed\n",
    "\n",
    "Ex. avg(10,12)  return value 11\n",
    "avg(3,4,5)  return value 4\n",
    "avg(1,2,3,4,5,6,7,8,9,10) return value 5.5\n",
    "Extra case \n",
    "avg(1,2,avg(4,5,6)) return value 2.667 (roughly 8/3)"
   ]
  },
  {
   "cell_type": "code",
   "execution_count": 10,
   "id": "50b79df1",
   "metadata": {},
   "outputs": [
    {
     "name": "stdout",
     "output_type": "stream",
     "text": [
      "15.0\n"
     ]
    }
   ],
   "source": [
    "def avg(a,b,*arg):\n",
    "    c=a+b\n",
    "    for element in arg:\n",
    "        c=c+element\n",
    "    print(c/(len(arg)+2))\n",
    "\n",
    "avg(20,15,10,5,25)\n"
   ]
  },
  {
   "cell_type": "markdown",
   "id": "6d951d61",
   "metadata": {},
   "source": [
    "Advanced Questions"
   ]
  },
  {
   "cell_type": "markdown",
   "id": "ee066be5",
   "metadata": {},
   "source": [
    "Q. what is output of following program? Explain\n",
    "def def_arg(l1=[]):\n",
    "    l1.append(234)\n",
    "    print(l1)\n"
   ]
  },
  {
   "cell_type": "code",
   "execution_count": 8,
   "id": "2624e54f",
   "metadata": {},
   "outputs": [
    {
     "name": "stdout",
     "output_type": "stream",
     "text": [
      "[234]\n",
      "[10, 20, 30, 234]\n",
      "[234, 234]\n"
     ]
    }
   ],
   "source": [
    "def def_arg(l1=[]):\n",
    "    l1.append(234)\n",
    "    print(l1)\n",
    "\n",
    "def_arg()\n",
    "def_arg([10,20,30])\n",
    "def_arg()"
   ]
  },
  {
   "cell_type": "markdown",
   "id": "4a8639bd",
   "metadata": {},
   "source": []
  },
  {
   "cell_type": "code",
   "execution_count": null,
   "id": "cfe5e11a",
   "metadata": {},
   "outputs": [],
   "source": []
  }
 ],
 "metadata": {
  "kernelspec": {
   "display_name": "Python 3 (ipykernel)",
   "language": "python",
   "name": "python3"
  },
  "language_info": {
   "codemirror_mode": {
    "name": "ipython",
    "version": 3
   },
   "file_extension": ".py",
   "mimetype": "text/x-python",
   "name": "python",
   "nbconvert_exporter": "python",
   "pygments_lexer": "ipython3",
   "version": "3.11.4"
  }
 },
 "nbformat": 4,
 "nbformat_minor": 5
}
