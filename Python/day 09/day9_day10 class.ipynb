{
 "cells": [
  {
   "cell_type": "code",
   "execution_count": null,
   "metadata": {},
   "outputs": [],
   "source": [
    "#calcuclate diff between 2 equal length"
   ]
  },
  {
   "cell_type": "code",
   "execution_count": 4,
   "metadata": {},
   "outputs": [
    {
     "name": "stdout",
     "output_type": "stream",
     "text": [
      "23\n"
     ]
    }
   ],
   "source": [
    "#\n",
    "l1=[90,45,12]\n",
    "l2=[90,23,11]\n",
    "total_diff=0\n",
    "for i in range(len(l1)):\n",
    "    total_diff+=l1[i]-l2[i]\n",
    "#     print(total_diff)\n",
    "print(total_diff)\n",
    "#####################################"
   ]
  },
  {
   "cell_type": "code",
   "execution_count": 11,
   "metadata": {},
   "outputs": [
    {
     "name": "stdout",
     "output_type": "stream",
     "text": [
      "23\n"
     ]
    }
   ],
   "source": [
    "total_diff=0\n",
    "for e1,e2 in zip(l1,l2):\n",
    "    total_diff+=e1-e2\n",
    "print(total_diff)"
   ]
  },
  {
   "cell_type": "code",
   "execution_count": 16,
   "metadata": {},
   "outputs": [
    {
     "name": "stdout",
     "output_type": "stream",
     "text": [
      "23\n"
     ]
    }
   ],
   "source": [
    "l1=[90,45,12]\n",
    "l2=[90,23,11]\n",
    "total_diff=[l1[i]-l2[i] for i in range(len(l1))]\n",
    "print(sum(total_diff))"
   ]
  },
  {
   "cell_type": "code",
   "execution_count": 17,
   "metadata": {},
   "outputs": [
    {
     "name": "stdout",
     "output_type": "stream",
     "text": [
      "0 aaa\n",
      "1 asa\n",
      "2 sssas\n",
      "3 da\n",
      "4 aa\n"
     ]
    }
   ],
   "source": [
    "#given list of strings, print all strings whoes first and last char is same and length is greater than 2\n",
    "\n",
    "s=['aaa','asa','sssas','da','aa']\n",
    "\n",
    "# for i,e in enumerate(s):\n",
    "#     if (e[0]==e[-1]) and (len(e)>2):\n",
    "#         print(e)\n",
    "\n",
    "for i,e in enumerate(s):\n",
    "    print(i,e)\n",
    "    \n",
    "    "
   ]
  }
 ],
 "metadata": {
  "kernelspec": {
   "display_name": "Python 3",
   "language": "python",
   "name": "python3"
  },
  "language_info": {
   "codemirror_mode": {
    "name": "ipython",
    "version": 3
   },
   "file_extension": ".py",
   "mimetype": "text/x-python",
   "name": "python",
   "nbconvert_exporter": "python",
   "pygments_lexer": "ipython3",
   "version": "3.7.4"
  }
 },
 "nbformat": 4,
 "nbformat_minor": 5
}
