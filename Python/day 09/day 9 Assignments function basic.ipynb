{
 "cells": [
  {
   "cell_type": "code",
   "execution_count": null,
   "metadata": {},
   "outputs": [],
   "source": [
    "#Q1 WA function to take a number as parameter and  print True if given number is even else print False"
   ]
  },
  {
   "cell_type": "code",
   "execution_count": 2,
   "metadata": {},
   "outputs": [
    {
     "name": "stdout",
     "output_type": "stream",
     "text": [
      "False\n"
     ]
    }
   ],
   "source": [
    "def even_odd(a):\n",
    "    '''to check even odd'''\n",
    "    if a%2==0:\n",
    "        print(\"True\")\n",
    "    else:\n",
    "        print(\"False\")\n",
    "\n",
    "even_odd(5)"
   ]
  },
  {
   "cell_type": "code",
   "execution_count": null,
   "metadata": {},
   "outputs": [],
   "source": [
    "#Q2 WA function to take list as parameter and print all numbers of given list which are divisible by 11"
   ]
  },
  {
   "cell_type": "code",
   "execution_count": 10,
   "metadata": {},
   "outputs": [
    {
     "name": "stdout",
     "output_type": "stream",
     "text": [
      "11\n",
      "121\n"
     ]
    }
   ],
   "source": [
    "def div1(l1):\n",
    "    '''to check numb is divisible by 11'''\n",
    "    for ele in l1:\n",
    "        if ele%11==0:\n",
    "            print(ele)\n",
    "l=[1,11,12,121,3]\n",
    "div1(l)"
   ]
  },
  {
   "cell_type": "code",
   "execution_count": 13,
   "metadata": {},
   "outputs": [
    {
     "name": "stdout",
     "output_type": "stream",
     "text": [
      "[11, 121]\n"
     ]
    }
   ],
   "source": [
    "def div1(l1):\n",
    "    '''to check numb is divisible by 11'''\n",
    "    new_list=[e for e in l1 if e%11==0]\n",
    "    print(new_list)\n",
    "l=[1,11,12,121,3]\n",
    "div1(l)\n"
   ]
  },
  {
   "cell_type": "markdown",
   "metadata": {},
   "source": [
    "Q3 WA function to take string as parameter\n",
    "Check if string is palindrome are not\n",
    "If palindrome return 1\n",
    "if not palindrome return 0"
   ]
  },
  {
   "cell_type": "code",
   "execution_count": 71,
   "metadata": {},
   "outputs": [
    {
     "name": "stdout",
     "output_type": "stream",
     "text": [
      "palindrome\n"
     ]
    }
   ],
   "source": [
    "\n",
    "def palindrome(str1):\n",
    "    '''palindrome check'''\n",
    "    l1=list(str1)\n",
    "    l2=list(reversed(l1))\n",
    "\n",
    "    for i1,i2 in zip(l1,l2):\n",
    "        if i1!=i2:\n",
    "            print(\"not a palindrome\")\n",
    "            break\n",
    "    else:\n",
    "        print(\"palindrome\")\n",
    "    \n",
    "palindrome(\"helleh\")"
   ]
  },
  {
   "cell_type": "code",
   "execution_count": 76,
   "metadata": {},
   "outputs": [
    {
     "name": "stdout",
     "output_type": "stream",
     "text": [
      "not a palindrome\n"
     ]
    }
   ],
   "source": [
    "#############another\n",
    "def check_palindrome(string1):\n",
    "    if string1==string1[::-1]:\n",
    "        print(\"palindrome\")\n",
    "    else:\n",
    "        print(\"not a palindrome\")\n",
    "check_palindrome(\"helh\")"
   ]
  },
  {
   "cell_type": "markdown",
   "metadata": {},
   "source": [
    "Q4 WA function to check if number is prime or not. Return True if number is prime and false if number not prime."
   ]
  },
  {
   "cell_type": "code",
   "execution_count": null,
   "metadata": {},
   "outputs": [],
   "source": []
  },
  {
   "cell_type": "markdown",
   "metadata": {},
   "source": [
    "Q WA function to take a string as parameter. Print its alternate characters starting from 2nd character"
   ]
  },
  {
   "cell_type": "code",
   "execution_count": 30,
   "metadata": {},
   "outputs": [
    {
     "name": "stdout",
     "output_type": "stream",
     "text": [
      "Pn\n"
     ]
    }
   ],
   "source": [
    "def alternate(s1):\n",
    "    print(s1[::2])\n",
    "alternate(\"Pune\")"
   ]
  },
  {
   "cell_type": "markdown",
   "metadata": {},
   "source": [
    "Q WA function to take dictionary as parameter. Print all keys of the dictionary"
   ]
  },
  {
   "cell_type": "code",
   "execution_count": 41,
   "metadata": {},
   "outputs": [
    {
     "name": "stdout",
     "output_type": "stream",
     "text": [
      "1\n",
      "2\n",
      "3\n",
      "4\n",
      "[1, 2, 3, 4]\n"
     ]
    }
   ],
   "source": [
    "def print_keys(d1):\n",
    "    for key in d1:\n",
    "        print(key)\n",
    "    print(list(d1.keys()))\n",
    "d1={1:'a',2:'b',3:'c',4:'d'}\n",
    "print_keys(d1)"
   ]
  },
  {
   "cell_type": "markdown",
   "metadata": {},
   "source": [
    "Q WA function to take a dictionary as parameter. Print value of key \"name\" if key \"rollno\" is having value 100."
   ]
  },
  {
   "cell_type": "code",
   "execution_count": 46,
   "metadata": {},
   "outputs": [
    {
     "name": "stdout",
     "output_type": "stream",
     "text": [
      "b\n",
      "c\n"
     ]
    }
   ],
   "source": [
    "def hun(d1):\n",
    "    for k,v in d1.items():\n",
    "        if k%100==0:\n",
    "            print(v)\n",
    "        \n",
    "d1={1:'a',200:'b',300:'c',4:'d'}\n",
    "hun(d1)"
   ]
  },
  {
   "cell_type": "code",
   "execution_count": 57,
   "metadata": {},
   "outputs": [
    {
     "name": "stdout",
     "output_type": "stream",
     "text": [
      "iacsd\n"
     ]
    }
   ],
   "source": [
    "###########################\n",
    "def check(d1):\n",
    "    if d1['rollno']==100:\n",
    "        print(d1['name'])\n",
    "d={'name':'iacsd','rollno':100}\n",
    "check(d)"
   ]
  },
  {
   "cell_type": "markdown",
   "metadata": {},
   "source": [
    "WAP to take dictionary as parameter print value of key 'price' if key 'item' is milk"
   ]
  },
  {
   "cell_type": "code",
   "execution_count": 58,
   "metadata": {},
   "outputs": [
    {
     "name": "stdout",
     "output_type": "stream",
     "text": [
      "200\n"
     ]
    }
   ],
   "source": [
    "def check1(d1):\n",
    "    if d1['item']=='milk':\n",
    "        print(d1['price'])\n",
    "d1={'item':'milk','price':200}\n",
    "check1(d1)"
   ]
  },
  {
   "cell_type": "markdown",
   "metadata": {},
   "source": [
    "Q WA function to list of strings as parameter and print all strings which have character 's' 2 times"
   ]
  },
  {
   "cell_type": "code",
   "execution_count": 65,
   "metadata": {},
   "outputs": [
    {
     "name": "stdout",
     "output_type": "stream",
     "text": [
      "ssa\n",
      "kluss\n"
     ]
    }
   ],
   "source": [
    "def doubles(l1):\n",
    "    for i1 in l1:\n",
    "        count=0\n",
    "        for i2 in i1:\n",
    "            if i2=='s':\n",
    "                count+=1\n",
    "        if count==2:\n",
    "            print(i1)\n",
    "\n",
    "l1=['aa','asd','ssa','kluss']\n",
    "doubles(l1)"
   ]
  },
  {
   "cell_type": "code",
   "execution_count": 66,
   "metadata": {},
   "outputs": [
    {
     "name": "stdout",
     "output_type": "stream",
     "text": [
      "ssa\n",
      "kluss\n"
     ]
    }
   ],
   "source": [
    "#########using count function\n",
    "def doubles(l1):\n",
    "    for i1 in l1:\n",
    "        if i1.count(\"s\")==2:\n",
    "            print(i1)\n",
    "l1=['aa','asd','ssa','kluss']\n",
    "doubles(l1)"
   ]
  },
  {
   "cell_type": "markdown",
   "metadata": {},
   "source": [
    "Q WA function to take list of dictionaries. Print all dictionaries which contain key \"id\"."
   ]
  },
  {
   "cell_type": "code",
   "execution_count": 73,
   "metadata": {},
   "outputs": [
    {
     "name": "stdout",
     "output_type": "stream",
     "text": [
      "{'id': 345, 'name': 'abc', 'college': 'pune'}\n"
     ]
    }
   ],
   "source": [
    "\n",
    "def check_id(l1):\n",
    "    for d in l1:\n",
    "        if 'id' in d.keys():\n",
    "            print(d)\n",
    "\n",
    "list_d=[{'bookpd':123,'bookname':'python'},\n",
    "        {'id':345,'name':'abc','college':'pune'},\n",
    "        {'movieid':234,'moviename':'xyz'}]\n",
    "check_id(list_d)\n"
   ]
  }
 ],
 "metadata": {
  "kernelspec": {
   "display_name": "Python 3",
   "language": "python",
   "name": "python3"
  },
  "language_info": {
   "codemirror_mode": {
    "name": "ipython",
    "version": 3
   },
   "file_extension": ".py",
   "mimetype": "text/x-python",
   "name": "python",
   "nbconvert_exporter": "python",
   "pygments_lexer": "ipython3",
   "version": "3.7.4"
  }
 },
 "nbformat": 4,
 "nbformat_minor": 5
}
