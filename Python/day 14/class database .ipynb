{
 "cells": [
  {
   "cell_type": "code",
   "execution_count": 7,
   "id": "b6ee25a6",
   "metadata": {},
   "outputs": [],
   "source": [
    "import mysql.connector\n",
    "\n",
    "cnx = mysql.connector.connect(user='root', \n",
    "                              password='root123',\n",
    "                              host='127.0.0.1',\n",
    "                              database='mytrial')\n",
    "# cnx.close()"
   ]
  },
  {
   "cell_type": "code",
   "execution_count": 10,
   "id": "bbf8e771",
   "metadata": {},
   "outputs": [],
   "source": [
    "cur =cnx.cursor()\n",
    "cur.execute(\"\"\"CREATE TABLE student( \n",
    "            roll_no INT, \n",
    "            subid varchar(10), \n",
    "            marks INT);\"\"\")\n",
    "cnx.commit()"
   ]
  },
  {
   "cell_type": "code",
   "execution_count": 11,
   "id": "b4bfab2e",
   "metadata": {},
   "outputs": [],
   "source": [
    "cnx.close()"
   ]
  },
  {
   "cell_type": "code",
   "execution_count": 12,
   "id": "13cc49b6",
   "metadata": {},
   "outputs": [],
   "source": [
    "# Insert records\n",
    "records=[[1,'sub1',34],\n",
    "         [2,'sub1',30],\n",
    "         [3,'sub1',23],\n",
    "         [1,'sub2',23],\n",
    "        [2,'sub2',26],\n",
    "        [3,'sub2',30],\n",
    "        [1,'sub3',30],\n",
    "        [2,'sub3',30],\n",
    "        [3,'sub3',27],\n",
    "    ]"
   ]
  },
  {
   "cell_type": "code",
   "execution_count": 13,
   "id": "f402f146",
   "metadata": {},
   "outputs": [
    {
     "name": "stdout",
     "output_type": "stream",
     "text": [
      "insert into student values(1,'sub1',34);\n",
      "insert into student values(2,'sub1',30);\n",
      "insert into student values(3,'sub1',23);\n",
      "insert into student values(1,'sub2',23);\n",
      "insert into student values(2,'sub2',26);\n",
      "insert into student values(3,'sub2',30);\n",
      "insert into student values(1,'sub3',30);\n",
      "insert into student values(2,'sub3',30);\n",
      "insert into student values(3,'sub3',27);\n"
     ]
    }
   ],
   "source": [
    "cnx = mysql.connector.connect(user='root', \n",
    "                              password='root123',\n",
    "                              host='127.0.0.1',\n",
    "                              database='mytrial')\n",
    "cur = cnx.cursor()\n",
    "for rno, sub, marks in records:\n",
    "    query = \"insert into student values(\" +\\\n",
    "                str(rno)+\",\"+\\\n",
    "                repr(sub) + \",\"+\\\n",
    "                str(marks)+\");\"\n",
    "    print(query)\n",
    "    cur.execute(query)\n",
    "\n",
    "cnx.commit()\n",
    "cnx.close()"
   ]
  },
  {
   "cell_type": "code",
   "execution_count": 14,
   "id": "94059b1e",
   "metadata": {},
   "outputs": [
    {
     "name": "stdout",
     "output_type": "stream",
     "text": [
      "(1, 'sub1', 34)\n",
      "(2, 'sub1', 30)\n",
      "(3, 'sub1', 23)\n",
      "(1, 'sub2', 23)\n",
      "(2, 'sub2', 26)\n",
      "(3, 'sub2', 30)\n",
      "(1, 'sub3', 30)\n",
      "(2, 'sub3', 30)\n",
      "(3, 'sub3', 27)\n"
     ]
    }
   ],
   "source": [
    "cnx = mysql.connector.connect(user='root', \n",
    "                              password='root123',\n",
    "                              host='127.0.0.1',\n",
    "                              database='mytrial')\n",
    "cur = cnx.cursor()\n",
    "cur.execute(\"select * from student\")\n",
    "\n",
    "for row in cur:\n",
    "    print(row)\n",
    "\n",
    "\n",
    "cnx.close()"
   ]
  },
  {
   "cell_type": "code",
   "execution_count": 15,
   "id": "43bf03bf",
   "metadata": {},
   "outputs": [
    {
     "name": "stdout",
     "output_type": "stream",
     "text": [
      "hello\n"
     ]
    }
   ],
   "source": [
    "m=\"hello\"\n",
    "print(m)"
   ]
  }
 ],
 "metadata": {
  "kernelspec": {
   "display_name": "Python 3 (ipykernel)",
   "language": "python",
   "name": "python3"
  },
  "language_info": {
   "codemirror_mode": {
    "name": "ipython",
    "version": 3
   },
   "file_extension": ".py",
   "mimetype": "text/x-python",
   "name": "python",
   "nbconvert_exporter": "python",
   "pygments_lexer": "ipython3",
   "version": "3.11.4"
  }
 },
 "nbformat": 4,
 "nbformat_minor": 5
}
