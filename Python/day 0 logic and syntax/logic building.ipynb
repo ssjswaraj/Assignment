{
 "cells": [
  {
   "cell_type": "markdown",
   "metadata": {},
   "source": [
    "# Basic Logic building programs"
   ]
  },
  {
   "cell_type": "code",
   "execution_count": null,
   "metadata": {},
   "outputs": [],
   "source": [
    "1. Simple Calculator Program\n",
    "2. Scientific Calculator program"
   ]
  },
  {
   "cell_type": "markdown",
   "metadata": {},
   "source": [
    "3. WAP to print the odd numbers from 1 to 99. Prints one number per line."
   ]
  },
  {
   "cell_type": "code",
   "execution_count": 3,
   "metadata": {},
   "outputs": [
    {
     "name": "stdout",
     "output_type": "stream",
     "text": [
      "1 3 5 7 9 11 13 15 17 19 21 23 25 27 29 31 33 35 37 39 41 43 45 47 49 51 53 55 57 59 61 63 65 67 69 71 73 75 77 79 81 83 85 87 89 91 93 95 97 99 "
     ]
    }
   ],
   "source": [
    "for i in range(1,100):\n",
    "    if i%2==1:\n",
    "        print(i,end=\" \")\n"
   ]
  },
  {
   "cell_type": "markdown",
   "metadata": {},
   "source": [
    "4. WAP  to accept a number and check the number is even or not. Prints 1 if the number is even or 0 if the number is odd."
   ]
  },
  {
   "cell_type": "code",
   "execution_count": 4,
   "metadata": {},
   "outputs": [
    {
     "name": "stdout",
     "output_type": "stream",
     "text": [
      "1\n"
     ]
    }
   ],
   "source": [
    "def evenodd(n):\n",
    "    if n%2==1:\n",
    "        print(\"0\")\n",
    "    else:\n",
    "        print(\"1\")\n",
    "        \n",
    "evenodd(50)"
   ]
  },
  {
   "cell_type": "markdown",
   "metadata": {},
   "source": [
    "5. WAP to print numbers between 1 to 100 which are divisible by 3, 5 and by both\n",
    "( total 3 list of numbers to be printed)"
   ]
  },
  {
   "cell_type": "code",
   "execution_count": 10,
   "metadata": {},
   "outputs": [
    {
     "name": "stdout",
     "output_type": "stream",
     "text": [
      "3, 5, 6, 9, 10, 12, 15, 18, 20, 21, 24, 25, 27, 30, 33, 35, 36, 39, 40, 42, 45, 48, 50, 51, 54, 55, 57, 60, 63, 65, 66, 69, 70, 72, 75, 78, 80, 81, 84, 85, 87, 90, 93, 95, 96, 99, "
     ]
    }
   ],
   "source": [
    "for i in range(1,100):\n",
    "    if i%3==0 or i%5==0:\n",
    "        print(i,end=\", \")\n",
    "    elif i%3==0 and i%5==0:\n",
    "        print(i,end=\"\")"
   ]
  },
  {
   "cell_type": "markdown",
   "metadata": {},
   "source": [
    "6. WAP that accepts three integers from the user and return true if two or more of them (integers ) have the same rightmost digit.\n",
    "The integers are non-negative"
   ]
  },
  {
   "cell_type": "code",
   "execution_count": 14,
   "metadata": {},
   "outputs": [
    {
     "name": "stdout",
     "output_type": "stream",
     "text": [
      "true\n"
     ]
    }
   ],
   "source": [
    "n1=563\n",
    "n2=236\n",
    "n3=986\n",
    "s1=str(n1)\n",
    "s2=str(n2)\n",
    "s3=str(n3)\n",
    "if s1[-1]==s2[-1]:\n",
    "    print(\"true\")\n",
    "elif s1[-1]==s3[-1]:\n",
    "    print(\"true\")\n",
    "elif s2[-1]==s3[-1]:\n",
    "    print(\"true\")\n",
    "else:\n",
    "    print(\"false\")"
   ]
  },
  {
   "cell_type": "markdown",
   "metadata": {},
   "source": [
    "7. WAP to convert input number of seconds to HH:MM:SS."
   ]
  },
  {
   "cell_type": "code",
   "execution_count": 21,
   "metadata": {},
   "outputs": [
    {
     "name": "stdout",
     "output_type": "stream",
     "text": [
      "1:0:0\n"
     ]
    }
   ],
   "source": [
    "def time(sec):\n",
    "    hh=sec//(60*60)\n",
    "    sec=sec-hh*(3600)\n",
    "    mm=sec//60\n",
    "    sec=sec-mm*(3600)\n",
    "    ss=sec%60\n",
    "    print(hh,mm,ss,sep=\":\")\n",
    "    \n",
    "\n",
    "\n",
    "time(3600)"
   ]
  },
  {
   "cell_type": "markdown",
   "metadata": {},
   "source": [
    "8. WAP to print all leap years between 2000 to 2100. \n",
    "Apply all conditions of checking leap year ( (divisible by 4 and not divisible by 100) OR (divisible by 400))\n"
   ]
  },
  {
   "cell_type": "code",
   "execution_count": null,
   "metadata": {},
   "outputs": [],
   "source": []
  },
  {
   "cell_type": "markdown",
   "metadata": {},
   "source": [
    "9. WAP to print calender for a month. Take how many days are there in month and starting day of the month as input\n",
    "    Ex. input no of days : 30  starting day of month : Thursday\n",
    "    Ouput :: Day wise Calender  ( just like June 2022 month)"
   ]
  },
  {
   "cell_type": "code",
   "execution_count": 72,
   "metadata": {},
   "outputs": [
    {
     "name": "stdout",
     "output_type": "stream",
     "text": [
      "m |t |w |t |f |s |s\n",
      "            1  2  3\n",
      "4  5  6  7  8  9  10\n",
      "11 12 13 14 15 16 17\n",
      "18 19 20 21 22 23 24\n",
      "25 26 27 28 29 30 "
     ]
    }
   ],
   "source": [
    "def calender(total,day):\n",
    "#     day_dict={1:'mon',2:'tue',3:'wed',4:'thu',5:'fri',6:'sat',7:'sun'}\n",
    "#     day_dict={'mon':1,'tue':2,'wed':3,'thu':4,'fri':5,'sat':6,'sun':7}\n",
    "    day_dict={'mon':0,'tue':1,'wed':2,'thu':3,'fri':4,'sat':5,'sun':6}\n",
    "    n=day_dict[day]\n",
    "#     print(n)\n",
    "    print('m |t |w |t |f |s |s')\n",
    "    print(\"   \"*(n),end=\"\")\n",
    "    \n",
    "    for i in range(1,total+1):\n",
    "        if ((i+n)%7==0):\n",
    "            print(i)\n",
    "        else:\n",
    "            if (i<10):\n",
    "                print(i,end=\"  \") \n",
    "            else:\n",
    "                print(i,end=\" \")\n",
    "                \n",
    "        \n",
    "calender(30,'fri')"
   ]
  },
  {
   "cell_type": "code",
   "execution_count": 167,
   "metadata": {},
   "outputs": [
    {
     "name": "stdout",
     "output_type": "stream",
     "text": [
      "m |t |w |t |f |s |s\n",
      "            1  2  3  \n",
      "4  5  6  7  8  9  10 \n",
      "11 12 13 14 15 16 17 \n",
      "18 19 20 21 22 23 24 \n",
      "25 26 27 28 29 "
     ]
    }
   ],
   "source": [
    "#####another\n",
    "def calender(total,day):\n",
    "    day_dict1={'mon':0,'tue':1,'wed':2,'thu':3,'fri':4,'sat':5,'sun':6}\n",
    "    dlist=['monday','tuesday','wednesday','thursday','friday','saturday','sunday']\n",
    "    count=day_dict1[day]\n",
    "\n",
    "#     print(count)\n",
    "    print('m |t |w |t |f |s |s')\n",
    "#     print(\" \"*(count),end=\"\")\n",
    "    print(\" \".rjust(count*3),end=\"\")\n",
    "    \n",
    "    for i in range(1,total):\n",
    "\n",
    "        if count<=6:\n",
    "            print(i,end=\"\")\n",
    "            \n",
    "            \n",
    "        else:\n",
    "            print()\n",
    "            print(i,end=\"\")\n",
    "            count=0\n",
    "            \n",
    "        if (i<10):\n",
    "            print(end=\"  \") \n",
    "        else:\n",
    "            print(end=\" \")\n",
    "            \n",
    "        count+=1\n",
    "    \n",
    "\n",
    "calender(30,'fri')\n",
    " "
   ]
  },
  {
   "cell_type": "code",
   "execution_count": 147,
   "metadata": {},
   "outputs": [
    {
     "name": "stdout",
     "output_type": "stream",
     "text": [
      "    /\n"
     ]
    }
   ],
   "source": [
    "str1=\" \"\n",
    " \n",
    "print(str1.rjust(3),\"/\")"
   ]
  },
  {
   "cell_type": "markdown",
   "metadata": {},
   "source": [
    "10. WAP to print day of input date when given day for 1st day of that month\n",
    "    ex. input date : 16/07/2022  day of 1st day of that month : Friday\n",
    "    output : saturday"
   ]
  },
  {
   "cell_type": "code",
   "execution_count": 1,
   "metadata": {},
   "outputs": [
    {
     "name": "stdout",
     "output_type": "stream",
     "text": [
      "16 saturday\n"
     ]
    }
   ],
   "source": [
    "def calender(date,day):\n",
    "    day_dict1={'mon':0,'tue':1,'wed':2,'thu':3,'fri':4,'sat':5,'sun':6}\n",
    "    num=day_dict1[day]\n",
    "    dlist=['monday','tuesday','wednesday','thursday','friday','saturday','sunday']\n",
    "    for i in range(1,date):\n",
    "        num=num+1\n",
    "        if num>6:\n",
    "            num=0\n",
    "    print(date,dlist[num])\n",
    "    \n",
    "\n",
    "calender(16,'fri')\n",
    " "
   ]
  },
  {
   "cell_type": "markdown",
   "metadata": {},
   "source": [
    "11. Factorial Program using Recursion\n",
    "    n! = n * (n-1) * (n-2) * ... *2*1\n"
   ]
  },
  {
   "cell_type": "code",
   "execution_count": 89,
   "metadata": {},
   "outputs": [
    {
     "data": {
      "text/plain": [
       "120"
      ]
     },
     "execution_count": 89,
     "metadata": {},
     "output_type": "execute_result"
    }
   ],
   "source": [
    "def factorial(n):\n",
    "    if n==1:\n",
    "        return 1\n",
    "    else:\n",
    "        return n*factorial(n-1)\n",
    "    \n",
    "factorial(5)\n"
   ]
  },
  {
   "cell_type": "markdown",
   "metadata": {},
   "source": [
    "12. Factorial of a number using loop\n",
    "    n! = n * (n-1) * (n-2) * ... *2*1"
   ]
  },
  {
   "cell_type": "code",
   "execution_count": 92,
   "metadata": {},
   "outputs": [
    {
     "data": {
      "text/plain": [
       "120"
      ]
     },
     "execution_count": 92,
     "metadata": {},
     "output_type": "execute_result"
    }
   ],
   "source": [
    "def factorial(n):\n",
    "    fact=1\n",
    "    for i in range(1,n+1):\n",
    "        fact=i*fact\n",
    "    return fact\n",
    "factorial(5)"
   ]
  },
  {
   "cell_type": "markdown",
   "metadata": {},
   "source": [
    "13. Fibonacci Series.\n",
    "    1,1,2,3,5,8,13,21,34,..."
   ]
  },
  {
   "cell_type": "code",
   "execution_count": 99,
   "metadata": {},
   "outputs": [
    {
     "name": "stdout",
     "output_type": "stream",
     "text": [
      "[1, 1, 2, 3, 5, 8, 13, 21, 34, 55]\n"
     ]
    }
   ],
   "source": [
    "def fibo(num):\n",
    "    list1=[1,1]\n",
    "    for i in range(num-2):\n",
    "        list1.append(list1[len(list1)-1]+list1[len(list1)-2])\n",
    "    print(list1)\n",
    "\n",
    "    \n",
    "fibo(10)"
   ]
  },
  {
   "cell_type": "markdown",
   "metadata": {},
   "source": [
    "14. Armstrong Number.\n",
    "    It is a number with 'n' digits. Here (sum of every digit ^ n) equal to ( number itself)\n",
    "\n",
    "    1) 1^3 5^3 3^3=153 ( here number of digits(n) is 3)\n",
    "    2) 1^1 = 1 ( here number of digits is 1)\n",
    "    3) 1634 = 1^4 + 6^4 + 3^4 + 4^4 ( here number of digits is 4)"
   ]
  },
  {
   "cell_type": "code",
   "execution_count": 106,
   "metadata": {},
   "outputs": [
    {
     "data": {
      "text/plain": [
       "True"
      ]
     },
     "execution_count": 106,
     "metadata": {},
     "output_type": "execute_result"
    }
   ],
   "source": [
    "def arm(num):\n",
    "    nums=str(num)\n",
    "    total=0\n",
    "    for i in nums:\n",
    "        total+=int(i)**len(nums)\n",
    "    if total==num:\n",
    "        return True\n",
    "    else:\n",
    "        return False\n",
    "    \n",
    "    \n",
    "arm(153)"
   ]
  },
  {
   "cell_type": "markdown",
   "metadata": {},
   "source": [
    "15. Perfect sqaure WAP to check if a number is perfect square ot not."
   ]
  },
  {
   "cell_type": "code",
   "execution_count": 170,
   "metadata": {},
   "outputs": [
    {
     "data": {
      "text/plain": [
       "True"
      ]
     },
     "execution_count": 170,
     "metadata": {},
     "output_type": "execute_result"
    }
   ],
   "source": [
    "\n",
    "def square(num):\n",
    "    import math\n",
    "    root=math.sqrt(num)\n",
    "    if int(root)==root:\n",
    "        return True\n",
    "    else:\n",
    "        return False\n",
    "    \n",
    "square(9)"
   ]
  },
  {
   "cell_type": "markdown",
   "metadata": {},
   "source": [
    "16. Prime number.\n",
    "    Number is not divisible by any number other than 1 and itself"
   ]
  },
  {
   "cell_type": "code",
   "execution_count": 172,
   "metadata": {},
   "outputs": [
    {
     "data": {
      "text/plain": [
       "False"
      ]
     },
     "execution_count": 172,
     "metadata": {},
     "output_type": "execute_result"
    }
   ],
   "source": [
    "def prime(num):\n",
    "    for i in range(2,num//2+1):\n",
    "        if num%i==0:\n",
    "            return False\n",
    "    else:\n",
    "        return True\n",
    "    \n",
    "prime(6)"
   ]
  },
  {
   "cell_type": "markdown",
   "metadata": {},
   "source": [
    "17. Reverse a string."
   ]
  },
  {
   "cell_type": "code",
   "execution_count": 173,
   "metadata": {},
   "outputs": [
    {
     "name": "stdout",
     "output_type": "stream",
     "text": [
      "...si eman ym\n"
     ]
    }
   ],
   "source": [
    "s=\"my name is...\"\n",
    "    \n",
    "reverse=s[::-1]\n",
    "print(reverse)"
   ]
  },
  {
   "cell_type": "markdown",
   "metadata": {},
   "source": [
    "18. Reverse a number."
   ]
  },
  {
   "cell_type": "code",
   "execution_count": 174,
   "metadata": {},
   "outputs": [
    {
     "name": "stdout",
     "output_type": "stream",
     "text": [
      "reverse 4321\n"
     ]
    }
   ],
   "source": [
    "num=1234\n",
    "nums=str(num)\n",
    "print(\"reverse :\",int(nums[::-1]))"
   ]
  },
  {
   "cell_type": "markdown",
   "metadata": {},
   "source": [
    "19. Check Palindrome number"
   ]
  },
  {
   "cell_type": "code",
   "execution_count": 181,
   "metadata": {},
   "outputs": [
    {
     "name": "stdout",
     "output_type": "stream",
     "text": [
      "True\n"
     ]
    }
   ],
   "source": [
    "num=1221\n",
    "numstr=str(num)\n",
    "if num==int(numstr[::-1]):\n",
    "    print(\"True\")\n",
    "else:\n",
    "    print(\"false\")"
   ]
  },
  {
   "cell_type": "markdown",
   "metadata": {},
   "source": [
    "20. Check Palindrome string."
   ]
  },
  {
   "cell_type": "code",
   "execution_count": 183,
   "metadata": {},
   "outputs": [
    {
     "data": {
      "text/plain": [
       "False"
      ]
     },
     "execution_count": 183,
     "metadata": {},
     "output_type": "execute_result"
    }
   ],
   "source": [
    "def palindrome(s):\n",
    "    if s==s[::-1]:\n",
    "        return True\n",
    "    else:\n",
    "        return False\n",
    "     \n",
    "palindrome(\"niti0n\")\n"
   ]
  },
  {
   "cell_type": "markdown",
   "metadata": {},
   "source": [
    "21.Permutation and Combination Program\n",
    "\n",
    "Take a number from user. Print highest number possible using all digits once from given number "
   ]
  },
  {
   "cell_type": "code",
   "execution_count": 30,
   "metadata": {},
   "outputs": [
    {
     "name": "stdout",
     "output_type": "stream",
     "text": [
      "[6, 5, 4, 4]\n"
     ]
    }
   ],
   "source": [
    "# enter=input(\"enter the number :\")\n",
    "enter ='4564'\n",
    "enter_list=list(enter)\n",
    "sort_num=(list(map(int,enter_list)))\n",
    "sort_num.sort(reverse=True)\n",
    "print(sort_num)\n",
    "\n"
   ]
  },
  {
   "cell_type": "markdown",
   "metadata": {},
   "source": [
    "22 Pattern Programs --> star patterns"
   ]
  },
  {
   "cell_type": "markdown",
   "metadata": {},
   "source": [
    "23 print table of any given number \n",
    "    2,4,6,8,10,12,14,16,18,20"
   ]
  },
  {
   "cell_type": "code",
   "execution_count": 31,
   "metadata": {},
   "outputs": [
    {
     "name": "stdout",
     "output_type": "stream",
     "text": [
      "5 * 1 = 5\n",
      "5 * 2 = 10\n",
      "5 * 3 = 15\n",
      "5 * 4 = 20\n",
      "5 * 5 = 25\n",
      "5 * 6 = 30\n",
      "5 * 7 = 35\n",
      "5 * 8 = 40\n",
      "5 * 9 = 45\n",
      "5 * 10 = 50\n"
     ]
    }
   ],
   "source": [
    "k=5\n",
    "for i in range(1,11):\n",
    "    print(k,'*',i,'=',k*i)"
   ]
  },
  {
   "cell_type": "markdown",
   "metadata": {},
   "source": [
    "24 WAP for doing bubble sort of given numbers"
   ]
  },
  {
   "cell_type": "code",
   "execution_count": 47,
   "metadata": {},
   "outputs": [
    {
     "data": {
      "text/plain": [
       "[1, 4, 5, 7, 9]"
      ]
     },
     "execution_count": 47,
     "metadata": {},
     "output_type": "execute_result"
    }
   ],
   "source": [
    "a1=[5,4,7,9,1]\n",
    "for i in range(0,len(a1)):\n",
    "    for j in range(1,len(a1)-i):\n",
    "        if a1[j-1]>a1[j]:\n",
    "            a1[j-1],a1[j]=a1[j],a1[j-1]\n",
    "a1"
   ]
  },
  {
   "cell_type": "markdown",
   "metadata": {},
   "source": [
    "25 Write a  program to add and multiply two binary numbers"
   ]
  },
  {
   "cell_type": "code",
   "execution_count": null,
   "metadata": {},
   "outputs": [],
   "source": []
  },
  {
   "cell_type": "code",
   "execution_count": null,
   "metadata": {},
   "outputs": [],
   "source": []
  },
  {
   "cell_type": "code",
   "execution_count": null,
   "metadata": {},
   "outputs": [],
   "source": [
    "#easy\n",
    "Write a  program to print the area and perimeter of a circle\n",
    " Write a  program that takes three numbers as input to calculate and print the average of the numbers.\n",
    "Write a  program and compute the sum of the digits of an integer. \n",
    "\n",
    "Write a  program to swap two variables\n",
    "a. by using a temporary variable\n",
    "b. using arithmatic operation and not using a variable\n",
    "c. without using variable ( using python unpacking syntax)\n",
    "\n",
    "\n"
   ]
  },
  {
   "cell_type": "code",
   "execution_count": null,
   "metadata": {},
   "outputs": [],
   "source": [
    "\n",
    "\n",
    "\n",
    "\n",
    "\n",
    "\n",
    "WAP to convert decimal no to binary without using builtin methods\n",
    "\n",
    "WAP to calculate distance between two points\n",
    "\n",
    "WAP  to count the letters, spaces, numbers and other characters of an input string. \n",
    "\n",
    "WAP  to print the ascii value of a given character\n",
    "\n",
    "WAP that accepts an integer (n) and computes the value of n+n*n+n*n*n.\n",
    "\n",
    "WAP to find the size of a specified file.\n",
    "\n",
    "WAP to display the system time.\n",
    "\n",
    "WAP to display the current date time in specific format.\n",
    "\n",
    "WAP to accepts an integer and count the factors of the number. \n",
    "\n",
    "WAP to capitalize the first letter of each word in input sentence.\n",
    "\n",
    "WAP to find the penultimate (last but one) word of a sentence.\n",
    "\n",
    "WAP to check if input is 4 digit number and less than 3000\n",
    "\n",
    "WAP to find second last maximum value\n",
    "\n",
    "WAP to find second last minimum value\n",
    "\n",
    "WAP to find number in a list which is repeated exactly 'n' times\n",
    "\n",
    "WAP to insert a word in the middle of the another string. \n",
    "    EX. Insert \"Tutorial\" in the middle of \"Python 3.9\", so result will be Python Tutorial 3.9\n",
    "\n",
    "WAP to extract the first half of a given string\n",
    "\n",
    "WAP to create a string in the form short_string + long_string + short_string from two strings. Give error if strings same length.\n",
    "\n",
    "WAP  to create the concatenation of the two strings except removing the first character of each string. The length of the strings must be 1 and above\n",
    "\n",
    "WAP to create a new string taking first three characters from a given string. If the length of the given string is less than 3 use \"#\" as substitute characters\n",
    "\n",
    "WAP to take file name with any extension as input. Print name and extension of the file name seperately.\n",
    "    ex. my_photo.png    --> name : my_photo ext: png\n",
    "        myfile.docx     --> name: myfile  ext: docx\n",
    "        1.gz            --> name: 1  ext:gz\n",
    "\n",
    "WAP to check if a string starts with a specified word. \n",
    "Sample Data: string1 = \"Hello how are you?\"\n",
    "word = \"Hello\"\n",
    "Sample Output: True\n",
    "\n",
    "WAP to sort array of strings based on alphabetical order of second character of each string. Assume all strings are minimum 2 character long\n",
    "\n",
    "WAP to find all strings in an array of strings which end with \"g\" or start with \"p\"\n",
    "\n",
    "WAP  start with an input integer n, divide n by 2 if n is even or multiply by 3 and add 1 if n is odd, repeat the process until n = 1.\n",
    "\n",
    "WAP to test if 10 appears as either the first or last element of an array of integers. The length of the array must be greater than or equal to 2.\n",
    "\n",
    "WAP to test if the first or the last element of two array of integers are same. The length of the array must be greater than or equal to 2.\n",
    "\n",
    "WAP to merge two arrays into a single array. First element from first array then first from second array like wise. \n",
    "\n",
    "WAP to do right shift on given integer.\n",
    "    Ex. val = 1234 after right shift\n",
    "        right_shifted_val = 4123\n",
    "\n",
    "WAP to do left shift on given integer.\n",
    "    Ex. val = 1234 after right shift\n",
    "        left_shifted_val = 2341\n",
    "\n",
    "\n",
    "WAP to read an integer and calculate the sum of its digits and write the number of each digit of the sum in English.\n",
    "    Ex. 1234 --> output \"One Zero\"\n",
    "        999999999999 --> output \"One Zero Eight\"\n",
    "\n",
    "\n",
    "WAP given a list of numbers create two lists one which contains all numbers divisible by 5 and another list for remaining numbers\n",
    "\n",
    "WAP to count the number of even and odd elements in a given array of integers.\n",
    "\n",
    "WAP to check if an array of integers contains two consecutive occurances of 10 or 20 but not both\n",
    "    ex. [10,30,50,10,10 ]  --> True\n",
    "        [20,20,89,67] --> True\n",
    "        [10,10,20,20] --> False\n",
    "        [23,10,34,10,56] --> False\n",
    "        [23,20,34,20,56] --> False\n",
    "\n",
    "\n",
    "\n",
    "WAP to find unique numbers in an array and count their occurance.\n",
    "\n",
    "WAP to find unique words in a sentence and count their occurance.\n",
    "\n",
    "WAP to find unique characters in a sentence and count their occurance.\n",
    "\n",
    "WAP to check if an array of integers contains three increasing adjacent numbers\n",
    "    ex. [1,3,5,2,5] --> True\n",
    "        [1,1,4,2,67,5] --> False\n",
    "        [1,9,2,67,100,124,34] --> True\n",
    "\n",
    "\n",
    "\n",
    "########################################################\n",
    "Advanced  Programs\n",
    "########################################################\n",
    "\n",
    "WAP to print first 100 prime numbers\n",
    "\n",
    "WAP to find the number of values in a given range divisible by a given value.\n",
    "\n",
    "Take a date as input from user, find number of days from 1st january 2000\n",
    "\n",
    " DataBase Connectivity Program\n",
    "\n",
    "Transpose of a Matrix Program\n",
    "\n",
    "Binary Search Program in python\n",
    "\n",
    "insertion sort\n",
    "\n",
    "HeapSort Program in python\n",
    "\n",
    "Removing Elements from List one by one\n",
    "\n",
    "\n",
    "\n",
    "LinkedList Program in Python\n",
    "\n",
    "Circular LinkedList Program in  python \n",
    "\n",
    "implement stack in python\n",
    "\n",
    "implement queue\n",
    "\n",
    "implement heapsort\n",
    "\n",
    "WAP to check paranthesis right and left in input string, and tell the location where the paranthesis is missing\n",
    "\n",
    "WAP to create and display all possible unique three-digit numbers using 1, 2, 3, 4. Also count how many three-digit numbers are there\n",
    "\n",
    "WAP to calculate without using library function number of days between two dates\n",
    "(Hint : think about leap years between those dates)\n",
    "\n",
    "WAP to rearrange all the elements of a given array of integers so that all the odd numbers come before all the even numbers.\n",
    "\n",
    "\n",
    "WAP  to measure how long some code takes to execute in seconds.\n",
    "\n",
    "WAP given a list of numbers create two lists one which contains all numbers divisible by 5 and another list for remainder values from devision with 5 for numbers which are not completely divisible by 5\n",
    "\n",
    "WAP to sort array of strings based on alphabetical order of second character of each string. Add \"#\" in begining of all strings which contain only one char and add two \"@\" for empty strings. Then sort the array.\n",
    "\n",
    "\n",
    "\n",
    "######################################\n",
    "\n",
    "Check  version\n"
   ]
  },
  {
   "cell_type": "code",
   "execution_count": 80,
   "metadata": {},
   "outputs": [
    {
     "data": {
      "text/plain": [
       "['a', 'c', 'c']"
      ]
     },
     "execution_count": 80,
     "metadata": {},
     "output_type": "execute_result"
    }
   ],
   "source": [
    "#binary addition\n",
    "a=bin(20)[2:]\n",
    "b=bin(11)[2:]\n",
    "c=0\n",
    "if len(a)!=len(b):\n",
    "    if len(a)>len(b):\n",
    "        b=(len(a)-len(b))*'0'+b\n",
    "    else:\n",
    "        a=(len(a)-len(b))*'0'+a\n",
    "\n",
    "ans=[]\n",
    "carry=0\n",
    "for x,y in zip(a[::-1],b[::-1]):\n",
    "    i,j=int(x),int(y)\n",
    "    if (i+j+c)==0 or (i+j+c)==1:\n",
    "        ans.append(i+j+carry)\n",
    "        carry=0\n",
    "    elif (i+j+carry)==2:\n",
    "        ans.append(0)\n",
    "        carry=1 \n",
    "    else:\n",
    "        ans.append(1)\n",
    "        carry=1\n",
    "        print(ans[::-1])\n",
    "if carry==1:\n",
    "    ans.append(1)\n",
    "    \n",
    "print(ans[::-1])"
   ]
  }
 ],
 "metadata": {
  "kernelspec": {
   "display_name": "Python 3",
   "language": "python",
   "name": "python3"
  },
  "language_info": {
   "codemirror_mode": {
    "name": "ipython",
    "version": 3
   },
   "file_extension": ".py",
   "mimetype": "text/x-python",
   "name": "python",
   "nbconvert_exporter": "python",
   "pygments_lexer": "ipython3",
   "version": "3.7.4"
  }
 },
 "nbformat": 4,
 "nbformat_minor": 5
}
