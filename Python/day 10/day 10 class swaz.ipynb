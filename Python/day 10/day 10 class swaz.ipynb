{
 "cells": [
  {
   "cell_type": "code",
   "execution_count": 4,
   "metadata": {},
   "outputs": [
    {
     "name": "stdout",
     "output_type": "stream",
     "text": [
      "1100\n"
     ]
    }
   ],
   "source": [
    "bal=1000\n",
    "def deposit(n):\n",
    "    global bal\n",
    "    bal=bal+n\n",
    "deposit(100)\n",
    "print(bal)"
   ]
  },
  {
   "cell_type": "code",
   "execution_count": 6,
   "metadata": {},
   "outputs": [
    {
     "name": "stdout",
     "output_type": "stream",
     "text": [
      "2500\n"
     ]
    }
   ],
   "source": [
    "bal=2000\n",
    "def deposit(n):\n",
    "    bal_local=bal\n",
    "    bal_local=bal_local+n\n",
    "    return bal_local\n",
    "bal=deposit(500)\n",
    "print(bal)"
   ]
  },
  {
   "cell_type": "code",
   "execution_count": 31,
   "metadata": {},
   "outputs": [
    {
     "name": "stdout",
     "output_type": "stream",
     "text": [
      "100\n"
     ]
    }
   ],
   "source": [
    "def outside():\n",
    "    v1=100\n",
    "    v2=200\n",
    "    \n",
    "    def inner_func():\n",
    "        print(v1)\n",
    "    inner_func()\n",
    "outside()"
   ]
  },
  {
   "cell_type": "code",
   "execution_count": 13,
   "metadata": {},
   "outputs": [
    {
     "name": "stdout",
     "output_type": "stream",
     "text": [
      "[1, 1, 1, 0, 0, 0, 2]\n",
      "[1, 1, 1, 0, 0, 0, 2]\n"
     ]
    }
   ],
   "source": [
    "words = ['have',\"has\",\"want\",\"def\",\"function\",\"word\",\"aa\"]\n",
    "def count_a_occ(str1):\n",
    "    return str1.count('a')\n",
    "a_count = map(count_a_occ, words)\n",
    "print(list(a_count))\n",
    "a_count = map(lambda word: word.count('a'), words)\n",
    "print(list(a_count))"
   ]
  }
 ],
 "metadata": {
  "kernelspec": {
   "display_name": "Python 3",
   "language": "python",
   "name": "python3"
  },
  "language_info": {
   "codemirror_mode": {
    "name": "ipython",
    "version": 3
   },
   "file_extension": ".py",
   "mimetype": "text/x-python",
   "name": "python",
   "nbconvert_exporter": "python",
   "pygments_lexer": "ipython3",
   "version": "3.7.4"
  }
 },
 "nbformat": 4,
 "nbformat_minor": 5
}
